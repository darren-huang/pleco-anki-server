{
 "cells": [
  {
   "cell_type": "code",
   "execution_count": null,
   "metadata": {
    "vscode": {
     "languageId": "plaintext"
    }
   },
   "outputs": [],
   "source": [
    "# Create all part of speech kewords\n",
    "\n",
    "\n",
    "# import regex as re\n",
    "# import json\n",
    "\n",
    "# # Load the formatted backs from the JSON file\n",
    "# with open('all_formatted_backs.json', 'r') as file:\n",
    "#     all_formatted_backs = json.load(file)\n",
    "\n",
    "# keywords = set()\n",
    "# pattern = re.compile(r'<span style=\"font-size:0.80em;\"><span style=\"color:#B4B4B4;\">(.*?)</span></span>')\n",
    "\n",
    "# for formatted_back in all_formatted_backs:\n",
    "#     matches = pattern.findall(formatted_back)\n",
    "#     keywords.update(matches)\n",
    "\n",
    "# # Convert the set to a list since sets are not JSON serializable\n",
    "# keywords_list = list(keywords)\n",
    "\n",
    "# # Save the list to a JSON file\n",
    "# with open('part_of_speech_keywords.json', 'w') as file:\n",
    "#     json.dump(keywords_list, file)"
   ]
  }
 ],
 "metadata": {
  "language_info": {
   "name": "python"
  }
 },
 "nbformat": 4,
 "nbformat_minor": 2
}
