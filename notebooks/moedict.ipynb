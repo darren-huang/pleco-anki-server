{
 "cells": [
  {
   "cell_type": "markdown",
   "metadata": {},
   "source": [
    "# download\n",
    "dowloaded from https://language.moe.gov.tw/001/Upload/Files/site_content/M0001/respub/index.html"
   ]
  },
  {
   "cell_type": "code",
   "execution_count": 1,
   "metadata": {},
   "outputs": [
    {
     "name": "stdout",
     "output_type": "stream",
     "text": [
      "Collecting xlrd3\n",
      "  Using cached xlrd3-1.1.0-py2.py3-none-any.whl.metadata (4.7 kB)\n",
      "Using cached xlrd3-1.1.0-py2.py3-none-any.whl (105 kB)\n",
      "Installing collected packages: xlrd3\n",
      "Successfully installed xlrd3-1.1.0\n",
      "\n",
      "\u001b[1m[\u001b[0m\u001b[34;49mnotice\u001b[0m\u001b[1;39;49m]\u001b[0m\u001b[39;49m A new release of pip is available: \u001b[0m\u001b[31;49m24.3.1\u001b[0m\u001b[39;49m -> \u001b[0m\u001b[32;49m25.0.1\u001b[0m\n",
      "\u001b[1m[\u001b[0m\u001b[34;49mnotice\u001b[0m\u001b[1;39;49m]\u001b[0m\u001b[39;49m To update, run: \u001b[0m\u001b[32;49mpip install --upgrade pip\u001b[0m\n"
     ]
    }
   ],
   "source": [
    "!pip install xlrd3"
   ]
  },
  {
   "cell_type": "code",
   "execution_count": 2,
   "metadata": {},
   "outputs": [
    {
     "name": "stdout",
     "output_type": "stream",
     "text": [
      "Sheet name: 1131225新機_辭典匯出\n"
     ]
    }
   ],
   "source": [
    "import xlrd3\n",
    "\n",
    "# Open the Excel file\n",
    "file_path = 'dict_revised_2015_20241225.xlsx'\n",
    "workbook = xlrd3.open_workbook(file_path)\n",
    "\n",
    "# Access the first sheet\n",
    "sheet = workbook.sheet_by_index(0)\n",
    "\n",
    "# Print the sheet name\n",
    "print(f\"Sheet name: {sheet.name}\")"
   ]
  },
  {
   "cell_type": "code",
   "execution_count": 3,
   "metadata": {},
   "outputs": [
    {
     "name": "stdout",
     "output_type": "stream",
     "text": [
      "Row count: 163785\n"
     ]
    }
   ],
   "source": [
    "row_count = sheet.nrows\n",
    "print(f\"Row count: {row_count}\")"
   ]
  },
  {
   "cell_type": "code",
   "execution_count": 5,
   "metadata": {},
   "outputs": [
    {
     "name": "stdout",
     "output_type": "stream",
     "text": [
      "First 1000 rows written to first_1000_rows.json\n"
     ]
    }
   ],
   "source": [
    "import json\n",
    "\n",
    "# Extract the first 1000 rows (excluding the header row)\n",
    "data = []\n",
    "first_row = sheet.row_values(0)\n",
    "for row_idx in range(1, min(1001, row_count)):  # Start from 1 to skip the header\n",
    "    row_data = sheet.row_values(row_idx)\n",
    "    data.append(dict(zip(first_row, row_data)))\n",
    "\n",
    "# Write the data to a JSON file\n",
    "output_file = 'first_1000_rows.json'\n",
    "with open(output_file, 'w', encoding='utf-8') as json_file:\n",
    "    json.dump(data, json_file, ensure_ascii=False, indent=4)\n",
    "\n",
    "print(f\"First 1000 rows written to {output_file}\")"
   ]
  },
  {
   "cell_type": "code",
   "execution_count": 6,
   "metadata": {},
   "outputs": [
    {
     "name": "stdout",
     "output_type": "stream",
     "text": [
      "All rows written to moedict.csv with only selected columns.\n"
     ]
    }
   ],
   "source": [
    "import csv\n",
    "\n",
    "# Get the indices of the columns we care about\n",
    "columns_to_extract = ['字詞名', '釋義']\n",
    "indices_to_extract = [first_row.index(col) for col in columns_to_extract]\n",
    "\n",
    "# Open a CSV file for writing\n",
    "csv_output_file = 'moedict.csv'\n",
    "with open(csv_output_file, 'w', encoding='utf-8', newline='') as csv_file:\n",
    "    writer = csv.writer(csv_file)\n",
    "    \n",
    "    # Write the header row\n",
    "    writer.writerow(columns_to_extract)\n",
    "    \n",
    "    # Write the data rows\n",
    "    for row_idx in range(1, row_count):  # Start from 1 to skip the header\n",
    "        row_data = sheet.row_values(row_idx)\n",
    "        filtered_row = [row_data[idx] for idx in indices_to_extract]\n",
    "        writer.writerow(filtered_row)\n",
    "\n",
    "print(f\"All rows written to {csv_output_file} with only selected columns.\")"
   ]
  },
  {
   "cell_type": "code",
   "execution_count": 7,
   "metadata": {},
   "outputs": [
    {
     "data": {
      "text/plain": [
       "163785"
      ]
     },
     "execution_count": 7,
     "metadata": {},
     "output_type": "execute_result"
    }
   ],
   "source": [
    "row_count"
   ]
  },
  {
   "cell_type": "code",
   "execution_count": null,
   "metadata": {},
   "outputs": [],
   "source": []
  }
 ],
 "metadata": {
  "kernelspec": {
   "display_name": "venv (3.12.8)",
   "language": "python",
   "name": "python3"
  },
  "language_info": {
   "codemirror_mode": {
    "name": "ipython",
    "version": 3
   },
   "file_extension": ".py",
   "mimetype": "text/x-python",
   "name": "python",
   "nbconvert_exporter": "python",
   "pygments_lexer": "ipython3",
   "version": "3.12.8"
  }
 },
 "nbformat": 4,
 "nbformat_minor": 2
}
