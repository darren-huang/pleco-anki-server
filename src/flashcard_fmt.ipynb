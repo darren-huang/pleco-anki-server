{
 "cells": [
  {
   "cell_type": "code",
   "execution_count": 36,
   "metadata": {},
   "outputs": [
    {
     "name": "stdout",
     "output_type": "stream",
     "text": [
      "Loading credentials from token.json\n"
     ]
    }
   ],
   "source": [
    "%run sandbox.ipynb"
   ]
  },
  {
   "cell_type": "code",
   "execution_count": 37,
   "metadata": {},
   "outputs": [
    {
     "name": "stdout",
     "output_type": "stream",
     "text": [
      "Anki sync successful.\n",
      "Total cards found in 'Pleco Import': 1659\n",
      "success\n",
      "Latest flashcard xml last modified time: 2025-01-02 12:17:32 EST-0500\n",
      "1648 flashcard entries found| 1 error entries found\n"
     ]
    }
   ],
   "source": [
    "main()"
   ]
  },
  {
   "cell_type": "code",
   "execution_count": 108,
   "metadata": {},
   "outputs": [],
   "source": [
    "import json\n",
    "\n",
    "with open('flashcard_entries.json', 'r') as file:\n",
    "    flashcard_entries = json.load(file)\n"
   ]
  },
  {
   "cell_type": "code",
   "execution_count": 102,
   "metadata": {},
   "outputs": [
    {
     "data": {
      "text/plain": [
       "{'simplified': '心电感应',\n",
       " 'traditional': '心電感應',\n",
       " 'pinyin': 'xīn diàn gǎn yìng',\n",
       " 'definition': 'telepathy',\n",
       " 'dictid': 'PCED',\n",
       " 'formatted_back': '<div align=\"left\"><p><span style=\"font-size:32px\";>心電感應〔心电感应〕</span><br>\\n<span style=\"color:#B4B4B4;\"><b><span style=\"font-size:0.80em;\">PY </span></b></span><span style=\"color:#E30000;\"><span style=\"font-weight:600;\">xīn</span></span><span style=\"font-weight:600;\"><span style=\"color:#8900BF;\">diàn</span></span><span style=\"font-weight:600;\"><span style=\"color:#1510F0;\">gǎn</span></span><span style=\"font-weight:600;\"><span style=\"color:#8900BF;\">yìng</span></span></p>\\n</div><div align=\"left\"><p>telepathy</p>\\n</div><plecoentry c=\"00000000\" d=\"50434544\" e=\"01d97500\" x=\"-1\"/>'}"
      ]
     },
     "execution_count": 102,
     "metadata": {},
     "output_type": "execute_result"
    }
   ],
   "source": [
    "flashcard_entries[1]"
   ]
  },
  {
   "cell_type": "code",
   "execution_count": 103,
   "metadata": {},
   "outputs": [],
   "source": [
    "from enum import Enum\n",
    "\n",
    "\n",
    "class ToneColor(Enum):\n",
    "    RED = \"#E30000\"\n",
    "    GREEN = \"#02B31C\"\n",
    "    PURPLE = \"#8900BF\"\n",
    "    BLUE = \"#1510F0\"\n",
    "    GREY = \"#777777\"  # Neutral tone\n",
    "\n",
    "\n",
    "def get_pinyin_color(pinyin):\n",
    "    tone_map = {\n",
    "        \"āēīōūǖ\": ToneColor.RED,\n",
    "        \"áéíóúǘ\": ToneColor.GREEN,\n",
    "        \"ǎěǐǒǔǚ\": ToneColor.BLUE,\n",
    "        \"àèìòùǜ\": ToneColor.PURPLE,\n",
    "    }\n",
    "\n",
    "    tone_color = ToneColor.GREY  # Default to neutral tone\n",
    "    for chars, t in tone_map.items():\n",
    "        if any(char in pinyin for char in chars):\n",
    "            tone_color = t\n",
    "            break\n",
    "\n",
    "    return tone_color.value"
   ]
  },
  {
   "cell_type": "code",
   "execution_count": 104,
   "metadata": {},
   "outputs": [],
   "source": [
    "def fmt_entry(entry):\n",
    "    traditional = entry.get(\"traditional\", \"\")\n",
    "    simplified = entry.get(\"simplified\", \"\")\n",
    "    pinyin = entry.get(\"pinyin\", \"\")\n",
    "    definition = entry.get(\"definition\", \"\")\n",
    "    simplified_hint = f\"〔{simplified}〕\" if traditional != simplified else \"\"\n",
    "\n",
    "    formatted_back = \"\"\n",
    "    formatted_back += f'<div align=\"left\"><p><span style=\"font-size:32px\">{traditional}{simplified_hint}</span><br/>\\n'\n",
    "    formatted_back += '<span style=\"color:#B4B4B4;\"><b><span style=\"font-size:0.80em;\">PY </span></b></span>'\n",
    "    for p in pinyin.split(\" \"):\n",
    "        if \"//\" in p:\n",
    "            p = p.replace(\"//\", \"\")\n",
    "            formatted_back += '<span style=\"font-weight:600;\">//</span>'\n",
    "        formatted_back += f'<span style=\"color:{get_pinyin_color(p)};\"><span style=\"font-weight:600;\">{p}</span></span>'\n",
    "\n",
    "    return formatted_back"
   ]
  },
  {
   "cell_type": "code",
   "execution_count": 105,
   "metadata": {},
   "outputs": [
    {
     "name": "stdout",
     "output_type": "stream",
     "text": [
      "<span style=\"color:#FF0000;\"><span style=\"font-weight:600;\">Text</span></span>\n"
     ]
    }
   ],
   "source": [
    "from bs4 import BeautifulSoup\n",
    "\n",
    "def reorder_nested_spans(html_text):\n",
    "    # Parse the HTML text\n",
    "    soup = BeautifulSoup(f\"<root>{html_text}</root>\", 'html.parser')\n",
    "\n",
    "    # Find all span elements\n",
    "    spans = soup.find_all('span')\n",
    "\n",
    "    for span in spans:\n",
    "        style = span.get('style', '')\n",
    "        if 'font-weight' in style:\n",
    "            nested_span = span.find('span')\n",
    "            if nested_span is not None:\n",
    "                nested_style = nested_span.get('style', '')\n",
    "                if 'color' in nested_style:\n",
    "                    # Swap the styles\n",
    "                    span['style'], nested_span['style'] = nested_span['style'], span['style']\n",
    "        \n",
    "        if \";\" in spans[0].attrs:\n",
    "            del spans[0].attrs[\";\"]\n",
    "\n",
    "    # Convert the soup back to a string\n",
    "    return str(soup).replace('<root>', '').replace('</root>', '')\n",
    "\n",
    "# Example usage\n",
    "html_text = '<span style=\"font-weight:600;\"><span style=\"color:#FF0000;\">Text</span></span>'\n",
    "reordered_html = reorder_nested_spans(html_text)\n",
    "print(reordered_html)\n"
   ]
  },
  {
   "cell_type": "code",
   "execution_count": 113,
   "metadata": {},
   "outputs": [],
   "source": [
    "def drop(arr, to_drop):\n",
    "    arr = arr.copy()\n",
    "    for i in to_drop:\n",
    "        arr.pop(i)\n",
    "    return arr\n",
    "\n",
    "def grade_fmt_entry(flashcard_entries, n_error_char_show=10, to_drop=[]):\n",
    "    flashcard_entries = drop(flashcard_entries, to_drop)\n",
    "    correct_count = 0\n",
    "    length_diff_count = 0\n",
    "    for i, entry in enumerate(flashcard_entries):\n",
    "        expected = entry['formatted_back']\n",
    "        expected = expected.replace(' ;=\"\"', \";\")\n",
    "        expected = reorder_nested_spans(expected)\n",
    "        result = fmt_entry(entry)\n",
    "        \n",
    "        if expected != result:\n",
    "            for j in range(min(len(expected), len(result))):\n",
    "                if expected[j] != result[j]:\n",
    "                    print(f\"Entry {i} differs at character {j}:\")\n",
    "                    print(f\"Exp: {repr(expected[j:j+n_error_char_show])}...\")\n",
    "                    print(f\"Got: {repr(result[j:j+n_error_char_show])}...\")\n",
    "                    break\n",
    "                    # return\n",
    "            else:\n",
    "                length_diff_count += 1\n",
    "                j = len(result)\n",
    "                # print(f\"{i}: {repr(expected[j:j+n_error_char_show])}...\")\n",
    "                continue\n",
    "        else:\n",
    "            correct_count += 1\n",
    "    print(f\"Total correct entries: {correct_count}\")\n",
    "    print(f\"Total entries differing only in length: {length_diff_count}\")"
   ]
  },
  {
   "cell_type": "code",
   "execution_count": 122,
   "metadata": {},
   "outputs": [
    {
     "name": "stdout",
     "output_type": "stream",
     "text": [
      "Entry 52 differs at character 319:\n",
      "Exp: 'font-weight:600;\"> </span><span style=\"color:#02B31C;\"><span style=\"font-weight:600;\">chén</span></span><span style=\"color:#8900BF;\"><span style=\"font-weight:600;\">mò</span></span></p>\\n</div><div align=\"left\"><p>remain silent</p>\\n</div><plecoentry c=\"00000000\" d=\"50414345\" e=\"04083eaa\" x=\"-1\"></plecoentry>'...\n",
      "Got: 'color:#02B31C;\"><span style=\"font-weight:600;\">chén</span></span><span style=\"color:#8900BF;\"><span style=\"font-weight:600;\">mò</span></span>'...\n",
      "Entry 68 differs at character 327:\n",
      "Exp: 'font-weight:600;\"> </span><span style=\"color:#E30000;\"><span style=\"font-weight:600;\">guāng</span></span><span style=\"color:#02B31C;\"><span style=\"font-weight:600;\">lín</span></span></p>\\n</div><div align=\"left\"><p>welcome (to)</p>\\n</div><plecoentry c=\"00000000\" d=\"50414345\" e=\"02881eb2\" x=\"-1\"></plecoentry>'...\n",
      "Got: 'color:#E30000;\"><span style=\"font-weight:600;\">guāng</span></span><span style=\"color:#02B31C;\"><span style=\"font-weight:600;\">lín</span></span>'...\n",
      "Entry 160 differs at character 320:\n",
      "Exp: 'font-weight:600;\">-</span><span style=\"color:#8900BF;\"><span style=\"font-weight:600;\">bù</span></span><span style=\"color:#02B31C;\"><span style=\"font-weight:600;\">jí</span></span></p>\\n</div><div align=\"left\"><p><b><span style=\"font-size:0.80em;\"><span style=\"color:#B4B4B4;\">IDIOM</span></span></b><br/>\\nbe caught unprepared; be caught unawares<br/>\\n</p>\\n<blockquote style=\"border-left: 2px solid #0078c3; margin-left: 3px; padding-left: 1em; margin-top: 0px; margin-bottom: 0px;\"><p><span style=\"color:#0078C3;\">打他個</span><span style=\"color:#0078C3;\"><b>措手不及</b></span><br/>\\n<span style=\"font-weight:600;\">Dǎ tā ge </span><b>cuòshǒubùjí</b><br/>\\nmake a surprise attack on them</p>\\n</blockquote>\\n</div><plecoentry c=\"00000000\" d=\"50414345\" e=\"01266700\" x=\"-1\"></plecoentry>'...\n",
      "Got: 'color:#8900BF;\"><span style=\"font-weight:600;\">-bù</span></span><span style=\"color:#02B31C;\"><span style=\"font-weight:600;\">jí</span></span>'...\n",
      "Entry 182 differs at character 209:\n",
      "Exp: 'en</span></span></p>\\n</div><div align=\"left\"><p>interjection indicating approval, appreciation or agreement</p>\\n</div><plecoentry c=\"00000000\" d=\"50434544\" e=\"0037fc00\" x=\"-1\"></plecoentry>'...\n",
      "Got: 'ng</span></span>'...\n",
      "Entry 197 differs at character 172:\n",
      "Exp: 'E30000;\"><span style=\"font-weight:600;\">mēn</span></span></p>\\n</div><div align=\"left\"><p><b><span style=\"font-size:0.80em;\"><span style=\"color:#B4B4B4;\">VERB</span></span></b><br/>\\n<b>1\\t</b>(of brewing tea, cooking, etc.) cover tightly<br/>\\n</p>\\n<blockquote style=\"border-left: 2px solid #0078c3; margin-left: 3px; padding-left: 1em; margin-top: 0px; margin-bottom: 0px;\"><p><b><span style=\"color:#0078C3;\">悶</span></b><span style=\"color:#0078C3;\">一會兒, 茶味兒就出來了。</span><br/>\\n<b>Mēn</b><span style=\"font-weight:600;\"> yīhuìr, chá wèir jiù chūlai le.</span><br/>\\nLet the tea steep a while and the flavour will come out.<br/>\\n</p>\\n</blockquote>\\n<p><b>2\\t</b>keep silent; say nothing; hold back<br/>\\n</p>\\n<blockquote style=\"border-left: 2px solid #0078c3; margin-left: 3px; padding-left: 1em; margin-top: 0px; margin-bottom: 0px;\"><p><span style=\"color:#0078C3;\">你有什麼事就說吧, 別</span><span style=\"color:#0078C3;\"><b>悶</b></span><span style=\"color:#0078C3;\">在心裡。</span><br/>\\n<span style=\"font-weight:600;\">Nǐ y'...\n",
      "Got: '8900BF;\"><span style=\"font-weight:600;\">mèn</span></span>'...\n",
      "Entry 212 differs at character 291:\n",
      "Exp: 'dun</span></span></p>\\n</div><div align=\"left\"><p><b>1\\t</b>wonton<br/>\\n<b>2\\t</b>Taiwan pr. [húndun]</p>\\n</div><plecoentry c=\"00000000\" d=\"50434544\" e=\"01cb1600\" x=\"-1\"></plecoentry>'...\n",
      "Got: 'tun</span></span>'...\n",
      "Entry 219 differs at character 325:\n",
      "Exp: 'font-weight:600;\"> </span><span style=\"color:#E30000;\"><span style=\"font-weight:600;\">jīng</span></span><span style=\"color:#8900BF;\"><span style=\"font-weight:600;\">jì</span></span></p>\\n</div><div align=\"left\"><p><b><span style=\"font-size:0.80em;\"><span style=\"color:#B4B4B4;\">NOUN</span></span></b><br/>\\nsocial economy</p>\\n</div><plecoentry c=\"00000000\" d=\"50414345\" e=\"042f02e3\" x=\"-1\"></plecoentry>'...\n",
      "Got: 'color:#E30000;\"><span style=\"font-weight:600;\">jīng</span></span><span style=\"color:#8900BF;\"><span style=\"font-weight:600;\">jì</span></span>'...\n",
      "Entry 263 differs at character 317:\n",
      "Exp: 'font-weight:600;\"> </span><span style=\"color:#02B31C;\"><span style=\"font-weight:600;\">Tán</span></span></p>\\n</div><div align=\"left\"><p>Sun Moon Lake in Nantou County, Taiwan</p>\\n</div><plecoentry c=\"00000000\" d=\"50434544\" e=\"007cc800\" x=\"-1\"></plecoentry>'...\n",
      "Got: 'color:#02B31C;\"><span style=\"font-weight:600;\">tán</span></span>'...\n",
      "Entry 296 differs at character 325:\n",
      "Exp: 'font-weight:600;\"> </span><span style=\"color:#02B31C;\"><span style=\"font-weight:600;\">liú</span></span><span style=\"color:#02B31C;\"><span style=\"font-weight:600;\">chéng</span></span></p>\\n</div><div align=\"left\"><p>technological process</p>\\n</div><plecoentry c=\"00000000\" d=\"50414345\" e=\"014abb00\" x=\"-1\"></plecoentry>'...\n",
      "Got: 'color:#02B31C;\"><span style=\"font-weight:600;\">liú</span></span><span style=\"color:#02B31C;\"><span style=\"font-weight:600;\">chéng</span></span>'...\n",
      "Entry 298 differs at character 317:\n",
      "Exp: 'font-weight:600;\"> </span><span style=\"color:#E30000;\"><span style=\"font-weight:600;\">huā</span></span><span style=\"color:#02B31C;\"><span style=\"font-weight:600;\">chá</span></span></p>\\n</div><div align=\"left\"><p>jasmine tea</p>\\n</div><plecoentry c=\"00000000\" d=\"50414345\" e=\"019c1500\" x=\"-1\"></plecoentry>'...\n",
      "Got: 'color:#E30000;\"><span style=\"font-weight:600;\">huā</span></span><span style=\"color:#02B31C;\"><span style=\"font-weight:600;\">chá</span></span>'...\n",
      "Entry 317 differs at character 319:\n",
      "Exp: 'font-weight:600;\">-</span><span style=\"color:#E30000;\"><span style=\"font-weight:600;\">gōng</span></span><span style=\"color:#8900BF;\"><span style=\"font-weight:600;\">bèi</span></span></p>\\n</div><div align=\"left\"><p><b><span style=\"font-size:0.80em;\"><span style=\"color:#B4B4B4;\">IDIOM</span></span></b><br/>\\nget twice the result with half the effort; efficient; effective</p>\\n</div><plecoentry c=\"00000000\" d=\"50414345\" e=\"01cd1000\" x=\"-1\"></plecoentry>'...\n",
      "Got: 'color:#E30000;\"><span style=\"font-weight:600;\">-gōng</span></span><span style=\"color:#8900BF;\"><span style=\"font-weight:600;\">bèi</span></span>'...\n",
      "Entry 330 differs at character 215:\n",
      "Exp: 'ǎi</span></span><span style=\"color:#8900BF;\"><span style=\"font-weight:600;\">jù</span></span></p>\\n</div><div align=\"left\"><p><b>1\\t</b>conveyance (car, boat, aircraft etc); vehicle<br/>\\n<b>2\\t</b>(fig.) medium; platform; vector<br/>\\n<b>3\\t</b>(Tw) (Taiwan pr. [zǎijù]) a consumer\\'s device (smart card or mobile app barcode etc) that can be scanned at checkout to save the receipt tǒngyīfāpiào [統一發票] to a cloud account</p>\\n</div><plecoentry c=\"00000000\" d=\"50434544\" e=\"0206fe00\" x=\"-1\"></plecoentry>'...\n",
      "Got: 'ài</span></span><span style=\"color:#8900BF;\"><span style=\"font-weight:600;\">jù</span></span>'...\n",
      "Entry 361 differs at character 325:\n",
      "Exp: 'font-weight:600;\"> </span><span style=\"color:#8900BF;\"><span style=\"font-weight:600;\">yì</span></span><span style=\"color:#8900BF;\"><span style=\"font-weight:600;\">yì</span></span></p>\\n</div><div align=\"left\"><p>implied meaning</p>\\n</div><plecoentry c=\"00000000\" d=\"50414345\" e=\"0493b2aa\" x=\"-1\"></plecoentry>'...\n",
      "Got: 'color:#8900BF;\"><span style=\"font-weight:600;\">yì</span></span><span style=\"color:#8900BF;\"><span style=\"font-weight:600;\">yì</span></span>'...\n",
      "Entry 369 differs at character 211:\n",
      "Exp: 'óu</span></span></p>\\n</div><div align=\"left\"><p><b><span style=\"font-size:0.80em;\"><span style=\"color:#B4B4B4;\">ADJECTIVE</span></span></b><br/>\\n<b>1\\t</b>ripe (opp. 生)<br/>\\n</p>\\n<blockquote style=\"border-left: 2px solid #0078c3; margin-left: 3px; padding-left: 1em; margin-top: 0px; margin-bottom: 0px;\"><p><span style=\"color:#0078C3;\">一年兩</span><span style=\"color:#0078C3;\"><b>熟</b></span><br/>\\n<span style=\"font-weight:600;\">yīniánliǎng</span><b>shú</b><br/>\\ntwo crops a year<br/>\\n</p>\\n</blockquote>\\n<blockquote style=\"border-left: 2px solid #0078c3; margin-left: 3px; padding-left: 1em; margin-top: 0px; margin-bottom: 0px;\"><p><span style=\"color:#0078C3;\">西紅柿</span><span style=\"color:#0078C3;\"><b>熟</b></span><span style=\"color:#0078C3;\">了。</span><br/>\\n<span style=\"font-weight:600;\">Xīhóngshì </span><b>shú</b><span style=\"font-weight:600;\"> le.</span><br/>\\nThe tomatoes are ripe.<br/>\\n</p>\\n</blockquote>\\n<p><b>2\\t</b>cooked; done (opp. 生)<br/>\\n</p>\\n<blockquote style=\"border-left: 2px solid #00'...\n",
      "Got: 'ú</span></span>'...\n",
      "Entry 432 differs at character 209:\n",
      "Exp: 'zhān</span></span></p>\\n</div><div align=\"left\"><p>\\nAlso a surname <br/>\\n<b>1\\t</b>(literary) verbose<br/>\\n<b>2\\t</b>(literary) to arrive, to reach</p>\\n</div><plecoentry c=\"00000000\" d=\"50434544\" e=\"00ec7400\" x=\"-1\"></plecoentry>'...\n",
      "Got: 'Zhān</span></span>'...\n",
      "Entry 437 differs at character 209:\n",
      "Exp: 'Gǎng</span></span></p>\\n</div><div align=\"left\"><p><b>1\\t</b>Hong Kong, abbr. for Xiānggǎng [香港]<br/>\\n<b>2\\t</b>surname Gang</p>\\n</div><plecoentry c=\"00000000\" d=\"50434544\" e=\"019f4b00\" x=\"-1\"></plecoentry>'...\n",
      "Got: 'gǎng</span></span>'...\n",
      "Entry 467 differs at character 172:\n",
      "Exp: '777777;\"><span style=\"font-weight:600;\">luo</span></span></p>\\n</div><div align=\"left\"><p><b><span style=\"font-size:0.80em;\"><span style=\"color:#B4B4B4;\">AUXILIARY</span></span></b><br/>\\n[at the end of a sentence to show an affirmative tone]<br/>\\n</p>\\n<blockquote style=\"border-left: 2px solid #0078c3; margin-left: 3px; padding-left: 1em; margin-top: 0px; margin-bottom: 0px;\"><p><span style=\"color:#0078C3;\">別擔心</span><span style=\"color:#0078C3;\"><b>囉</b></span><span style=\"color:#0078C3;\">！</span><br/>\\n<span style=\"font-weight:600;\">bié dānxīn </span><b>luo</b><span style=\"font-weight:600;\">!</span><br/>\\nYou don’t have to worry.</p>\\n</blockquote>\\n</div><plecoentry c=\"00000000\" d=\"50414345\" e=\"0192f400\" x=\"-1\"></plecoentry>'...\n",
      "Got: 'E30000;\"><span style=\"font-weight:600;\">luō</span></span>'...\n",
      "Entry 482 differs at character 169:\n",
      "Exp: '8900BF;\"><span style=\"font-weight:600;\">xiàng</span></span></p>\\n</div><div align=\"left\"><p><b><span style=\"font-size:0.80em;\"><span style=\"color:#B4B4B4;\">NOUN</span></span></b><br/>\\n<b>1\\t</b>looks; appearance<br/>\\n</p>\\n<blockquote style=\"border-left: 2px solid #0078c3; margin-left: 3px; padding-left: 1em; margin-top: 0px; margin-bottom: 0px;\"><p><span style=\"color:#0078C3;\">一副可憐</span><span style=\"color:#0078C3;\"><b>相</b></span><br/>\\n<span style=\"font-weight:600;\">yī fù kělián</span><b>xiàng</b><br/>\\na pitiful appearance; a sorry figure<br/>\\n</p>\\n</blockquote>\\n<p><b>2\\t</b>bearing; posture<br/>\\n</p>\\n<blockquote style=\"border-left: 2px solid #0078c3; margin-left: 3px; padding-left: 1em; margin-top: 0px; margin-bottom: 0px;\"><p><span style=\"color:#0078C3;\">站沒站</span><span style=\"color:#0078C3;\"><b>相</b></span><span style=\"color:#0078C3;\">, 坐沒坐</span><span style=\"color:#0078C3;\"><b>相</b></span><br/>\\n<span style=\"font-weight:600;\">zhàn méi zhàn </span><b>xiàng</b><span style=\"font-weight:6'...\n",
      "Got: 'E30000;\"><span style=\"font-weight:600;\">xiāng</span></span>'...\n",
      "Entry 485 differs at character 239:\n",
      "Exp: 'font-weight:600;\"> </span><span style=\"color:#E30000;\"><span style=\"font-weight:600;\">fān</span></span></p>\\n</div><div align=\"left\"><p><br/>\\n<b><span style=\"font-size:0.80em;\"><span style=\"color:#B4B4B4;\">NOUN</span></span></b><br/>\\none kind<br/>\\n</p>\\n<blockquote style=\"border-left: 2px solid #0078c3; margin-left: 3px; padding-left: 1em; margin-top: 0px; margin-bottom: 0px;\"><p><span style=\"color:#0078C3;\">別有</span><span style=\"color:#0078C3;\"><b>一般</b></span><span style=\"color:#0078C3;\">滋味</span><br/>\\n<span style=\"font-weight:600;\">bié yǒu </span><b>yībān</b><span style=\"font-weight:600;\"> zīwèi</span><br/>\\nhave some indescribable taste</p>\\n</blockquote>\\n</div><plecoentry c=\"00000000\" d=\"50414345\" e=\"04900aad\" x=\"-1\"></plecoentry>'...\n",
      "Got: 'color:#E30000;\"><span style=\"font-weight:600;\">fān</span></span>'...\n",
      "Entry 489 differs at character 290:\n",
      "Exp: '\\'ěr</span></span></p>\\n</div><div align=\"left\"><p><b><span style=\"font-size:0.80em;\"><span style=\"color:#B4B4B4;\">ADVERB</span></span></b><br/>\\nonce in a while; occasionally<br/>\\n</p>\\n<blockquote style=\"border-left: 2px solid #0078c3; margin-left: 3px; padding-left: 1em; margin-top: 0px; margin-bottom: 0px;\"><p><span style=\"color:#0078C3;\">我們</span><span style=\"color:#0078C3;\"><b>偶爾</b></span><span style=\"color:#0078C3;\">見面。</span><br/>\\n<span style=\"font-weight:600;\">Wǒmen </span><b>ǒu\\'ěr</b><span style=\"font-weight:600;\"> jiànmiàn.</span><br/>\\nWe see each other once in a while.<br/>\\n</p>\\n</blockquote>\\n<blockquote style=\"border-left: 2px solid #0078c3; margin-left: 3px; padding-left: 1em; margin-top: 0px; margin-bottom: 0px;\"><p><span style=\"color:#0078C3;\">她擅長山水畫, </span><span style=\"color:#0078C3;\"><b>偶爾</b></span><span style=\"color:#0078C3;\">也畫畫油畫。</span><br/>\\n<span style=\"font-weight:600;\">Tā shàncháng shānshuǐhuà, </span><b>ǒu\\'ěr</b><span style=\"font-weight:600;\"> yě huà huà yóuhuà'...\n",
      "Got: 'ěr</span></span>'...\n",
      "Entry 521 differs at character 169:\n",
      "Exp: '02B31C;\"><span style=\"font-weight:600;\">hú</span></span></p>\\n</div><div align=\"left\"><p><b><span style=\"font-size:0.80em;\"><span style=\"color:#B4B4B4;\">VERB</span></span></b><br/>\\nstick with paste; paste<br/>\\n</p>\\n<blockquote style=\"border-left: 2px solid #0078c3; margin-left: 3px; padding-left: 1em; margin-top: 0px; margin-bottom: 0px;\"><p><b><span style=\"color:#0078C3;\">糊</span></b><span style=\"color:#0078C3;\">窗戶</span><br/>\\n<b>Hú</b><span style=\"font-weight:600;\"> chuānghu</span><br/>\\npaste a sheet of paper over a lattice window or seal with paper the cracks around a window<br/>\\n</p>\\n</blockquote>\\n<p><br/>\\n<span style=\"color:#B4B4B4;\"><b><span style=\"font-size:0.80em;\">VARIANT OF </span></b></span>煳 hú<br/>\\n<b><span style=\"font-size:0.80em;\"><span style=\"color:#B4B4B4;\">VERB</span></span></b><br/>\\n(of food) be burnt<br/>\\n<b><span style=\"font-size:0.80em;\"><span style=\"color:#B4B4B4;\">NOUN</span></span></b><br/>\\ngruel; porridge; congee; mush</p>\\n</div><plecoentry c=\"00000000\" d=\"5041'...\n",
      "Got: 'E30000;\"><span style=\"font-weight:600;\">hū</span></span>'...\n",
      "Entry 525 differs at character 246:\n",
      "Exp: 'font-weight:600;\"> </span><span style=\"color:#E30000;\"><span style=\"font-weight:600;\">Zhōng</span></span><span style=\"color:#E30000;\"><span style=\"font-weight:600;\">shān</span></span></p>\\n</div><div align=\"left\"><p><b>1\\t</b>Dr Sun Yat-sen (1866-1925), first president of the Republic of China and co-founder of the Guomintang 國民黨<br/>\\n<b>2\\t</b>same as 孫逸仙</p>\\n</div><plecoentry c=\"00000000\" d=\"50434544\" e=\"004bfe00\" x=\"-1\"></plecoentry>'...\n",
      "Got: 'color:#E30000;\"><span style=\"font-weight:600;\">Zhōng</span></span><span style=\"color:#E30000;\"><span style=\"font-weight:600;\">shān</span></span>'...\n",
      "Entry 526 differs at character 325:\n",
      "Exp: 'font-weight:600;\">-</span><span style=\"color:#8900BF;\"><span style=\"font-weight:600;\">bù</span></span><span style=\"color:#8900BF;\"><span style=\"font-weight:600;\">sàn</span></span></p>\\n</div><div align=\"left\"><p><b><span style=\"font-size:0.80em;\"><span style=\"color:#B4B4B4;\">IDIOM</span></span></b><br/>\\n(let\\'s) not leave without seeing each other (said when making an appointment); be there or be square<br/>\\n</p>\\n<blockquote style=\"border-left: 2px solid #0078c3; margin-left: 3px; padding-left: 1em; margin-top: 0px; margin-bottom: 0px;\"><p><span style=\"color:#0078C3;\">兩點左右在大門口碰頭, </span><span style=\"color:#0078C3;\"><b>不見不散</b></span><span style=\"color:#0078C3;\">。</span><br/>\\n<span style=\"font-weight:600;\">liǎng diǎn zuǒyòu zài dàménkǒu pèngtóu, </span><b>bùjiànbùsàn</b><span style=\"font-weight:600;\">.</span><br/>\\nBe sure to be at the gate around two o’clock.</p>\\n</blockquote>\\n</div><plecoentry c=\"00000000\" d=\"50414345\" e=\"0111a700\" x=\"-1\"></plecoentry>'...\n",
      "Got: 'color:#8900BF;\"><span style=\"font-weight:600;\">-bù</span></span><span style=\"color:#8900BF;\"><span style=\"font-weight:600;\">sàn</span></span>'...\n",
      "Entry 561 differs at character 248:\n",
      "Exp: '1510F0;\"><span style=\"font-weight:600;\">děng</span></span></p>\\n</div><div align=\"left\"><p><b><span style=\"font-size:0.80em;\"><span style=\"color:#B4B4B4;\">AUXILIARY</span></span></b><br/>\\nand so on; and so on and so forth; etc.<br/>\\n</p>\\n<blockquote style=\"border-left: 2px solid #0078c3; margin-left: 3px; padding-left: 1em; margin-top: 0px; margin-bottom: 0px;\"><p><span style=\"color:#0078C3;\">標點符號有逗號, 句號, 冒號</span><span style=\"color:#0078C3;\"><b>等等</b></span><span style=\"color:#0078C3;\">。</span><br/>\\n<span style=\"font-weight:600;\">biāodiǎn fúhào yǒu dòuhào, jùhào, màohào </span><b>děngděng</b><span style=\"font-weight:600;\">.</span><br/>\\nPunctuation marks are commas, full stops, colons, etc.</p>\\n</blockquote>\\n</div><plecoentry c=\"00000000\" d=\"50414345\" e=\"012e2e00\" x=\"-1\"></plecoentry>'...\n",
      "Got: '777777;\"><span style=\"font-weight:600;\">deng</span></span>'...\n",
      "Entry 563 differs at character 172:\n",
      "Exp: '02B31C;\"><span style=\"font-weight:600;\">tiáo</span></span></p>\\n</div><div align=\"left\"><p><b><span style=\"font-size:0.80em;\"><span style=\"color:#B4B4B4;\">VERB</span></span></b><br/>\\n<b>1\\t</b>suit well; fit perfectly<br/>\\n</p>\\n<blockquote style=\"border-left: 2px solid #0078c3; margin-left: 3px; padding-left: 1em; margin-top: 0px; margin-bottom: 0px;\"><p><span style=\"color:#0078C3;\">失</span><span style=\"color:#0078C3;\"><b>調</b></span><br/>\\n<span style=\"font-weight:600;\">shī</span><b>tiáo</b><br/>\\nimbalance; dislocation; unbalanced; not fit<br/>\\n</p>\\n</blockquote>\\n<p><b>2\\t</b>mix; adjust<br/>\\n</p>\\n<blockquote style=\"border-left: 2px solid #0078c3; margin-left: 3px; padding-left: 1em; margin-top: 0px; margin-bottom: 0px;\"><p><b><span style=\"color:#0078C3;\">調</span></b><span style=\"color:#0078C3;\">房子</span><br/>\\n<b>tiáo</b><span style=\"font-weight:600;\"> fángzi</span><br/>\\nchange accommodations (usu. to improve conditions)<br/>\\n</p>\\n</blockquote>\\n<blockquote style=\"border-left: 2px solid #0'...\n",
      "Got: '8900BF;\"><span style=\"font-weight:600;\">diào</span></span>'...\n",
      "Entry 612 differs at character 291:\n",
      "Exp: '\\'àn</span></span></p>\\n</div><div align=\"left\"><p><b><span style=\"font-size:0.80em;\"><span style=\"color:#B4B4B4;\">VERB</span></span></b><br/>\\n<b>1\\t</b>handle a legal case<br/>\\n</p>\\n<blockquote style=\"border-left: 2px solid #0078c3; margin-left: 3px; padding-left: 1em; margin-top: 0px; margin-bottom: 0px;\"><p><span style=\"color:#0078C3;\">嚴格依法</span><span style=\"color:#0078C3;\"><b>辦案</b></span><br/>\\n<span style=\"font-weight:600;\">Yángé yīfǎ </span><b>bàn\\'àn</b><br/>\\nhandle cases strictly in accordance with the law<br/>\\n</p>\\n</blockquote>\\n<p><b>2\\t</b>apprehend (a criminal)</p>\\n</div><plecoentry c=\"00000000\" d=\"50414345\" e=\"01057a00\" x=\"-1\"></plecoentry>'...\n",
      "Got: 'àn</span></span>'...\n",
      "Entry 648 differs at character 241:\n",
      "Exp: 'font-weight:600;\"> </span><span style=\"color:#8900BF;\"><span style=\"font-weight:600;\">Ào</span></span></p>\\n</div><div align=\"left\"><p>Hong Kong Xiānggǎng [香港] and Macao Àomén [澳門]</p>\\n</div><plecoentry c=\"00000000\" d=\"50434544\" e=\"009d7c00\" x=\"-1\"></plecoentry>'...\n",
      "Got: 'color:#8900BF;\"><span style=\"font-weight:600;\">Aò</span></span>'...\n",
      "Entry 653 differs at character 169:\n",
      "Exp: '02B31C;\"><span style=\"font-weight:600;\">dié</span></span></p>\\n</div><div align=\"left\"><p><b>1\\t</b>to fall<br/>\\n<b>2\\t</b>to tumble<br/>\\n<b>3\\t</b>to trip<br/>\\n<b>4\\t</b>(of prices etc) to drop<br/>\\n<b>5\\t</b>Taiwan pr. [dié]</p>\\n</div><plecoentry c=\"00000000\" d=\"50434544\" e=\"01ca6c00\" x=\"-1\"></plecoentry>'...\n",
      "Got: 'E30000;\"><span style=\"font-weight:600;\">diē</span></span>'...\n",
      "Entry 664 differs at character 243:\n",
      "Exp: 'font-weight:600;\">-</span><span style=\"color:#8900BF;\"><span style=\"font-weight:600;\">xià</span></span><span style=\"color:#02B31C;\"><span style=\"font-weight:600;\">wén</span></span></p>\\n</div><div align=\"left\"><p><b><span style=\"font-size:0.80em;\"><span style=\"color:#B4B4B4;\">NOUN</span></span></b><br/>\\ncontext<br/>\\n</p>\\n<blockquote style=\"border-left: 2px solid #0078c3; margin-left: 3px; padding-left: 1em; margin-top: 0px; margin-bottom: 0px;\"><p><span style=\"color:#0078C3;\">根據</span><span style=\"color:#0078C3;\"><b>上下文</b></span><span style=\"color:#0078C3;\">確定詞義</span><br/>\\n<span style=\"font-weight:600;\">Gēnjù </span><b>shàngxiàwén</b><span style=\"font-weight:600;\"> quèdìng cíyì</span><br/>\\ntell the meaning of a word from its context<br/>\\n</p>\\n</blockquote>\\n<blockquote style=\"border-left: 2px solid #0078c3; margin-left: 3px; padding-left: 1em; margin-top: 0px; margin-bottom: 0px;\"><p><span style=\"color:#0078C3;\">脫離</span><span style=\"color:#0078C3;\"><b>上下文</b></span><span style=\"color:'...\n",
      "Got: 'color:#8900BF;\"><span style=\"font-weight:600;\">-xià</span></span><span style=\"color:#02B31C;\"><span style=\"font-weight:600;\">wén</span></span>'...\n",
      "Entry 667 differs at character 320:\n",
      "Exp: 'font-weight:600;\"> </span><span style=\"color:#E30000;\"><span style=\"font-weight:600;\">shēng</span></span><span style=\"color:#02B31C;\"><span style=\"font-weight:600;\">huó</span></span></p>\\n</div><div align=\"left\"><p>everyday (or daily) life</p>\\n</div><plecoentry c=\"00000000\" d=\"50414345\" e=\"04632cb0\" x=\"-1\"></plecoentry>'...\n",
      "Got: 'color:#E30000;\"><span style=\"font-weight:600;\">shēng</span></span><span style=\"color:#02B31C;\"><span style=\"font-weight:600;\">huó</span></span>'...\n",
      "Entry 685 differs at character 210:\n",
      "Exp: 'Ào</span></span><span style=\"color:#E30000;\"><span style=\"font-weight:600;\">zhōu</span></span></p>\\n</div><div align=\"left\"><p><b><span style=\"font-size:0.80em;\"><span style=\"color:#B4B4B4;\">NOUN</span></span></b><br/>\\n<b><span style=\"font-size:0.80em;\"><span style=\"color:#B4B4B4;\">COMMON NAME FOR</span></span></b><br/>\\nAustralia</p>\\n</div><plecoentry c=\"00000000\" d=\"50414345\" e=\"01027900\" x=\"-1\"></plecoentry>'...\n",
      "Got: 'Aò</span></span><span style=\"color:#E30000;\"><span style=\"font-weight:600;\">zhōu</span></span>'...\n",
      "Entry 695 differs at character 247:\n",
      "Exp: '02B31C;\"><span style=\"font-weight:600;\">pú</span></span></p>\\n</div><div align=\"left\"><p>dried, pickled white radish</p>\\n</div><plecoentry c=\"00000000\" d=\"50434544\" e=\"01e68d00\" x=\"-1\"></plecoentry>'...\n",
      "Got: '1510F0;\"><span style=\"font-weight:600;\">fǔ</span></span>'...\n",
      "Entry 716 differs at character 326:\n",
      "Exp: 'font-weight:600;\">-</span><span style=\"color:#8900BF;\"><span style=\"font-weight:600;\">qù</span></span><span style=\"color:#8900BF;\"><span style=\"font-weight:600;\">mài</span></span></p>\\n</div><div align=\"left\"><p><b><span style=\"font-size:0.80em;\"><span style=\"color:#B4B4B4;\">IDIOM</span></span></b><br/>\\norigin and development; the entire process; sequence of events<br/>\\n</p>\\n<blockquote style=\"border-left: 2px solid #0078c3; margin-left: 3px; padding-left: 1em; margin-top: 0px; margin-bottom: 0px;\"><p><span style=\"color:#0078C3;\">把事情的</span><span style=\"color:#0078C3;\"><b>來龍去脈</b></span><span style=\"color:#0078C3;\">講一遍</span><br/>\\n<span style=\"font-weight:600;\">bǎ shìqing de</span><b>láilóngqùmài</b><span style=\"font-weight:600;\"> jiǎng yī biàn</span><br/>\\ntell the whole story from beginning to end</p>\\n</blockquote>\\n</div><plecoentry c=\"00000000\" d=\"50414345\" e=\"01825100\" x=\"-1\"></plecoentry>'...\n",
      "Got: 'color:#8900BF;\"><span style=\"font-weight:600;\">-qù</span></span><span style=\"color:#8900BF;\"><span style=\"font-weight:600;\">mài</span></span>'...\n",
      "Entry 729 differs at character 320:\n",
      "Exp: 'font-weight:600;\"> </span><span style=\"color:#02B31C;\"><span style=\"font-weight:600;\">shí</span></span><span style=\"color:#1510F0;\"><span style=\"font-weight:600;\">pǐn</span></span></p>\\n</div><div align=\"left\"><p>air popped food</p>\\n</div><plecoentry c=\"00000000\" d=\"50414345\" e=\"0457cfaa\" x=\"-1\"></plecoentry>'...\n",
      "Got: 'color:#02B31C;\"><span style=\"font-weight:600;\">shí</span></span><span style=\"color:#1510F0;\"><span style=\"font-weight:600;\">pǐn</span></span>'...\n",
      "Entry 754 differs at character 293:\n",
      "Exp: '\\'ēn</span></span><span style=\"font-weight:600;\"> </span><span style=\"color:#02B31C;\"><span style=\"font-weight:600;\">Jié</span></span></p>\\n</div><div align=\"left\"><p><b><span style=\"font-size:0.80em;\"><span style=\"color:#B4B4B4;\">NOUN</span></span></b><br/>\\nThanksgiving (Day)</p>\\n</div><plecoentry c=\"00000000\" d=\"50414345\" e=\"0146e500\" x=\"-1\"></plecoentry>'...\n",
      "Got: 'ēn</span></span><span style=\"color:#02B31C;\"><span style=\"font-weight:600;\">Jié</span></span>'...\n",
      "Entry 785 differs at character 216:\n",
      "Exp: '</span></span><span style=\"color:#02B31C;\"><span style=\"font-weight:600;\">rén</span></span></p>\\n</div><div align=\"left\"><p><b>1\\t</b>to swear or curse (at people)<br/>\\n<b>2\\t</b>to scold or yell at someone</p>\\n</div><plecoentry c=\"00000000\" d=\"50434544\" e=\"00cd6e00\" x=\"-1\"></plecoentry>'...\n",
      "Got: 'n</span></span><span style=\"font-weight:600;\">//</span><span style=\"color:#02B31C;\"><span style=\"font-weight:600;\">rén</span></span>'...\n",
      "Entry 819 differs at character 326:\n",
      "Exp: 'font-weight:600;\">-</span><span style=\"color:#8900BF;\"><span style=\"font-weight:600;\">dì</span></span><span style=\"color:#1510F0;\"><span style=\"font-weight:600;\">yuǎn</span></span></p>\\n</div><div align=\"left\"><p><b><span style=\"font-size:0.80em;\"><span style=\"color:#B4B4B4;\">IDIOM</span></span></b><br/>\\npoles apart; differ in thousands of ways; completely unlike</p>\\n</div><plecoentry c=\"00000000\" d=\"50414345\" e=\"044a29e3\" x=\"-1\"></plecoentry>'...\n",
      "Got: 'color:#8900BF;\"><span style=\"font-weight:600;\">-dì</span></span><span style=\"color:#1510F0;\"><span style=\"font-weight:600;\">yuǎn</span></span>'...\n",
      "Entry 829 differs at character 326:\n",
      "Exp: 'font-weight:600;\">-</span><span style=\"color:#02B31C;\"><span style=\"font-weight:600;\">rú</span></span><span style=\"color:#1510F0;\"><span style=\"font-weight:600;\">cǐ</span></span></p>\\n</div><div align=\"left\"><p><b><span style=\"font-size:0.80em;\"><span style=\"color:#B4B4B4;\">WELL-KNOWN PHRASE</span></span></b><br/>\\nso that\\'s how it is; so that\\'s what\\'s happened; I see</p>\\n</div><plecoentry c=\"00000000\" d=\"50414345\" e=\"021ba800\" x=\"-1\"></plecoentry>'...\n",
      "Got: 'color:#02B31C;\"><span style=\"font-weight:600;\">-rú</span></span><span style=\"color:#1510F0;\"><span style=\"font-weight:600;\">cǐ</span></span>'...\n",
      "Entry 865 differs at character 324:\n",
      "Exp: 'font-weight:600;\"> </span><span style=\"color:#02B31C;\"><span style=\"font-weight:600;\">xué</span></span><span style=\"color:#8900BF;\"><span style=\"font-weight:600;\">wèi</span></span></p>\\n</div><div align=\"left\"><p><b><span style=\"font-size:0.80em;\"><span style=\"color:#B4B4B4;\">NOUN</span></span></b><br/>\\ndoctoral degree; doctorate<br/>\\n</p>\\n<blockquote style=\"border-left: 2px solid #0078c3; margin-left: 3px; padding-left: 1em; margin-top: 0px; margin-bottom: 0px;\"><p><span style=\"color:#0078C3;\">攻讀</span><span style=\"color:#0078C3;\"><b>博士學位</b></span><br/>\\n<span style=\"font-weight:600;\">gōngdú </span><b>bóshì xuéwèi</b><br/>\\nstudy (or read) for a doctorate<br/>\\n</p>\\n</blockquote>\\n<blockquote style=\"border-left: 2px solid #0078c3; margin-left: 3px; padding-left: 1em; margin-top: 0px; margin-bottom: 0px;\"><p><span style=\"color:#0078C3;\">授予某人</span><span style=\"color:#0078C3;\"><b>博士學位</b></span><br/>\\n<span style=\"font-weight:600;\">shòuyǔ mǒurén </span><b>bóshìxuéwèi</b><br/>\\nconfer a doctor'...\n",
      "Got: 'color:#02B31C;\"><span style=\"font-weight:600;\">xué</span></span><span style=\"color:#8900BF;\"><span style=\"font-weight:600;\">wèi</span></span>'...\n",
      "Entry 876 differs at character 290:\n",
      "Exp: '\\'ài</span></span></p>\\n</div><div align=\"left\"><p><b><span style=\"font-size:0.80em;\"><span style=\"color:#B4B4B4;\">NOUN</span></span></b><br/>\\nuniversal fraternity (or brotherhood); universal love<br/>\\n</p>\\n<blockquote style=\"border-left: 2px solid #0078c3; margin-left: 3px; padding-left: 1em; margin-top: 0px; margin-bottom: 0px;\"><p><span style=\"color:#0078C3;\">自由, 平等, </span><span style=\"color:#0078C3;\"><b>博愛</b></span><br/>\\n<span style=\"font-weight:600;\">zìyóu, píngděng, </span><b>bó\\'ài</b><br/>\\nliberty, equality, and fraternity</p>\\n</blockquote>\\n</div><plecoentry c=\"00000000\" d=\"50414345\" e=\"01102300\" x=\"-1\"></plecoentry>'...\n",
      "Got: 'ài</span></span>'...\n",
      "Entry 896 differs at character 248:\n",
      "Exp: '8900BF;\"><span style=\"font-weight:600;\">xiàng</span></span></p>\\n</div><div align=\"left\"><p><b><span style=\"font-size:0.80em;\"><span style=\"color:#B4B4B4;\">NOUN</span></span></b><br/>\\ndirection; orientation<br/>\\n</p>\\n<blockquote style=\"border-left: 2px solid #0078c3; margin-left: 3px; padding-left: 1em; margin-top: 0px; margin-bottom: 0px;\"><p><b><span style=\"color:#0078C3;\">方向</span></b><span style=\"color:#0078C3;\">朝東</span><br/>\\n<b>fāngxiàng</b><span style=\"font-weight:600;\"> cháo dōng</span><br/>\\nface east<br/>\\n</p>\\n</blockquote>\\n<blockquote style=\"border-left: 2px solid #0078c3; margin-left: 3px; padding-left: 1em; margin-top: 0px; margin-bottom: 0px;\"><p><span style=\"color:#0078C3;\">迷了</span><span style=\"color:#0078C3;\"><b>方向</b></span><br/>\\n<span style=\"font-weight:600;\">mí le </span><b>fāngxiàng</b><br/>\\nlose one’s bearings<br/>\\n</p>\\n</blockquote>\\n<blockquote style=\"border-left: 2px solid #0078c3; margin-left: 3px; padding-left: 1em; margin-top: 0px; margin-bottom: 0px;\"><p><span'...\n",
      "Got: '777777;\"><span style=\"font-weight:600;\">xiang</span></span>'...\n",
      "Entry 999 differs at character 251:\n",
      "Exp: '8900BF;\"><span style=\"font-weight:600;\">zài</span></span></p>\\n</div><div align=\"left\"><p><b><span style=\"font-size:0.80em;\"><span style=\"color:#B4B4B4;\">ADJECTIVE</span></span></b><br/>\\ntrue; real; honest; dependable<br/>\\n</p>\\n<blockquote style=\"border-left: 2px solid #0078c3; margin-left: 3px; padding-left: 1em; margin-top: 0px; margin-bottom: 0px;\"><p><b><span style=\"color:#0078C3;\">實在</span></b><span style=\"color:#0078C3;\">的本事</span><br/>\\n<b>shízài</b><span style=\"font-weight:600;\"> de běnshi</span><br/>\\nreal ability; actual skill<br/>\\n</p>\\n</blockquote>\\n<blockquote style=\"border-left: 2px solid #0078c3; margin-left: 3px; padding-left: 1em; margin-top: 0px; margin-bottom: 0px;\"><p><span style=\"color:#0078C3;\">心眼兒</span><span style=\"color:#0078C3;\"><b>實在</b></span><br/>\\n<span style=\"font-weight:600;\">xīnyǎnr </span><b>shízài</b><br/>\\nhonest; trustworthy<br/>\\n</p>\\n</blockquote>\\n<blockquote style=\"border-left: 2px solid #0078c3; margin-left: 3px; padding-left: 1em; margin-top: 0px; mar'...\n",
      "Got: '777777;\"><span style=\"font-weight:600;\">zai</span></span>'...\n",
      "Entry 1027 differs at character 327:\n",
      "Exp: 'font-weight:600;\">-</span><span style=\"color:#8900BF;\"><span style=\"font-weight:600;\">bù</span></span><span style=\"color:#8900BF;\"><span style=\"font-weight:600;\">dòng</span></span></p>\\n</div><div align=\"left\"><p><b><span style=\"font-size:0.80em;\"><span style=\"color:#B4B4B4;\">IDIOM</span></span></b><br/>\\nbe left intact; remain untouched</p>\\n</div><plecoentry c=\"00000000\" d=\"50414345\" e=\"021b9b00\" x=\"-1\"></plecoentry>'...\n",
      "Got: 'color:#8900BF;\"><span style=\"font-weight:600;\">-bù</span></span><span style=\"color:#8900BF;\"><span style=\"font-weight:600;\">dòng</span></span>'...\n",
      "Entry 1042 differs at character 326:\n",
      "Exp: 'font-weight:600;\"> </span><span style=\"color:#02B31C;\"><span style=\"font-weight:600;\">xué</span></span><span style=\"color:#8900BF;\"><span style=\"font-weight:600;\">wèi</span></span></p>\\n</div><div align=\"left\"><p>master degree</p>\\n</div><plecoentry c=\"00000000\" d=\"50414345\" e=\"047148ad\" x=\"-1\"></plecoentry>'...\n",
      "Got: 'color:#02B31C;\"><span style=\"font-weight:600;\">xué</span></span><span style=\"color:#8900BF;\"><span style=\"font-weight:600;\">wèi</span></span>'...\n",
      "Entry 1049 differs at character 69:\n",
      "Exp: '\\n【臺拼】zònghé <br/>\\n<span style=\"color:#B4B4B4;\"><b><span style=\"font-size:0.80em;\">\\n\\n\\nPY </span></b></span><span style=\"color:#E30000;\"><span style=\"font-weight:600;\">zōng</span></span><span style=\"color:#02B31C;\"><span style=\"font-weight:600;\">hé</span></span></p>\\n</div><div align=\"left\"><p><b><span style=\"font-size:0.80em;\"><span style=\"color:#B4B4B4;\">VERB</span></span></b><br/>\\nsynthesize<br/>\\n</p>\\n<blockquote style=\"border-left: 2px solid #0078c3; margin-left: 3px; padding-left: 1em; margin-top: 0px; margin-bottom: 0px;\"><p><b><span style=\"color:#0078C3;\">綜合</span></b><span style=\"color:#0078C3;\">群眾的意見</span><br/>\\n<b>zōnghé</b><span style=\"font-weight:600;\"> qúnzhòng de yìjian</span><br/>\\nsynthesize (or sum up) the opinions of the people<br/>\\n</p>\\n</blockquote>\\n<p><br/>\\n<b><span style=\"font-size:0.80em;\"><span style=\"color:#B4B4B4;\">ADJECTIVE</span></span></b><br/>\\ncomprehensive; multiple; composite; integrated<br/>\\n</p>\\n<blockquote style=\"border-left: 2px solid #0078c3; margin-lef'...\n",
      "Got: '<span style=\"color:#B4B4B4;\"><b><span style=\"font-size:0.80em;\">PY </span></b></span><span style=\"color:#E30000;\"><span style=\"font-weight:600;\">zōng</span></span><span style=\"color:#02B31C;\"><span style=\"font-weight:600;\">hé</span></span>'...\n",
      "Entry 1052 differs at character 172:\n",
      "Exp: '8900BF;\"><span style=\"font-weight:600;\">wèi</span></span></p>\\n</div><div align=\"left\"><p><b>1\\t</b>false<br/>\\n<b>2\\t</b>fake<br/>\\n<b>3\\t</b>forged<br/>\\n<b>4\\t</b>bogus<br/>\\n<b>5\\t</b>(prefix) pseudo-<br/>\\n<b>6\\t</b>Taiwan pr. [wèi]</p>\\n</div><plecoentry c=\"00000000\" d=\"50434544\" e=\"01c5e700\" x=\"-1\"></plecoentry>'...\n",
      "Got: '1510F0;\"><span style=\"font-weight:600;\">wěi</span></span>'...\n",
      "Entry 1072 differs at character 287:\n",
      "Exp: '\\'ér</span></span></p>\\n</div><div align=\"left\"><p><b><span style=\"font-size:0.80em;\"><span style=\"color:#B4B4B4;\">ADVERB</span></span></b><br/>\\non the contrary; instead<br/>\\n</p>\\n<blockquote style=\"border-left: 2px solid #0078c3; margin-left: 3px; padding-left: 1em; margin-top: 0px; margin-bottom: 0px;\"><p><span style=\"color:#0078C3;\">風不但沒停, </span><span style=\"color:#0078C3;\"><b>反而</b></span><span style=\"color:#0078C3;\">更大了。</span><br/>\\n<span style=\"font-weight:600;\">Fēng bùdàn méi tíng, </span><b>fǎn\\'ér</b><span style=\"font-weight:600;\"> gèng dà le.</span><br/>\\nInstead of stopping, the wind blew even harder.<br/>\\n</p>\\n</blockquote>\\n<blockquote style=\"border-left: 2px solid #0078c3; margin-left: 3px; padding-left: 1em; margin-top: 0px; margin-bottom: 0px;\"><p><span style=\"color:#0078C3;\">困難嚇不倒我們, </span><span style=\"color:#0078C3;\"><b>反而</b></span><span style=\"color:#0078C3;\">激起我們更大的幹勁。</span><br/>\\n<span style=\"font-weight:600;\">Kùnnan xià bù dǎo wǒmen, </span><b>fǎn\\'ér</b><span style='...\n",
      "Got: 'ér</span></span>'...\n",
      "Entry 1082 differs at character 169:\n",
      "Exp: '8900BF;\"><span style=\"font-weight:600;\">à</span></span></p>\\n</div><div align=\"left\"><p><b><span style=\"font-size:0.80em;\"><span style=\"color:#B4B4B4;\">INTERJECTION</span></span></b><br/>\\n<b>1\\t</b>[expressing agreement or compliance]<br/>\\n</p>\\n<blockquote style=\"border-left: 2px solid #0078c3; margin-left: 3px; padding-left: 1em; margin-top: 0px; margin-bottom: 0px;\"><p><b><span style=\"color:#0078C3;\">啊</span></b><span style=\"color:#0078C3;\">, 我就來！</span><br/>\\n<b>À</b><span style=\"font-weight:600;\">, wǒ jiù lái!</span><br/>\\nAll right, I’m coming.<br/>\\n</p>\\n</blockquote>\\n<p><b>2\\t</b>[expressing sudden realisation]<br/>\\n</p>\\n<blockquote style=\"border-left: 2px solid #0078c3; margin-left: 3px; padding-left: 1em; margin-top: 0px; margin-bottom: 0px;\"><p><b><span style=\"color:#0078C3;\">啊</span></b><span style=\"color:#0078C3;\">, 原來是你呀！</span><br/>\\n<b>À</b><span style=\"font-weight:600;\">, yuánlái shì nǐ ya!</span><br/>\\nAh, so it’s you.</p>\\n</blockquote>\\n</div><plecoentry c=\"00000000\" d=\"504143'...\n",
      "Got: '777777;\"><span style=\"font-weight:600;\">a</span></span>'...\n",
      "Entry 1122 differs at character 325:\n",
      "Exp: 'font-weight:600;\"> </span><span style=\"color:#02B31C;\"><span style=\"font-weight:600;\">Jié</span></span></p>\\n</div><div align=\"left\"><p><b><span style=\"font-size:0.80em;\"><span style=\"color:#B4B4B4;\">NOUN</span></span></b><br/>\\n<b>1\\t</b>Christmas Day (Dec. 25)<br/>\\n<b>2\\t</b>Christmastime; Christmastide (Dec. 24-Jan. 6)</p>\\n</div><plecoentry c=\"00000000\" d=\"50414345\" e=\"01c89500\" x=\"-1\"></plecoentry>'...\n",
      "Got: 'color:#02B31C;\"><span style=\"font-weight:600;\">Jié</span></span>'...\n",
      "Entry 1131 differs at character 169:\n",
      "Exp: '8900BF;\"><span style=\"font-weight:600;\">gòng</span></span></p>\\n</div><div align=\"left\"><p><b><span style=\"font-size:0.80em;\"><span style=\"color:#B4B4B4;\">VERB</span></span></b><br/>\\npresent (offerings)<br/>\\n</p>\\n<blockquote style=\"border-left: 2px solid #0078c3; margin-left: 3px; padding-left: 1em; margin-top: 0px; margin-bottom: 0px;\"><p><span style=\"color:#0078C3;\">遺像前</span><span style=\"color:#0078C3;\"><b>供</b></span><span style=\"color:#0078C3;\">著鮮花。</span><br/>\\n<span style=\"font-weight:600;\">Yíxiàng qián </span><b>gòng</b><span style=\"font-weight:600;\"> zhe xiānhuā.</span><br/>\\nFresh flowers were laid out before the portrait of the deceased.<br/>\\n</p>\\n</blockquote>\\n<p><br/>\\n<b><span style=\"font-size:0.80em;\"><span style=\"color:#B4B4B4;\">NOUN</span></span></b><br/>\\nofferings<br/>\\n</p>\\n<blockquote style=\"border-left: 2px solid #0078c3; margin-left: 3px; padding-left: 1em; margin-top: 0px; margin-bottom: 0px;\"><p><span style=\"color:#0078C3;\">鮮</span><span style=\"color:#0078C3;\"><b>供</'...\n",
      "Got: 'E30000;\"><span style=\"font-weight:600;\">gōng</span></span>'...\n",
      "Entry 1141 differs at character 170:\n",
      "Exp: 'DF80FF;\"><span style=\"font-weight:600;\">xì</span></span><span style=\"color:#DF80FF;\"><span style=\"font-weight:600;\">liè</span></span></p>\\n</div><div align=\"left\"><p><b><span style=\"font-size:0.80em;\"><span style=\"color:#B4B4B4;\">NOUN</span></span></b><br/>\\nseries; set<br/>\\n</p>\\n<blockquote style=\"border-left: 2px solid #00aaff; margin-left: 3px; padding-left: 1em; margin-top: 0px; margin-bottom: 0px;\"><p><span style=\"color:#00AAFF;\">運載</span><span style=\"color:#00AAFF;\"><b>系列</b></span><br/>\\n<span style=\"font-weight:600;\">yùnzài </span><b>xìliè</b><br/>\\nvehicle series<br/>\\n</p>\\n</blockquote>\\n<blockquote style=\"border-left: 2px solid #00aaff; margin-left: 3px; padding-left: 1em; margin-top: 0px; margin-bottom: 0px;\"><p><span style=\"color:#00AAFF;\">這類產品將發展二十二個</span><span style=\"color:#00AAFF;\"><b>系列</b></span><span style=\"color:#00AAFF;\">, 一百七十個新品種。</span><br/>\\n<span style=\"font-weight:600;\">Zhè lèi chǎnpǐn jiāng fāzhǎn èrshí\\'èr ge </span><b>xìliè</b><span style=\"font-weight:600;\">, yīb'...\n",
      "Got: '8900BF;\"><span style=\"font-weight:600;\">xì</span></span><span style=\"color:#8900BF;\"><span style=\"font-weight:600;\">liè</span></span>'...\n",
      "Entry 1153 differs at character 319:\n",
      "Exp: 'font-weight:600;\">-</span><span style=\"color:#8900BF;\"><span style=\"font-weight:600;\">dào</span></span><span style=\"color:#1510F0;\"><span style=\"font-weight:600;\">wǎn</span></span></p>\\n</div><div align=\"left\"><p><b><span style=\"font-size:0.80em;\"><span style=\"color:#B4B4B4;\">IDIOM</span></span></b><br/>\\nfrom morning till night; from dawn to dusk; all day long<br/>\\n</p>\\n<blockquote style=\"border-left: 2px solid #0078c3; margin-left: 3px; padding-left: 1em; margin-top: 0px; margin-bottom: 0px;\"><p><b><span style=\"color:#0078C3;\">一天到晚</span></b><span style=\"color:#0078C3;\">就是忙, 不是工作, 就是開會, 還要學習。</span><br/>\\n<b>Yī tiān dào wǎn</b><span style=\"font-weight:600;\"> jiù shì máng,\\xa0 bù shì gōngzuò,\\xa0 jiùshì kāihuì, háiyào xuéxí.</span><br/>\\nI’m busy day and night, not only with work, but also with meetings or classes.<br/>\\n</p>\\n</blockquote>\\n<blockquote style=\"border-left: 2px solid #0078c3; margin-left: 3px; padding-left: 1em; margin-top: 0px; margin-bottom: 0px;\"><p><b><span style=\"color:#0078C3'...\n",
      "Got: 'color:#8900BF;\"><span style=\"font-weight:600;\">-dào</span></span><span style=\"color:#1510F0;\"><span style=\"font-weight:600;\">wǎn</span></span>'...\n",
      "Entry 1190 differs at character 287:\n",
      "Exp: '\\'àn</span></span></p>\\n</div><div align=\"left\"><p><b><span style=\"font-size:0.80em;\"><span style=\"color:#B4B4B4;\">ADJECTIVE</span></span></b><br/>\\ndark<br/>\\n</p>\\n<blockquote style=\"border-left: 2px solid #0078c3; margin-left: 3px; padding-left: 1em; margin-top: 0px; margin-bottom: 0px;\"><p><b><span style=\"color:#0078C3;\">黑暗</span></b><span style=\"color:#0078C3;\">統治</span><br/>\\n<b>Hēi\\'àn</b><span style=\"font-weight:600;\"> tǒngzhì</span><br/>\\ndark rule; reactionary rule<br/>\\n</p>\\n</blockquote>\\n<blockquote style=\"border-left: 2px solid #0078c3; margin-left: 3px; padding-left: 1em; margin-top: 0px; margin-bottom: 0px;\"><p><span style=\"color:#0078C3;\">山洞裡一片</span><span style=\"color:#0078C3;\"><b>黑暗</b></span><span style=\"color:#0078C3;\">。</span><br/>\\n<span style=\"font-weight:600;\">Shāndòng lǐ yī piàn </span><b>hēi\\'àn</b><span style=\"font-weight:600;\">.</span><br/>\\nIt’s all darkness in the cave.</p>\\n</blockquote>\\n</div><plecoentry c=\"00000000\" d=\"50414345\" e=\"01587a00\" x=\"-1\"></plecoentry>'...\n",
      "Got: 'àn</span></span>'...\n",
      "Entry 1200 differs at character 323:\n",
      "Exp: 'font-weight:600;\">-</span><span style=\"color:#02B31C;\"><span style=\"font-weight:600;\">zá</span></span><span style=\"color:#E30000;\"><span style=\"font-weight:600;\">bā</span></span></p>\\n</div><div align=\"left\"><p><b><span style=\"font-size:0.80em;\"><span style=\"color:#B4B4B4;\">IDIOM</span></span></b><br/>\\nmixed; assorted; miscellaneous<br/>\\n</p>\\n<blockquote style=\"border-left: 2px solid #0078c3; margin-left: 3px; padding-left: 1em; margin-top: 0px; margin-bottom: 0px;\"><p><span style=\"color:#0078C3;\">刀子, 勺子之類</span><span style=\"color:#0078C3;\"><b>雜七雜八</b></span><span style=\"color:#0078C3;\">的東西</span><br/>\\n<span style=\"font-weight:600;\">Dāozi, sháozi zhīlèi </span><b>záqīzábā</b><span style=\"font-weight:600;\"> de dōngxi</span><br/>\\nmotley assortment of knives, ladles, and others</p>\\n</blockquote>\\n</div><plecoentry c=\"00000000\" d=\"50414345\" e=\"021ead00\" x=\"-1\"></plecoentry>'...\n",
      "Got: 'color:#02B31C;\"><span style=\"font-weight:600;\">-zá</span></span><span style=\"color:#E30000;\"><span style=\"font-weight:600;\">bā</span></span>'...\n",
      "Entry 1240 differs at character 248:\n",
      "Exp: 'font-weight:600;\"> </span><span style=\"color:#8900BF;\"><span style=\"font-weight:600;\">Jiè</span></span><span style=\"color:#02B31C;\"><span style=\"font-weight:600;\">shí</span></span></p>\\n</div><div align=\"left\"><p>Chiang Kai-shek (1887-1975), military leader, head of the Nationalist government in China 1928-1949 and the government in exile on Taiwan 1950-1975</p>\\n</div><plecoentry c=\"00000000\" d=\"50434544\" e=\"00dfd600\" x=\"-1\"></plecoentry>'...\n",
      "Got: 'color:#8900BF;\"><span style=\"font-weight:600;\">Jiè</span></span><span style=\"color:#02B31C;\"><span style=\"font-weight:600;\">shí</span></span>'...\n",
      "Entry 1273 differs at character 167:\n",
      "Exp: 'font-weight:600;\">→</span><span style=\"color:#02B31C;\"><span style=\"font-weight:600;\">jié</span></span><span style=\"color:#1510F0;\"><span style=\"font-weight:600;\">qǔ</span></span></p>\\n</div><div align=\"left\"><p>【臺拼】<span style=\"font-weight:600;\">jiéqǔ</span><br/>\\n【陸拼】<span style=\"font-weight:600;\">xiéqǔ</span><br/>\\n選取；摘取。<br/>\\n</p>\\n<blockquote style=\"border-left: 2px solid #0078c3; margin-left: 3px; padding-left: 1em; margin-top: 0px; margin-bottom: 0px;\"><p><b><span style=\"color:#0078C3;\">擷取</span></b><span style=\"color:#0078C3;\">畫面</span><br/>\\n</p>\\n</blockquote>\\n<blockquote style=\"border-left: 2px solid #0078c3; margin-left: 3px; padding-left: 1em; margin-top: 0px; margin-bottom: 0px;\"><p><b><span style=\"color:#0078C3;\">擷取</span></b><span style=\"color:#0078C3;\">資料</span><br/>\\n</p>\\n</blockquote>\\n<blockquote style=\"border-left: 2px solid #0078c3; margin-left: 3px; padding-left: 1em; margin-top: 0px; margin-bottom: 0px;\"><p><b><span style=\"color:#0078C3;\">擷取</span></b><span style=\"color'...\n",
      "Got: 'color:#02B31C;\"><span style=\"font-weight:600;\">xié</span></span><span style=\"color:#1510F0;\"><span style=\"font-weight:600;\">qǔ</span></span>'...\n",
      "Entry 1280 differs at character 165:\n",
      "Exp: 'font-weight:600;\">→</span><span style=\"color:#1510F0;\"><span style=\"font-weight:600;\">bǎo</span></span><span style=\"color:#02B31C;\"><span style=\"font-weight:600;\">cún</span></span><span style=\"font-weight:600;\"> </span><span style=\"color:#02B31C;\"><span style=\"font-weight:600;\">qí</span></span><span style=\"color:#8900BF;\"><span style=\"font-weight:600;\">xiàn</span></span></p>\\n</div><div align=\"left\"><p>【臺拼】<span style=\"font-weight:600;\">bǎocún qíxiàn</span><br/>\\n【陸拼】<span style=\"font-weight:600;\">bǎocún qīxiàn</span><br/>\\n物品可堪使用或食用的限定日期。【陸】也作「保質期」。<br/>\\n</p>\\n<blockquote style=\"border-left: 2px solid #0078c3; margin-left: 3px; padding-left: 1em; margin-top: 0px; margin-bottom: 0px;\"><p><span style=\"color:#0078C3;\">這包餅乾已經超過</span><span style=\"color:#0078C3;\"><b>保存期限</b></span><span style=\"color:#0078C3;\">了。</span></p>\\n</blockquote>\\n</div><plecoentry c=\"00000000\" d=\"504c4143\" e=\"3bb270cc\" x=\"-1\"></plecoentry>'...\n",
      "Got: 'color:#1510F0;\"><span style=\"font-weight:600;\">→bǎo</span></span><span style=\"color:#02B31C;\"><span style=\"font-weight:600;\">cún</span></span><span style=\"color:#02B31C;\"><span style=\"font-weight:600;\">qí</span></span><span style=\"color:#8900BF;\"><span style=\"font-weight:600;\">xiàn</span></span>'...\n",
      "Entry 1291 differs at character 174:\n",
      "Exp: '02B31C;\"><span style=\"font-weight:600;\">jié</span></span><span style=\"color:#1510F0;\"><span style=\"font-weight:600;\">guǒ</span></span></p>\\n</div><div align=\"left\"><p><b><span style=\"font-size:0.80em;\"><span style=\"color:#B4B4B4;\">NOUN</span></span></b><br/>\\nresult; outcome<br/>\\n</p>\\n<blockquote style=\"border-left: 2px solid #0078c3; margin-left: 3px; padding-left: 1em; margin-top: 0px; margin-bottom: 0px;\"><p><span style=\"color:#0078C3;\">必然</span><span style=\"color:#0078C3;\"><b>結果</b></span><br/>\\n<span style=\"font-weight:600;\">Bìrán </span><b>jiéguǒ</b><br/>\\ninevitable result<br/>\\n</p>\\n</blockquote>\\n<blockquote style=\"border-left: 2px solid #0078c3; margin-left: 3px; padding-left: 1em; margin-top: 0px; margin-bottom: 0px;\"><p><span style=\"color:#0078C3;\">會談的</span><span style=\"color:#0078C3;\"><b>結果</b></span><br/>\\n<span style=\"font-weight:600;\">huìtán de </span><b>jiéguǒ</b><br/>\\nthe outcome of the talks<br/>\\n</p>\\n</blockquote>\\n<blockquote style=\"border-left: 2px solid #0078c3; margin-'...\n",
      "Got: 'E30000;\"><span style=\"font-weight:600;\">jiē</span></span><span style=\"font-weight:600;\">//</span><span style=\"color:#1510F0;\"><span style=\"font-weight:600;\">guǒ</span></span>'...\n",
      "Entry 1293 differs at character 319:\n",
      "Exp: 'font-weight:600;\">-</span><span style=\"color:#02B31C;\"><span style=\"font-weight:600;\">qí</span></span><span style=\"color:#8900BF;\"><span style=\"font-weight:600;\">miào</span></span></p>\\n</div><div align=\"left\"><p><b><span style=\"font-size:0.80em;\"><span style=\"color:#B4B4B4;\">IDIOM</span></span></b><br/>\\n<b>1\\t</b>unable to make head or tail of sth.; baffled<br/>\\n</p>\\n<blockquote style=\"border-left: 2px solid #0078c3; margin-left: 3px; padding-left: 1em; margin-top: 0px; margin-bottom: 0px;\"><p><span style=\"color:#0078C3;\">他為什麼講這番話, 真叫人</span><span style=\"color:#0078C3;\"><b>莫名其妙</b></span><span style=\"color:#0078C3;\">。</span><br/>\\n<span style=\"font-weight:600;\">Tā wèishénme jiǎng zhè fān huà, zhēn jiào rén </span><b>mòmíngqímiào</b><span style=\"font-weight:600;\">.</span><br/>\\nIt is quite baffling that he should make such remarks.<br/>\\n</p>\\n</blockquote>\\n<p><b>2\\t</b>without rhyme or reason; inexplicable; odd<br/>\\n</p>\\n<blockquote style=\"border-left: 2px solid #0078c3; margin-left: 3px; pa'...\n",
      "Got: 'color:#02B31C;\"><span style=\"font-weight:600;\">-qí</span></span><span style=\"color:#8900BF;\"><span style=\"font-weight:600;\">miào</span></span>'...\n",
      "Entry 1294 differs at character 169:\n",
      "Exp: '8900BF;\"><span style=\"font-weight:600;\">huàng</span></span></p>\\n</div><div align=\"left\"><p><b><span style=\"font-size:0.80em;\"><span style=\"color:#B4B4B4;\">VERB</span></span></b><br/>\\nshake; sway<br/>\\n</p>\\n<blockquote style=\"border-left: 2px solid #0078c3; margin-left: 3px; padding-left: 1em; margin-top: 0px; margin-bottom: 0px;\"><p><span style=\"color:#0078C3;\">他</span><span style=\"color:#0078C3;\"><b>晃</b></span><span style=\"color:#0078C3;\">了</span><span style=\"color:#0078C3;\"><b>晃</b></span><span style=\"color:#0078C3;\">手說:</span><span style=\"color:#0078C3;\">“</span><span style=\"color:#0078C3;\">不去了。</span><span style=\"color:#0078C3;\">”</span><br/>\\n<span style=\"font-weight:600;\">Tā </span><b>huàng</b><span style=\"font-weight:600;\"> le </span><b>huàng</b><span style=\"font-weight:600;\"> shǒu shuō: “bù qùle.”</span><br/>\\nWith a sweep of his hand he said, “I won’t go.”<br/>\\n</p>\\n</blockquote>\\n<blockquote style=\"border-left: 2px solid #0078c3; margin-left: 3px; padding-left: 1em; margin-top: '...\n",
      "Got: '1510F0;\"><span style=\"font-weight:600;\">huǎng</span></span>'...\n",
      "Entry 1323 differs at character 287:\n",
      "Exp: 'ēi</span></span></p>\\n</div><div align=\"left\"><p><b>1\\t</b>(slang) wow!<br/>\\n<b>2\\t</b>also pr. [wāsēi]</p>\\n</div><plecoentry c=\"00000000\" d=\"50434544\" e=\"01ff7400\" x=\"-1\"></plecoentry>'...\n",
      "Got: 'āi</span></span>'...\n",
      "Entry 1342 differs at character 249:\n",
      "Exp: 'font-weight:600;\"> </span><span style=\"color:#8900BF;\"><span style=\"font-weight:600;\">yòng</span></span><span style=\"font-weight:600;\"> </span><span style=\"color:#02B31C;\"><span style=\"font-weight:600;\">chéng</span></span><span style=\"font-weight:600;\"> </span><span style=\"color:#8900BF;\"><span style=\"font-weight:600;\">xù</span></span></p>\\n</div><div align=\"left\"><p>application program</p>\\n</div><plecoentry c=\"00000000\" d=\"50414345\" e=\"04948f2a\" x=\"-1\"></plecoentry>'...\n",
      "Got: 'color:#8900BF;\"><span style=\"font-weight:600;\">yòng</span></span><span style=\"color:#02B31C;\"><span style=\"font-weight:600;\">chéng</span></span><span style=\"color:#8900BF;\"><span style=\"font-weight:600;\">xù</span></span>'...\n",
      "Entry 1363 differs at character 292:\n",
      "Exp: '\\'àn</span></span></p>\\n</div><div align=\"left\"><p><b><span style=\"font-size:0.80em;\"><span style=\"color:#B4B4B4;\">NOUN</span></span></b><br/>\\nfiles; archives; record; dossier</p>\\n</div><plecoentry c=\"00000000\" d=\"50414345\" e=\"012c5500\" x=\"-1\"></plecoentry>'...\n",
      "Got: 'àn</span></span>'...\n",
      "Entry 1407 differs at character 169:\n",
      "Exp: '8900BF;\"><span style=\"font-weight:600;\">fèn</span></span></p>\\n</div><div align=\"left\"><p><b><span style=\"font-size:0.80em;\"><span style=\"color:#B4B4B4;\">NOUN</span></span></b><br/>\\n<b>1\\t</b>component<br/>\\n</p>\\n<blockquote style=\"border-left: 2px solid #0078c3; margin-left: 3px; padding-left: 1em; margin-top: 0px; margin-bottom: 0px;\"><p><span style=\"color:#0078C3;\">鹽</span><span style=\"color:#0078C3;\"><b>分</b></span><br/>\\n<span style=\"font-weight:600;\">yán</span><b>fèn</b><br/>\\nsalt content<br/>\\n</p>\\n</blockquote>\\n<p><b>2\\t</b>what is within one\\'s rights or duty<br/>\\n</p>\\n<blockquote style=\"border-left: 2px solid #0078c3; margin-left: 3px; padding-left: 1em; margin-top: 0px; margin-bottom: 0px;\"><p><span style=\"color:#0078C3;\">本</span><span style=\"color:#0078C3;\"><b>分</b></span><br/>\\n<span style=\"font-weight:600;\">běn</span><b>fèn</b><br/>\\none’s duty<br/>\\n</p>\\n</blockquote>\\n<p><b>3\\t</b>friendly feeling; affection<br/>\\n</p>\\n<blockquote style=\"border-left: 2px solid #0078c3; margin-left: '...\n",
      "Got: 'E30000;\"><span style=\"font-weight:600;\">fēn</span></span>'...\n",
      "Entry 1425 differs at character 212:\n",
      "Exp: 'i</span></span><span style=\"color:#777777;\"><span style=\"font-weight:600;\">fu</span></span></p>\\n</div><div align=\"left\"><p><b><span style=\"font-size:0.80em;\"><span style=\"color:#B4B4B4;\">NOUN</span></span></b><br/>\\n<b><span style=\"font-size:0.80em;\"><span style=\"color:#B4B4B4;\">COLLOQUIAL</span></span></b><br/>\\ndoctor; physician</p>\\n</div><plecoentry c=\"00000000\" d=\"50414345\" e=\"0129d200\" x=\"-1\"></plecoentry>'...\n",
      "Got: '</span></span><span style=\"color:#E30000;\"><span style=\"font-weight:600;\">fū</span></span>'...\n",
      "Entry 1428 differs at character 169:\n",
      "Exp: '1510F0;\"><span style=\"font-weight:600;\">tǐng</span></span></p>\\n</div><div align=\"left\"><p><b><span style=\"font-size:0.80em;\"><span style=\"color:#B4B4B4;\">NOUN</span></span></b><br/>\\n<b><span style=\"font-size:0.80em;\"><span style=\"color:#B4B4B4;\">LITERARY</span></span></b><br/>\\n<b>1\\t</b>farm fields<br/>\\n<b>2\\t</b>raised path between farm fields</p>\\n</div><plecoentry c=\"00000000\" d=\"50414345\" e=\"01e19600\" x=\"-1\"></plecoentry>'...\n",
      "Got: 'E30000;\"><span style=\"font-weight:600;\">dīng</span></span>'...\n",
      "Entry 1447 differs at character 319:\n",
      "Exp: 'font-weight:600;\">-</span><span style=\"color:#02B31C;\"><span style=\"font-weight:600;\">chéng</span></span><span style=\"color:#E30000;\"><span style=\"font-weight:600;\">bīng</span></span></p>\\n</div><div align=\"left\"><p><b><span style=\"font-size:0.80em;\"><span style=\"color:#B4B4B4;\">IDIOM</span></span></b><br/>\\n(so cold that) water freezes as it drips; freezing cold<br/>\\n</p>\\n<blockquote style=\"border-left: 2px solid #0078c3; margin-left: 3px; padding-left: 1em; margin-top: 0px; margin-bottom: 0px;\"><p><b><span style=\"color:#0078C3;\">滴水成冰</span></b><span style=\"color:#0078C3;\">的天氣</span><br/>\\n<b>dīshuǐchéngbīng</b><span style=\"font-weight:600;\"> de tiānqì</span><br/>\\nfreezing weather</p>\\n</blockquote>\\n</div><plecoentry c=\"00000000\" d=\"50414345\" e=\"012ebf00\" x=\"-1\"></plecoentry>'...\n",
      "Got: 'color:#02B31C;\"><span style=\"font-weight:600;\">-chéng</span></span><span style=\"color:#E30000;\"><span style=\"font-weight:600;\">bīng</span></span>'...\n",
      "Entry 1462 differs at character 218:\n",
      "Exp: 'Ào</span></span><span style=\"color:#E30000;\"><span style=\"font-weight:600;\">zhōu</span></span><span style=\"color:#E30000;\"><span style=\"font-weight:600;\">jiān</span></span><span style=\"color:#1510F0;\"><span style=\"font-weight:600;\">guǒ</span></span></p>\\n</div><div align=\"left\"><p>macadamia nut</p>\\n</div><plecoentry c=\"00000000\" d=\"50434544\" e=\"022a5500\" x=\"-1\"></plecoentry>'...\n",
      "Got: 'Aò</span></span><span style=\"color:#E30000;\"><span style=\"font-weight:600;\">zhōu</span></span><span style=\"color:#E30000;\"><span style=\"font-weight:600;\">jiān</span></span><span style=\"color:#1510F0;\"><span style=\"font-weight:600;\">guǒ</span></span>'...\n",
      "Entry 1475 differs at character 324:\n",
      "Exp: 'font-weight:600;\"> </span><span style=\"color:#8900BF;\"><span style=\"font-weight:600;\">huàn</span></span><span style=\"color:#1510F0;\"><span style=\"font-weight:600;\">xiǎng</span></span></p>\\n</div><div align=\"left\"><p><b><span style=\"font-size:0.80em;\"><span style=\"color:#B4B4B4;\">NOUN</span></span></b><br/>\\n<b><span style=\"font-size:0.80em;\"><span style=\"color:#B4B4B4;\">ABBREVIATION</span></span></b><br/>\\nscience fiction</p>\\n</div><plecoentry c=\"00000000\" d=\"50414345\" e=\"043e7eaa\" x=\"-1\"></plecoentry>'...\n",
      "Got: 'color:#8900BF;\"><span style=\"font-weight:600;\">huàn</span></span><span style=\"color:#1510F0;\"><span style=\"font-weight:600;\">xiǎng</span></span>'...\n",
      "Entry 1482 differs at character 214:\n",
      "Exp: 'Shì</span></span><span style=\"color:#E30000;\"><span style=\"font-weight:600;\">jiā</span></span></p>\\n</div><div align=\"left\"><p><b>1\\t</b>Sakya (name of a north Indian tribe)<br/>\\n<b>2\\t</b>abbr. for Shìjiāmóuní [釋迦牟尼] Sakyamuni Buddha<br/>\\n<b>3\\t</b>sugar apple</p>\\n</div><plecoentry c=\"00000000\" d=\"50434544\" e=\"01036300\" x=\"-1\"></plecoentry>'...\n",
      "Got: 'shì</span></span><span style=\"color:#E30000;\"><span style=\"font-weight:600;\">jiā</span></span>'...\n",
      "Entry 1492 differs at character 324:\n",
      "Exp: 'font-weight:600;\"> </span><span style=\"color:#02B31C;\"><span style=\"font-weight:600;\">huái</span></span><span style=\"color:#02B31C;\"><span style=\"font-weight:600;\">yí</span></span></p>\\n</div><div align=\"left\"><p>raise doubts; arouse suspicion</p>\\n</div><plecoentry c=\"00000000\" d=\"50414345\" e=\"042d22aa\" x=\"-1\"></plecoentry>'...\n",
      "Got: 'color:#02B31C;\"><span style=\"font-weight:600;\">huái</span></span><span style=\"color:#02B31C;\"><span style=\"font-weight:600;\">yí</span></span>'...\n",
      "Entry 1532 differs at character 245:\n",
      "Exp: 'font-weight:600;\"> </span><span style=\"color:#E30000;\"><span style=\"font-weight:600;\">yīn</span></span><span style=\"color:#02B31C;\"><span style=\"font-weight:600;\">dé</span></span></p>\\n</div><div align=\"left\"><p>accumulate hidden merit</p>\\n</div><plecoentry c=\"00000000\" d=\"50414345\" e=\"0492f02a\" x=\"-1\"></plecoentry>'...\n",
      "Got: 'color:#E30000;\"><span style=\"font-weight:600;\">yīn</span></span><span style=\"color:#02B31C;\"><span style=\"font-weight:600;\">dé</span></span>'...\n",
      "Entry 1553 differs at character 292:\n",
      "Exp: '1510F0;\"><span style=\"font-weight:600;\">chǎng</span></span></p>\\n</div><div align=\"left\"><p><b><span style=\"font-size:0.80em;\"><span style=\"color:#B4B4B4;\">VERB</span></span></b><br/>\\n<b>1\\t</b>go on stage; enter<br/>\\n<b>2\\t</b>show oneself in public</p>\\n</div><plecoentry c=\"00000000\" d=\"50414345\" e=\"012e0000\" x=\"-1\"></plecoentry>'...\n",
      "Got: '02B31C;\"><span style=\"font-weight:600;\">cháng</span></span>'...\n",
      "Entry 1558 differs at character 163:\n",
      "Exp: 'font-weight:600;\">→</span><span style=\"color:#E30000;\"><span style=\"font-weight:600;\">bāo</span></span><span style=\"color:#E30000;\"><span style=\"font-weight:600;\">guā</span></span></p>\\n</div><div align=\"left\"><p>【臺拼】<span style=\"font-weight:600;\">bāoguā</span><br/>\\n【陸拼】<span style=\"font-weight:600;\">bāokuò</span><br/>\\n在總體中含有。<br/>\\n</p>\\n<blockquote style=\"border-left: 2px solid #0078c3; margin-left: 3px; padding-left: 1em; margin-top: 0px; margin-bottom: 0px;\"><p><span style=\"color:#0078C3;\">這次演奏會</span><span style=\"color:#0078C3;\"><b>包括</b></span><span style=\"color:#0078C3;\">鋼琴、長笛、小提琴等項目。</span></p>\\n</blockquote>\\n</div><plecoentry c=\"00000000\" d=\"504c4143\" e=\"3bd90ba6\" x=\"-1\"></plecoentry>'...\n",
      "Got: 'color:#E30000;\"><span style=\"font-weight:600;\">bāo</span></span><span style=\"color:#8900BF;\"><span style=\"font-weight:600;\">kuò</span></span>'...\n",
      "Entry 1561 differs at character 247:\n",
      "Exp: '02B31C;\"><span style=\"font-weight:600;\">hé</span></span></p>\\n</div><div align=\"left\"><p><b><span style=\"font-size:0.80em;\"><span style=\"color:#B4B4B4;\">VERB</span></span></b><br/>\\n<b>1\\t</b>coordinate; cooperate; concert<br/>\\n</p>\\n<blockquote style=\"border-left: 2px solid #0078c3; margin-left: 3px; padding-left: 1em; margin-top: 0px; margin-bottom: 0px;\"><p><b><span style=\"color:#0078C3;\">配合</span></b><span style=\"color:#0078C3;\">行動</span><br/>\\n<b>pèihé</b><span style=\"font-weight:600;\"> xíngdòng</span><br/>\\ntake concerted action<br/>\\n</p>\\n</blockquote>\\n<blockquote style=\"border-left: 2px solid #0078c3; margin-left: 3px; padding-left: 1em; margin-top: 0px; margin-bottom: 0px;\"><p><b><span style=\"color:#0078C3;\">配合</span></b><span style=\"color:#0078C3;\">作戰</span><br/>\\n<b>pèihé</b><span style=\"font-weight:600;\"> zuòzhàn</span><br/>\\ncoordinated military operations<br/>\\n</p>\\n</blockquote>\\n<blockquote style=\"border-left: 2px solid #0078c3; margin-left: 3px; padding-left: 1em; margin-top: 0px'...\n",
      "Got: '777777;\"><span style=\"font-weight:600;\">he</span></span>'...\n",
      "Entry 1570 differs at character 241:\n",
      "Exp: 'font-weight:600;\"> </span><span style=\"color:#02B31C;\"><span style=\"font-weight:600;\">míng</span></span><span style=\"font-weight:600;\"> </span><span style=\"color:#1510F0;\"><span style=\"font-weight:600;\">suǒ</span></span><span style=\"font-weight:600;\"> </span><span style=\"color:#1510F0;\"><span style=\"font-weight:600;\">yǐ</span></span></p>\\n</div><div align=\"left\"><p>not know why it is so</p>\\n</div><plecoentry c=\"00000000\" d=\"50414345\" e=\"0473c9aa\" x=\"-1\"></plecoentry>'...\n",
      "Got: 'color:#02B31C;\"><span style=\"font-weight:600;\">míng</span></span><span style=\"color:#1510F0;\"><span style=\"font-weight:600;\">suǒ</span></span><span style=\"color:#1510F0;\"><span style=\"font-weight:600;\">yǐ</span></span>'...\n",
      "Entry 1596 differs at character 169:\n",
      "Exp: '8900BF;\"><span style=\"font-weight:600;\">dòng</span></span></p>\\n</div><div align=\"left\"><p>(Tw) bowl of steamed rice with other food on top (loanword from Japanese \"donburi\")</p>\\n</div><plecoentry c=\"00000000\" d=\"50434544\" e=\"0202be00\" x=\"-1\"></plecoentry>'...\n",
      "Got: '1510F0;\"><span style=\"font-weight:600;\">jǐng</span></span>'...\n",
      "Entry 1602 differs at character 169:\n",
      "Exp: '1510F0;\"><span style=\"font-weight:600;\">pǔ</span></span></p>\\n</div><div align=\"left\"><p><b><span style=\"font-size:0.80em;\"><span style=\"color:#B4B4B4;\">NOUN</span></span></b><br/>\\n[in place names]<br/>\\n</p>\\n<blockquote style=\"border-left: 2px solid #0078c3; margin-left: 3px; padding-left: 1em; margin-top: 0px; margin-bottom: 0px;\"><p><span style=\"color:#0078C3;\">黃</span><span style=\"color:#0078C3;\"><b>埔</b></span><br/>\\n<span style=\"font-weight:600;\">Huáng</span><b>pǔ</b><br/>\\nHuangpu (a district of Guangzhou City, Guangdong Province)</p>\\n</blockquote>\\n</div><plecoentry c=\"00000000\" d=\"50414345\" e=\"01abe900\" x=\"-1\"></plecoentry>'...\n",
      "Got: '8900BF;\"><span style=\"font-weight:600;\">bù</span></span>'...\n",
      "Entry 1638 differs at character 239:\n",
      "Exp: 'font-weight:600;\"> </span><span style=\"color:#E30000;\"><span style=\"font-weight:600;\">Kuāng</span></span></p>\\n</div><div align=\"left\"><p>Ni Kuang (1935-), Chinese novelist and screenwriter</p>\\n</div><plecoentry c=\"00000000\" d=\"50434544\" e=\"01582200\" x=\"-1\"></plecoentry>'...\n",
      "Got: 'color:#E30000;\"><span style=\"font-weight:600;\">Kuāng</span></span>'...\n",
      "Total correct entries: 0\n",
      "Total entries differing only in length: 1560\n"
     ]
    }
   ],
   "source": [
    "to_drop = [752, 376, 51, 74, 85, 99, 112, 126, 131]\n",
    "grade_fmt_entry(flashcard_entries, 1000, to_drop)"
   ]
  },
  {
   "cell_type": "code",
   "execution_count": 121,
   "metadata": {},
   "outputs": [
    {
     "data": {
      "text/plain": [
       "{'simplified': '运动',\n",
       " 'traditional': '運動',\n",
       " 'pinyin': 'yùn dong',\n",
       " 'definition': 'verb often pejorative arrange things through pull; use irregular means to gain ends; go lobbying 運動官府 yùndong guānfǔ canvass support from the authorities',\n",
       " 'dictid': 'PACE',\n",
       " 'formatted_back': '<div align=\"left\"><p><span style=\"font-size:32px\";>運動〔运动〕</span><br>\\n<span style=\"color:#B4B4B4;\"><b><span style=\"font-size:0.80em;\">PY </span></b></span><span style=\"color:#8900BF;\"><span style=\"font-weight:600;\">yùn</span></span><span style=\"font-weight:600;\"><span style=\"color:#8900BF;\">dòng</span></span></p>\\n</div><div align=\"left\"><p><b><span style=\"font-size:0.80em;\"><span style=\"color:#B4B4B4;\">VERB</span></span></b><br>\\n<b>1\\t</b>motion; movement<br>\\n</p>\\n<blockquote style=\"border-left: 2px solid #0078c3; margin-left: 3px; padding-left: 1em; margin-top: 0px; margin-bottom: 0px;\"><p><b><span style=\"color:#0078C3;\">運動</span></b><span style=\"color:#0078C3;\">的形式</span><br>\\n<b>yùndòng</b><span style=\"font-weight:600;\"> de xíngshì</span><br>\\nform of motion<br>\\n</p>\\n</blockquote>\\n<blockquote style=\"border-left: 2px solid #0078c3; margin-left: 3px; padding-left: 1em; margin-top: 0px; margin-bottom: 0px;\"><p><b><span style=\"color:#0078C3;\">運動</span></b><span style=\"color:#0078C3;\">中的物質</span><br>\\n<b>yùndòng</b><span style=\"font-weight:600;\"> zhòngdì wùzhì</span><br>\\nmatter in motion<br>\\n</p>\\n</blockquote>\\n<blockquote style=\"border-left: 2px solid #0078c3; margin-left: 3px; padding-left: 1em; margin-top: 0px; margin-bottom: 0px;\"><p><span style=\"color:#0078C3;\">行星的</span><span style=\"color:#0078C3;\"><b>運動</b></span><br>\\n<span style=\"font-weight:600;\">xíngxīng de </span><b>yùndòng</b><br>\\nmovement of a planet<br>\\n</p>\\n</blockquote>\\n<blockquote style=\"border-left: 2px solid #0078c3; margin-left: 3px; padding-left: 1em; margin-top: 0px; margin-bottom: 0px;\"><p><b><span style=\"color:#0078C3;\">運動</span></b><span style=\"color:#0078C3;\">是物質的存在方式。</span><br>\\n<b>Yùndòng</b><span style=\"font-weight:600;\"> shì wùzhì de cúnzài fāngshì.</span><br>\\nMotion is the mode of existence of matter.<br>\\n</p>\\n</blockquote>\\n<blockquote style=\"border-left: 2px solid #0078c3; margin-left: 3px; padding-left: 1em; margin-top: 0px; margin-bottom: 0px;\"><p><span style=\"color:#0078C3;\">乘敵</span><span style=\"color:#0078C3;\"><b>運動</b></span><span style=\"color:#0078C3;\">之際, 打擊敵人。</span><br>\\n<span style=\"font-weight:600;\">Chéng dí </span><b>yùndòng</b><span style=\"font-weight:600;\"> zhījì, dǎjī dírén.</span><br>\\nAttack the enemy while he is on the move.<br>\\n</p>\\n</blockquote>\\n<p><b>2\\t</b>sports; athletics; exercise<br>\\n</p>\\n<blockquote style=\"border-left: 2px solid #0078c3; margin-left: 3px; padding-left: 1em; margin-top: 0px; margin-bottom: 0px;\"><p><span style=\"color:#0078C3;\">室外</span><span style=\"color:#0078C3;\"><b>運動</b></span><br>\\n<span style=\"font-weight:600;\">Shìwài </span><b>yùndòng</b><br>\\noutdoor sports<br>\\n</p>\\n</blockquote>\\n<blockquote style=\"border-left: 2px solid #0078c3; margin-left: 3px; padding-left: 1em; margin-top: 0px; margin-bottom: 0px;\"><p><span style=\"color:#0078C3;\">散步也是一種</span><span style=\"color:#0078C3;\"><b>運動</b></span><span style=\"color:#0078C3;\">。</span><br>\\n<span style=\"font-weight:600;\">Sànbù yě shì yī zhǒng </span><b>yùndòng</b><span style=\"font-weight:600;\">.</span><br>\\nWalking is also a form of exercise.<br>\\n</p>\\n</blockquote>\\n<blockquote style=\"border-left: 2px solid #0078c3; margin-left: 3px; padding-left: 1em; margin-top: 0px; margin-bottom: 0px;\"><p><span style=\"color:#0078C3;\">游泳是我喜愛的</span><span style=\"color:#0078C3;\"><b>運動</b></span><span style=\"color:#0078C3;\">。</span><br>\\n<span style=\"font-weight:600;\">Yóuyǒng shì wǒ xǐ\\'ài de </span><b>yùndòng</b><span style=\"font-weight:600;\">.</span><br>\\nSwimming is my favourite sport.<br>\\n</p>\\n</blockquote>\\n<p><br>\\n<b><span style=\"font-size:0.80em;\"><span style=\"color:#B4B4B4;\">NOUN</span></span></b><br>\\n(political or cultural) movement; campaign; drive<br>\\n</p>\\n<blockquote style=\"border-left: 2px solid #0078c3; margin-left: 3px; padding-left: 1em; margin-top: 0px; margin-bottom: 0px;\"><p><span style=\"color:#0078C3;\">競選</span><span style=\"color:#0078C3;\"><b>運動</b></span><br>\\n<span style=\"font-weight:600;\">Jìngxuǎn </span><b>yùndòng</b><br>\\nelection campaign<br>\\n</p>\\n</blockquote>\\n<blockquote style=\"border-left: 2px solid #0078c3; margin-left: 3px; padding-left: 1em; margin-top: 0px; margin-bottom: 0px;\"><p><span style=\"color:#0078C3;\">技術革新</span><span style=\"color:#0078C3;\"><b>運動</b></span><br>\\n<span style=\"font-weight:600;\">jìshù géxīn </span><b>yùndòng</b><br>\\ndrive for technological innovation</p>\\n</blockquote>\\n</div><plecoentry c=\"00000000\" d=\"50414345\" e=\"021e2900\" x=\"-1\"/>'}"
      ]
     },
     "execution_count": 121,
     "metadata": {},
     "output_type": "execute_result"
    }
   ],
   "source": [
    "target = 131\n",
    "drop(flashcard_entries, to_drop)[target]"
   ]
  },
  {
   "cell_type": "code",
   "execution_count": 65,
   "metadata": {},
   "outputs": [
    {
     "name": "stdout",
     "output_type": "stream",
     "text": [
      "<div align=\"left\"><p><span ;=\"\" style=\"font-size:32px\">艘</span><br/>\n",
      "<span style=\"color:#B4B4B4;\"><b><span style=\"font-size:0.80em;\">PY </span></b></span><span style=\"color:#E30000;\"><span style=\"font-weight:600;\">sōu</span></span></p>\n",
      "</div><div align=\"left\"><p><b><span style=\"font-size:0.80em;\"><span style=\"color:#B4B4B4;\">MEASURE WORD</span></span></b><br/>\n",
      "[for boats or ships]<br/>\n",
      "</p>\n",
      "<blockquote style=\"border-left: 2px solid #0078c3; margin-left: 3px; padding-left: 1em; margin-top: 0px; margin-bottom: 0px;\"><p><span style=\"color:#0078C3;\">兩</span><span style=\"color:#0078C3;\"><b>艘</b></span><span style=\"color:#0078C3;\">油船</span><br/>\n",
      "<span style=\"font-weight:600;\">Liǎng </span><b>sōu</b><span style=\"font-weight:600;\"> yóuchuán</span><br/>\n",
      "two tankers<br/>\n",
      "</p>\n",
      "</blockquote>\n",
      "<blockquote style=\"border-left: 2px solid #0078c3; margin-left: 3px; padding-left: 1em; margin-top: 0px; margin-bottom: 0px;\"><p><span style=\"color:#0078C3;\">一</span><span style=\"color:#0078C3;\"><b>艘</b></span><span style=\"color:#0078C3;\">飛船</span><br/>\n",
      "<span style=\"font-weight:600;\">Yī </span><b>sōu</b><span style=\"font-weight:600;\"> fēichuán</span><br/>\n",
      "a spaceship<br/>\n",
      "</p>\n",
      "</blockquote>\n",
      "<blockquote style=\"border-left: 2px solid #0078c3; margin-left: 3px; padding-left: 1em; margin-top: 0px; margin-bottom: 0px;\"><p><span style=\"color:#0078C3;\">四</span><span style=\"color:#0078C3;\"><b>艘</b></span><span style=\"color:#0078C3;\">巡洋艦</span><br/>\n",
      "<span style=\"font-weight:600;\">sì </span><b>sōu</b><span style=\"font-weight:600;\"> xúnyángjiàn</span><br/>\n",
      "four cruisers</p>\n",
      "</blockquote>\n",
      "</div><plecoentry c=\"00000000\" d=\"50414345\" e=\"01d76100\" x=\"-1\"></plecoentry>\n"
     ]
    }
   ],
   "source": [
    "expected = flashcard_entries[target]['formatted_back']\n",
    "# expected = expected.replace(' ;=\"\"', \";\")\n",
    "expected = reorder_nested_spans(expected)\n",
    "print(expected)"
   ]
  },
  {
   "cell_type": "code",
   "execution_count": 66,
   "metadata": {},
   "outputs": [
    {
     "data": {
      "text/plain": [
       "<span ;=\"\" style=\"font-size:32px\">hi</span>"
      ]
     },
     "execution_count": 66,
     "metadata": {},
     "output_type": "execute_result"
    }
   ],
   "source": [
    "# Parse the HTML text\n",
    "soup = BeautifulSoup('<root><span style=\"font-size:32px\";>hi</span></root>', 'html.parser')\n",
    "\n",
    "# Find all span elements\n",
    "spans = soup.find_all('span')\n",
    "spans[0]\n"
   ]
  },
  {
   "cell_type": "code",
   "execution_count": 68,
   "metadata": {},
   "outputs": [],
   "source": [
    "if \";\" in spans[0].attrs:\n",
    "    del spans[0].attrs[\";\"]"
   ]
  },
  {
   "cell_type": "code",
   "execution_count": 69,
   "metadata": {},
   "outputs": [
    {
     "data": {
      "text/plain": [
       "<span style=\"font-size:32px\">hi</span>"
      ]
     },
     "execution_count": 69,
     "metadata": {},
     "output_type": "execute_result"
    }
   ],
   "source": [
    "spans[0]"
   ]
  },
  {
   "cell_type": "code",
   "execution_count": null,
   "metadata": {},
   "outputs": [],
   "source": []
  }
 ],
 "metadata": {
  "kernelspec": {
   "display_name": "venv",
   "language": "python",
   "name": "python3"
  },
  "language_info": {
   "codemirror_mode": {
    "name": "ipython",
    "version": 3
   },
   "file_extension": ".py",
   "mimetype": "text/x-python",
   "name": "python",
   "nbconvert_exporter": "python",
   "pygments_lexer": "ipython3",
   "version": "3.12.8"
  }
 },
 "nbformat": 4,
 "nbformat_minor": 2
}
