{
 "cells": [
  {
   "cell_type": "code",
   "execution_count": 3,
   "metadata": {},
   "outputs": [
    {
     "name": "stdout",
     "output_type": "stream",
     "text": [
      "Loading credentials from token.json\n"
     ]
    }
   ],
   "source": [
    "%run sandbox.ipynb"
   ]
  },
  {
   "cell_type": "code",
   "execution_count": 5,
   "metadata": {},
   "outputs": [
    {
     "name": "stdout",
     "output_type": "stream",
     "text": [
      "Anki sync successful.\n",
      "Total cards found in 'Pleco Import': 1659\n",
      "success\n",
      "Latest flashcard xml last modified time: 2025-01-02 12:17:32 EST-0500\n",
      "1648 flashcard entries found| 1 error entries found\n"
     ]
    }
   ],
   "source": [
    "main()"
   ]
  },
  {
   "cell_type": "code",
   "execution_count": 2,
   "metadata": {},
   "outputs": [
    {
     "data": {
      "text/plain": [
       "{'simplified': '艘',\n",
       " 'traditional': '艘',\n",
       " 'pinyin': 'sōu',\n",
       " 'definition': 'measure word [for boats or ships] 兩艘油船 Liǎng sōu yóuchuán two tankers 一艘飛船 Yī sōu fēichuán a spaceship 四艘巡洋艦 sì sōu xúnyángjiàn four cruisers',\n",
       " 'dictid': 'PACE',\n",
       " 'formatted_back': '<div align=\"left\"><p><span style=\"font-size:32px\";>艘</span><br>\\n<span style=\"color:#B4B4B4;\"><b><span style=\"font-size:0.80em;\">PY </span></b></span><span style=\"color:#E30000;\"><span style=\"font-weight:600;\">sōu</span></span></p>\\n</div><div align=\"left\"><p><b><span style=\"font-size:0.80em;\"><span style=\"color:#B4B4B4;\">MEASURE WORD</span></span></b><br>\\n[for boats or ships]<br>\\n</p>\\n<blockquote style=\"border-left: 2px solid #0078c3; margin-left: 3px; padding-left: 1em; margin-top: 0px; margin-bottom: 0px;\"><p><span style=\"color:#0078C3;\">兩</span><span style=\"color:#0078C3;\"><b>艘</b></span><span style=\"color:#0078C3;\">油船</span><br>\\n<span style=\"font-weight:600;\">Liǎng </span><b>sōu</b><span style=\"font-weight:600;\"> yóuchuán</span><br>\\ntwo tankers<br>\\n</p>\\n</blockquote>\\n<blockquote style=\"border-left: 2px solid #0078c3; margin-left: 3px; padding-left: 1em; margin-top: 0px; margin-bottom: 0px;\"><p><span style=\"color:#0078C3;\">一</span><span style=\"color:#0078C3;\"><b>艘</b></span><span style=\"color:#0078C3;\">飛船</span><br>\\n<span style=\"font-weight:600;\">Yī </span><b>sōu</b><span style=\"font-weight:600;\"> fēichuán</span><br>\\na spaceship<br>\\n</p>\\n</blockquote>\\n<blockquote style=\"border-left: 2px solid #0078c3; margin-left: 3px; padding-left: 1em; margin-top: 0px; margin-bottom: 0px;\"><p><span style=\"color:#0078C3;\">四</span><span style=\"color:#0078C3;\"><b>艘</b></span><span style=\"color:#0078C3;\">巡洋艦</span><br>\\n<span style=\"font-weight:600;\">sì </span><b>sōu</b><span style=\"font-weight:600;\"> xúnyángjiàn</span><br>\\nfour cruisers</p>\\n</blockquote>\\n</div><plecoentry c=\"00000000\" d=\"50414345\" e=\"01d76100\" x=\"-1\"/>'}"
      ]
     },
     "execution_count": 2,
     "metadata": {},
     "output_type": "execute_result"
    }
   ],
   "source": [
    "import json\n",
    "\n",
    "with open('flashcard_entries.json', 'r') as file:\n",
    "    flashcard_entries = json.load(file)\n",
    "\n",
    "flashcard_entries[0]"
   ]
  },
  {
   "cell_type": "code",
   "execution_count": 14,
   "metadata": {},
   "outputs": [],
   "source": [
    "def fmt_entry(entry):\n",
    "    traditional = entry.get(\"traditional\", \"\")\n",
    "    simplified = entry.get(\"simplified\", \"\")\n",
    "    pinyin = entry.get(\"pinyin\", \"\")\n",
    "    definition = entry.get(\"definition\", \"\")\n",
    "    simplified_hint = f\"〔{simplified}〕\" if traditional != simplified else \"\"\n",
    "\n",
    "    formatted_back = \"\"\n",
    "    formatted_back += f'<div align=\"left\"><p><span style=\"font-size:32px\";>{traditional}{simplified_hint}</span><br>\\n'\n",
    "\n",
    "    return formatted_back"
   ]
  },
  {
   "cell_type": "code",
   "execution_count": 28,
   "metadata": {},
   "outputs": [],
   "source": [
    "def grade_fmt_entry(flashcard_entries, n_error_char_show=10):\n",
    "    correct_count = 0\n",
    "    length_diff_count = 0\n",
    "    for i, entry in enumerate(flashcard_entries):\n",
    "        expected = entry['formatted_back']\n",
    "        expected = expected.replace(' ;=\"\"', \";\")\n",
    "        result = fmt_entry(entry)\n",
    "        \n",
    "        if expected != result:\n",
    "            for j in range(min(len(expected), len(result))):\n",
    "                if expected[j] != result[j]:\n",
    "                    print(f\"Entry {i} differs at character {j}:\")\n",
    "                    print(f\"Exp: {repr(expected[j:j+n_error_char_show])}...\")\n",
    "                    print(f\"Got: {repr(result[j:j+n_error_char_show])}...\")\n",
    "                    break\n",
    "                    # return\n",
    "            else:\n",
    "                length_diff_count += 1\n",
    "                continue\n",
    "        else:\n",
    "            correct_count += 1\n",
    "    print(f\"Total correct entries: {correct_count}\")\n",
    "    print(f\"Total entries differing only in length: {length_diff_count}\")"
   ]
  },
  {
   "cell_type": "code",
   "execution_count": 29,
   "metadata": {},
   "outputs": [
    {
     "name": "stdout",
     "output_type": "stream",
     "text": [
      "Entry 376 differs at character 52:\n",
      "Exp: '〔于〕</span><br>\\n<span style=\"color:#B4B4B4;\"><b><span style=\"font-size:0.80em;\">PY </span></b></span>'...\n",
      "Got: '</span><br>\\n'...\n",
      "Entry 752 differs at character 52:\n",
      "Exp: '</span><br>\\n<span style=\"color:#B4B4B4;\"><b><span style=\"font-size:0.80em;\">PY </span></b></span><sp'...\n",
      "Got: '〔闲〕</span><br>\\n'...\n",
      "Total correct entries: 0\n",
      "Total entries differing only in length: 1646\n"
     ]
    }
   ],
   "source": [
    "grade_fmt_entry(flashcard_entries, 100)"
   ]
  },
  {
   "cell_type": "code",
   "execution_count": 27,
   "metadata": {},
   "outputs": [
    {
     "data": {
      "text/plain": [
       "{'simplified': '於',\n",
       " 'traditional': '於',\n",
       " 'pinyin': 'wū',\n",
       " 'definition': 'interjection classical ah! oh! \\nnoun archaic crow 於鵲 wūquè crow and magpie',\n",
       " 'dictid': 'PACE',\n",
       " 'formatted_back': '<div align=\"left\"><p><span style=\"font-size:32px\";>於〔于〕</span><br>\\n<span style=\"color:#B4B4B4;\"><b><span style=\"font-size:0.80em;\">PY </span></b></span><span style=\"color:#02B31C;\"><span style=\"font-weight:600;\">yú</span></span></p>\\n</div><div align=\"left\"><p><b><span style=\"font-size:0.80em;\"><span style=\"color:#B4B4B4;\">PREPOSITION</span></span></b><br>\\n<b>1\\t</b>[indicating time or place] in; on; at<br>\\n</p>\\n<blockquote style=\"border-left: 2px solid #0078c3; margin-left: 3px; padding-left: 1em; margin-top: 0px; margin-bottom: 0px;\"><p><span style=\"color:#0078C3;\">生</span><span style=\"color:#0078C3;\"><b>於</b></span><span style=\"color:#0078C3;\">上海</span><br>\\n<span style=\"font-weight:600;\">shēng</span><b>yú</b><span style=\"font-weight:600;\"> Shànghǎi</span><br>\\nborn in Shanghai<br>\\n</p>\\n</blockquote>\\n<blockquote style=\"border-left: 2px solid #0078c3; margin-left: 3px; padding-left: 1em; margin-top: 0px; margin-bottom: 0px;\"><p><span style=\"color:#0078C3;\">馳名</span><span style=\"color:#0078C3;\"><b>於</b></span><span style=\"color:#0078C3;\">全世界</span><br>\\n<span style=\"font-weight:600;\">chímíng </span><b>yú</b><span style=\"font-weight:600;\"> quánshìjiè</span><br>\\nbe famous throughout the world; be of world renown<br>\\n</p>\\n</blockquote>\\n<blockquote style=\"border-left: 2px solid #0078c3; margin-left: 3px; padding-left: 1em; margin-top: 0px; margin-bottom: 0px;\"><p><span style=\"color:#0078C3;\">就學</span><span style=\"color:#0078C3;\"><b>於</b></span><span style=\"color:#0078C3;\">北京大學</span><br>\\n<span style=\"font-weight:600;\">jiù xué </span><b>yú</b><span style=\"font-weight:600;\"> Běijīng Dàxué</span><br>\\nstudy at Beijing University<br>\\n</p>\\n</blockquote>\\n<blockquote style=\"border-left: 2px solid #0078c3; margin-left: 3px; padding-left: 1em; margin-top: 0px; margin-bottom: 0px;\"><p><span style=\"color:#0078C3;\">來信</span><span style=\"color:#0078C3;\"><b>於</b></span><span style=\"color:#0078C3;\">十五日收到。</span><br>\\n<span style=\"font-weight:600;\">Láixìn </span><b>yú</b><span style=\"font-weight:600;\"> shíwǔ rì shōudào.</span><br>\\nYour letter was received on the 15th.<br>\\n</p>\\n</blockquote>\\n<blockquote style=\"border-left: 2px solid #0078c3; margin-left: 3px; padding-left: 1em; margin-top: 0px; margin-bottom: 0px;\"><p><span style=\"color:#0078C3;\">此項工程將</span><span style=\"color:#0078C3;\"><b>於</b></span><span style=\"color:#0078C3;\">三年內完成。</span><br>\\n<span style=\"font-weight:600;\">Cǐ xiàng gōngchéng jiāng </span><b>yú</b><span style=\"font-weight:600;\"> sān nián nèi wánchéng.</span><br>\\nThis project is to be completed within three years.<br>\\n</p>\\n</blockquote>\\n<blockquote style=\"border-left: 2px solid #0078c3; margin-left: 3px; padding-left: 1em; margin-top: 0px; margin-bottom: 0px;\"><p><span style=\"color:#0078C3;\">第一次世界大戰爆發</span><span style=\"color:#0078C3;\"><b>於</b></span><span style=\"color:#0078C3;\">一九一四年。</span><br>\\n<span style=\"font-weight:600;\">Dì-yī cì shìjiè dàzhàn bàofā </span><b>yú</b><span style=\"font-weight:600;\"> yī jiǔyīsì nián.</span><br>\\nThe First World War broke out in 1914.<br>\\n</p>\\n</blockquote>\\n<p><b>2\\t</b>[indicating direction] toward; to<br>\\n</p>\\n<blockquote style=\"border-left: 2px solid #0078c3; margin-left: 3px; padding-left: 1em; margin-top: 0px; margin-bottom: 0px;\"><p><span style=\"color:#0078C3;\">求助</span><span style=\"color:#0078C3;\"><b>於</b></span><span style=\"color:#0078C3;\">人</span><br>\\n<span style=\"font-weight:600;\">qiúzhù</span><b>yú</b><span style=\"font-weight:600;\">rén</span><br>\\nask people for help<br>\\n</p>\\n</blockquote>\\n<blockquote style=\"border-left: 2px solid #0078c3; margin-left: 3px; padding-left: 1em; margin-top: 0px; margin-bottom: 0px;\"><p><span style=\"color:#0078C3;\">熱衷</span><span style=\"color:#0078C3;\"><b>於</b></span><span style=\"color:#0078C3;\">集郵</span><br>\\n<span style=\"font-weight:600;\">rèzhōng </span><b>yú</b><span style=\"font-weight:600;\"> jíyóu</span><br>\\nbe keen on stamp collecting<br>\\n</p>\\n</blockquote>\\n<p><b>3\\t</b>[indicating giving or yielding to sb.] to; onto<br>\\n</p>\\n<blockquote style=\"border-left: 2px solid #0078c3; margin-left: 3px; padding-left: 1em; margin-top: 0px; margin-bottom: 0px;\"><p><span style=\"color:#0078C3;\">腐朽的勢力讓位</span><span style=\"color:#0078C3;\"><b>於</b></span><span style=\"color:#0078C3;\">新生的勢力。</span><br>\\n<span style=\"font-weight:600;\">Fǔxiǔ de shìli ràngwèi </span><b>yú</b><span style=\"font-weight:600;\"> xīn shēng de shìli.</span><br>\\nDecaying forces give way to new rising forces.<br>\\n</p>\\n</blockquote>\\n<p><b>4\\t</b>with regard to; concerning; to<br>\\n</p>\\n<blockquote style=\"border-left: 2px solid #0078c3; margin-left: 3px; padding-left: 1em; margin-top: 0px; margin-bottom: 0px;\"><p><span style=\"color:#0078C3;\">有利</span><span style=\"color:#0078C3;\"><b>於</b></span><span style=\"color:#0078C3;\">提高產量</span><br>\\n<span style=\"font-weight:600;\">Yǒulì </span><b>yú</b><span style=\"font-weight:600;\"> tígāo chǎnliàng</span><br>\\nbe conducive to higher yields<br>\\n</p>\\n</blockquote>\\n<blockquote style=\"border-left: 2px solid #0078c3; margin-left: 3px; padding-left: 1em; margin-top: 0px; margin-bottom: 0px;\"><p><span style=\"color:#0078C3;\">操之過急, </span><span style=\"color:#0078C3;\"><b>於</b></span><span style=\"color:#0078C3;\">事無補。</span><br>\\n<span style=\"font-weight:600;\">Cāozhīguòjí, </span><b>yú</b><span style=\"font-weight:600;\">shìwúbǔ.</span><br>\\nIt would be of no avail to act with undue haste.<br>\\n</p>\\n</blockquote>\\n<blockquote style=\"border-left: 2px solid #0078c3; margin-left: 3px; padding-left: 1em; margin-top: 0px; margin-bottom: 0px;\"><p><span style=\"color:#0078C3;\">這樣</span><span style=\"color:#0078C3;\"><b>於</b></span><span style=\"color:#0078C3;\">你自己不利。</span><br>\\n<span style=\"font-weight:600;\">Zhèyàng </span><b>yú</b><span style=\"font-weight:600;\"> nǐ zìjǐ bùlì.</span><br>\\nIt won’t do you any good.<br>\\n</p>\\n</blockquote>\\n<p><b>5\\t</b>[indicating beginning or origin] from<br>\\n</p>\\n<blockquote style=\"border-left: 2px solid #0078c3; margin-left: 3px; padding-left: 1em; margin-top: 0px; margin-bottom: 0px;\"><p><span style=\"color:#0078C3;\">黃河發源</span><span style=\"color:#0078C3;\"><b>於</b></span><span style=\"color:#0078C3;\">青海。</span><br>\\n<span style=\"font-weight:600;\">Huáng Hé fā yuán</span><b>yú</b><span style=\"font-weight:600;\"> Qīnghǎi.</span><br>\\nThe Yellow River rises in Qinghai Province.<br>\\n</p>\\n</blockquote>\\n<blockquote style=\"border-left: 2px solid #0078c3; margin-left: 3px; padding-left: 1em; margin-top: 0px; margin-bottom: 0px;\"><p><span style=\"color:#0078C3;\">認識來源</span><span style=\"color:#0078C3;\"><b>於</b></span><span style=\"color:#0078C3;\">實踐。</span><br>\\n<span style=\"font-weight:600;\">Rènshi láiyuán</span><b>yú</b><span style=\"font-weight:600;\"> shíjiàn.</span><br>\\nKnowledge comes from practice.<br>\\n</p>\\n</blockquote>\\n<p><b>6\\t</b>[indicating comparison] than<br>\\n</p>\\n<blockquote style=\"border-left: 2px solid #0078c3; margin-left: 3px; padding-left: 1em; margin-top: 0px; margin-bottom: 0px;\"><p><span style=\"color:#0078C3;\">不少</span><span style=\"color:#0078C3;\"><b>於</b></span><span style=\"color:#0078C3;\">五千人</span><br>\\n<span style=\"font-weight:600;\">Bù shǎo</span><b>yú</b><span style=\"font-weight:600;\"> wǔqiān rén</span><br>\\nno less than 5,000 people<br>\\n</p>\\n</blockquote>\\n<blockquote style=\"border-left: 2px solid #0078c3; margin-left: 3px; padding-left: 1em; margin-top: 0px; margin-bottom: 0px;\"><p><span style=\"color:#0078C3;\">友誼貴</span><span style=\"color:#0078C3;\"><b>於</b></span><span style=\"color:#0078C3;\">黃金。</span><br>\\n<span style=\"font-weight:600;\">Yǒuyì guì </span><b>yú</b><span style=\"font-weight:600;\"> huángjīn.</span><br>\\nFriendship is more precious than gold.<br>\\n</p>\\n</blockquote>\\n<blockquote style=\"border-left: 2px solid #0078c3; margin-left: 3px; padding-left: 1em; margin-top: 0px; margin-bottom: 0px;\"><p><span style=\"color:#0078C3;\">金星略小</span><span style=\"color:#0078C3;\"><b>於</b></span><span style=\"color:#0078C3;\">地球。</span><br>\\n<span style=\"font-weight:600;\">Jīnxīng lüè xiǎo</span><b>yú</b><span style=\"font-weight:600;\"> dìqiú.</span><br>\\nVenus is a little smaller than the earth.<br>\\n</p>\\n</blockquote>\\n<p><b>7\\t</b>[indicating the doer of an action] by<br>\\n</p>\\n<blockquote style=\"border-left: 2px solid #0078c3; margin-left: 3px; padding-left: 1em; margin-top: 0px; margin-bottom: 0px;\"><p><span style=\"color:#0078C3;\">見笑</span><span style=\"color:#0078C3;\"><b>於</b></span><span style=\"color:#0078C3;\">人</span><br>\\n<span style=\"font-weight:600;\">Jiànxiào </span><b>yú</b><span style=\"font-weight:600;\"> rén</span><br>\\nbe laughed at (by others)<br>\\n</p>\\n</blockquote>\\n<blockquote style=\"border-left: 2px solid #0078c3; margin-left: 3px; padding-left: 1em; margin-top: 0px; margin-bottom: 0px;\"><p><span style=\"color:#0078C3;\">主隊敗</span><span style=\"color:#0078C3;\"><b>於</b></span><span style=\"color:#0078C3;\">客隊。</span><br>\\n<span style=\"font-weight:600;\">Zhǔduì bài </span><b>yú</b><span style=\"font-weight:600;\"> kèduì.</span><br>\\nThe home team was defeated by the visiting team.<br>\\n</p>\\n</blockquote>\\n<p><br>\\n<b><span style=\"font-size:0.80em;\"><span style=\"color:#B4B4B4;\">AFFIX</span></span></b><br>\\n[after a verb or an adjective]<br>\\n</p>\\n<blockquote style=\"border-left: 2px solid #0078c3; margin-left: 3px; padding-left: 1em; margin-top: 0px; margin-bottom: 0px;\"><p><span style=\"color:#0078C3;\">屬</span><span style=\"color:#0078C3;\"><b>於</b></span><br>\\n<span style=\"font-weight:600;\">shǔ</span><b>yú</b><br>\\nbelong to<br>\\n</p>\\n</blockquote>\\n<blockquote style=\"border-left: 2px solid #0078c3; margin-left: 3px; padding-left: 1em; margin-top: 0px; margin-bottom: 0px;\"><p><span style=\"color:#0078C3;\">勇</span><span style=\"color:#0078C3;\"><b>於</b></span><br>\\n<span style=\"font-weight:600;\">yǒng</span><b>yú</b><br>\\nhave the courage to; dare to<br>\\n</p>\\n</blockquote>\\n<blockquote style=\"border-left: 2px solid #0078c3; margin-left: 3px; padding-left: 1em; margin-top: 0px; margin-bottom: 0px;\"><p><span style=\"color:#0078C3;\">至</span><span style=\"color:#0078C3;\"><b>於</b></span><br>\\n<span style=\"font-weight:600;\">zhì</span><b>yú</b><br>\\nas for</p>\\n</blockquote>\\n</div><plecoentry c=\"00000000\" d=\"50414345\" e=\"02186e00\" x=\"-1\"/>'}"
      ]
     },
     "execution_count": 27,
     "metadata": {},
     "output_type": "execute_result"
    }
   ],
   "source": [
    "flashcard_entries[376]"
   ]
  },
  {
   "cell_type": "code",
   "execution_count": null,
   "metadata": {},
   "outputs": [],
   "source": []
  }
 ],
 "metadata": {
  "kernelspec": {
   "display_name": "venv",
   "language": "python",
   "name": "python3"
  },
  "language_info": {
   "codemirror_mode": {
    "name": "ipython",
    "version": 3
   },
   "file_extension": ".py",
   "mimetype": "text/x-python",
   "name": "python",
   "nbconvert_exporter": "python",
   "pygments_lexer": "ipython3",
   "version": "3.12.8"
  }
 },
 "nbformat": 4,
 "nbformat_minor": 2
}
