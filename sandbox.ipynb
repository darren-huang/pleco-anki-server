{
 "cells": [
  {
   "cell_type": "markdown",
   "metadata": {},
   "source": [
    "# imports and setup"
   ]
  },
  {
   "cell_type": "code",
   "execution_count": 14,
   "metadata": {},
   "outputs": [],
   "source": [
    "import time\n",
    "import os\n",
    "import json\n",
    "import glob\n",
    "from googleapiclient.discovery import build\n",
    "from googleapiclient.errors import HttpError\n",
    "from google.oauth2.credentials import Credentials\n",
    "from google_auth_oauthlib.flow import InstalledAppFlow\n",
    "from google.auth.transport.requests import Request"
   ]
  },
  {
   "cell_type": "code",
   "execution_count": 16,
   "metadata": {},
   "outputs": [],
   "source": [
    "# Define scopes for accessing Google Drive\n",
    "SCOPES = ['https://www.googleapis.com/auth/drive']\n",
    "MEMORY_FILE = 'processed_files.json'\n",
    "CREDENTIALS_FILE_WILDCARDED = './.credentials/client_secret*.json'\n",
    "TOKEN_FILE = './.credentials/token.json'"
   ]
  },
  {
   "cell_type": "markdown",
   "metadata": {},
   "source": [
    "# helper functions"
   ]
  },
  {
   "cell_type": "code",
   "execution_count": 17,
   "metadata": {},
   "outputs": [],
   "source": [
    "def find_file_with_wildcard(pattern):\n",
    "    \"\"\"Find file with wildcard pattern, raise error if no match or multiple matches.\"\"\"\n",
    "    # Use glob to find matching files\n",
    "    matching_files = glob.glob(pattern)\n",
    "    \n",
    "    # Check if no file was found\n",
    "    if len(matching_files) == 0:\n",
    "        raise FileNotFoundError(f\"No files found matching pattern: {pattern}\")\n",
    "    \n",
    "    # Check if more than one file was found\n",
    "    if len(matching_files) > 1:\n",
    "        raise ValueError(f\"Multiple files found matching pattern: {pattern}\")\n",
    "    \n",
    "    # Return the matched file path\n",
    "    return matching_files[0]\n",
    "\n",
    "CREDENTIALS_FILE = find_file_with_wildcard(CREDENTIALS_FILE_WILDCARDED)\n",
    "\n",
    "def authenticate_google_drive():\n",
    "    \"\"\"Authenticate with Google Drive and return the service object.\"\"\"\n",
    "    creds = None\n",
    "    # Check if token.json exists (token storage for authenticated user)\n",
    "    if os.path.exists(TOKEN_FILE):\n",
    "        creds = Credentials.from_authorized_user_file(TOKEN_FILE, SCOPES)\n",
    "    \n",
    "    # Authenticate if credentials are not valid or do not exist\n",
    "    if not creds or not creds.valid:\n",
    "        if creds and creds.expired and creds.refresh_token:\n",
    "            creds.refresh(Request())\n",
    "        else:\n",
    "            flow = InstalledAppFlow.from_client_secrets_file(CREDENTIALS_FILE, SCOPES)\n",
    "            creds = flow.run_local_server(port=0)\n",
    "        # Save credentials for the next run\n",
    "        with open(TOKEN_FILE, 'w') as token:\n",
    "            token.write(creds.to_json())\n",
    "    \n",
    "    # Build the Drive API service\n",
    "    return build('drive', 'v3', credentials=creds)\n",
    "\n",
    "def list_files_by_name(service, file_name):\n",
    "    \"\"\"List files with a specific name from Google Drive.\"\"\"\n",
    "    try:\n",
    "        results = service.files().list(\n",
    "            q=f\"name = '{file_name}'\",\n",
    "            fields=\"nextPageToken, files(id, name, mimeType, modifiedTime, parents)\",\n",
    "            orderBy=\"modifiedTime desc\"\n",
    "        ).execute()\n",
    "        return results.get('files', [])\n",
    "    except HttpError as error:\n",
    "        print(f\"An error occurred: {error}\")\n",
    "        return []\n",
    "\n",
    "def process_file(file):\n",
    "    \"\"\"Placeholder function to process a file.\"\"\"\n",
    "    print(f\"Processing file: {file['name']} (ID: {file['id']})\")\n",
    "\n",
    "def move_file_to_folder(service, file_id, folder_id):\n",
    "    \"\"\"Move a file to a specific folder in Google Drive.\"\"\"\n",
    "    try:\n",
    "        # Retrieve the current parents\n",
    "        file = service.files().get(fileId=file_id, fields='parents').execute()\n",
    "        previous_parents = \",\".join(file.get('parents', []))\n",
    "\n",
    "        # Move the file to the new folder\n",
    "        service.files().update(\n",
    "            fileId=file_id,\n",
    "            addParents=folder_id,\n",
    "            removeParents=previous_parents,\n",
    "            fields='id, parents'\n",
    "        ).execute()\n",
    "        print(f\"File {file_id} has been moved to folder {folder_id}.\")\n",
    "    except HttpError as error:\n",
    "        print(f\"An error occurred while moving the file: {error}\")\n",
    "\n",
    "def load_processed_files():\n",
    "    \"\"\"Load the list of processed file IDs from a local memory file.\"\"\"\n",
    "    if os.path.exists(MEMORY_FILE):\n",
    "        with open(MEMORY_FILE, 'r') as file:\n",
    "            return set(json.load(file))\n",
    "    return set()\n",
    "\n",
    "def save_processed_files(processed_files):\n",
    "    \"\"\"Save the list of processed file IDs to a local memory file.\"\"\"\n",
    "    with open(MEMORY_FILE, 'w') as file:\n",
    "        json.dump(list(processed_files), file)\n",
    "\n",
    "def monitor_google_drive(target_folder_id, interval=60):\n",
    "    \"\"\"Periodically check for new files, process them, and move them.\"\"\"\n",
    "    service = authenticate_google_drive()\n",
    "    processed_files = load_processed_files()\n",
    "\n",
    "    while True:\n",
    "        print(\"Checking for new files named 'pleco_flashcards.xml'...\")\n",
    "        files = list_files_by_name(service, \"pleco_flashcards.xml\")\n",
    "\n",
    "        for file in files:\n",
    "            if file['id'] not in processed_files:\n",
    "                # Process the file\n",
    "                process_file(file)\n",
    "\n",
    "                # Move the file to the specified folder\n",
    "                move_file_to_folder(service, file['id'], target_folder_id)\n",
    "\n",
    "                # Mark the file as processed and save to memory\n",
    "                processed_files.add(file['id'])\n",
    "                save_processed_files(processed_files)\n",
    "        \n",
    "        # Wait for the specified interval before checking again\n",
    "        time.sleep(interval)\n"
   ]
  },
  {
   "cell_type": "markdown",
   "metadata": {},
   "source": [
    "# sandbox"
   ]
  },
  {
   "cell_type": "code",
   "execution_count": 19,
   "metadata": {},
   "outputs": [
    {
     "name": "stdout",
     "output_type": "stream",
     "text": [
      "Please visit this URL to authorize this application: https://accounts.google.com/o/oauth2/auth?response_type=code&client_id=624862442234-4iconv0m99pu1luia7lub9c8m7t8of0b.apps.googleusercontent.com&redirect_uri=http%3A%2F%2Flocalhost%3A52451%2F&scope=https%3A%2F%2Fwww.googleapis.com%2Fauth%2Fdrive&state=NXRN6854KN3tFMitYhiveaEPzJRnbE&access_type=offline\n"
     ]
    }
   ],
   "source": [
    "service = authenticate_google_drive()"
   ]
  },
  {
   "cell_type": "code",
   "execution_count": 23,
   "metadata": {},
   "outputs": [],
   "source": [
    "results = service.files().list(\n",
    "    q=\"'root' in parents\",  # Only get items in the root directory\n",
    "    fields=\"nextPageToken, files(id, name, mimeType, parents)\"\n",
    ").execute()"
   ]
  },
  {
   "cell_type": "code",
   "execution_count": 24,
   "metadata": {},
   "outputs": [],
   "source": [
    "\n",
    "items = results.get('files', [])"
   ]
  },
  {
   "cell_type": "code",
   "execution_count": 25,
   "metadata": {},
   "outputs": [
    {
     "data": {
      "text/plain": [
       "[{'mimeType': 'application/xml',\n",
       "  'parents': ['0ANOuDrZlca71Uk9PVA'],\n",
       "  'id': '18FY69M7X4WbjrsE1J1bLtdgNW4BtLUWl',\n",
       "  'name': 'pleco_flashcards.xml'},\n",
       " {'mimeType': 'application/vnd.google-apps.folder',\n",
       "  'parents': ['0ANOuDrZlca71Uk9PVA'],\n",
       "  'id': '1S_r1Y_uGNmwlYmqByyjVa1pnQVC07Plf',\n",
       "  'name': '_Pleco'},\n",
       " {'mimeType': 'application/vnd.google-apps.folder',\n",
       "  'parents': ['0ANOuDrZlca71Uk9PVA'],\n",
       "  'id': '1sZqS9t5sToDIKTYKFa6MmUgX6DR912K8',\n",
       "  'name': 'Games'},\n",
       " {'mimeType': 'application/vnd.google-apps.folder',\n",
       "  'parents': ['0ANOuDrZlca71Uk9PVA'],\n",
       "  'id': '18kihcLPaWxxKcH2pwGdmNKpUuCj4gEtB',\n",
       "  'name': 'Archive'},\n",
       " {'mimeType': 'application/vnd.google-apps.folder',\n",
       "  'parents': ['0ANOuDrZlca71Uk9PVA'],\n",
       "  'id': '1rX5qfrIpHpu-2ssPRrBNrRvJJPoyThyE',\n",
       "  'name': 'Music'},\n",
       " {'mimeType': 'application/vnd.google-apps.folder',\n",
       "  'parents': ['0ANOuDrZlca71Uk9PVA'],\n",
       "  'id': '1Gsw6_vNfbH4qTdvEg9ps91ygulCLnVBf',\n",
       "  'name': 'Anki'},\n",
       " {'mimeType': 'application/vnd.google-apps.folder',\n",
       "  'parents': ['0ANOuDrZlca71Uk9PVA'],\n",
       "  'id': '1Kf5pFm-8TAWhmGgfb95qqoF0O5AfHTLH',\n",
       "  'name': 'Misc'},\n",
       " {'mimeType': 'application/vnd.google-apps.folder',\n",
       "  'parents': ['0ANOuDrZlca71Uk9PVA'],\n",
       "  'id': '1ivTP2bepzeB7Cjs_IjGcZOT2Bg0khogt',\n",
       "  'name': 'Colab Notebooks'},\n",
       " {'mimeType': 'application/vnd.google-apps.folder',\n",
       "  'parents': ['0ANOuDrZlca71Uk9PVA'],\n",
       "  'id': '1O3zpNIhJsc_atLIUQsaCBfhUpgc3E59q',\n",
       "  'name': 'Documents'},\n",
       " {'mimeType': 'application/vnd.google-apps.folder',\n",
       "  'parents': ['0ANOuDrZlca71Uk9PVA'],\n",
       "  'id': '1dXWFJoA28KaZyUPPrrBIjoG07DFyFEC-',\n",
       "  'name': 'Photos'}]"
      ]
     },
     "execution_count": 25,
     "metadata": {},
     "output_type": "execute_result"
    }
   ],
   "source": [
    "items"
   ]
  },
  {
   "cell_type": "code",
   "execution_count": null,
   "metadata": {},
   "outputs": [],
   "source": []
  },
  {
   "cell_type": "code",
   "execution_count": null,
   "metadata": {},
   "outputs": [],
   "source": []
  },
  {
   "cell_type": "code",
   "execution_count": null,
   "metadata": {},
   "outputs": [],
   "source": []
  },
  {
   "cell_type": "code",
   "execution_count": null,
   "metadata": {},
   "outputs": [],
   "source": []
  },
  {
   "cell_type": "code",
   "execution_count": null,
   "metadata": {},
   "outputs": [],
   "source": []
  },
  {
   "cell_type": "code",
   "execution_count": null,
   "metadata": {},
   "outputs": [],
   "source": [
    "\n",
    "if __name__ == \"__main__\":\n",
    "    # Replace 'your_target_folder_id' with the actual folder ID where files should be moved\n",
    "    target_folder_id = 'your_target_folder_id'\n",
    "    monitor_google_drive(target_folder_id, interval=300)  # Check every 5 minutes\n"
   ]
  }
 ],
 "metadata": {
  "kernelspec": {
   "display_name": ".venv",
   "language": "python",
   "name": "python3"
  },
  "language_info": {
   "codemirror_mode": {
    "name": "ipython",
    "version": 3
   },
   "file_extension": ".py",
   "mimetype": "text/x-python",
   "name": "python",
   "nbconvert_exporter": "python",
   "pygments_lexer": "ipython3",
   "version": "3.12.8"
  }
 },
 "nbformat": 4,
 "nbformat_minor": 2
}
