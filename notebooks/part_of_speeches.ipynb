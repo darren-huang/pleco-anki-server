{
 "cells": [
  {
   "cell_type": "code",
   "execution_count": null,
   "metadata": {},
   "outputs": [],
   "source": []
  },
  {
   "cell_type": "code",
   "execution_count": 2,
   "metadata": {},
   "outputs": [
    {
     "name": "stdout",
     "output_type": "stream",
     "text": [
      "['GEOLOGY', 'TRANSLITERATION', 'PHOTOGRAPHY', 'METEOROLOGY', 'WELL-KNOWN PHRASE', 'VULGAR', 'RHETORIC', 'AFFIX', 'MUSIC', 'POLITICS', 'CHINESE MEDICINE', 'ICHTHYOLOGY', 'OFTEN PEJORATIVE', 'FOLK ART', 'SELF-DEPRECATING', 'PREPOSITION', 'NOUN', 'SURVEYING', 'METALLURGY', 'PSYCHOLOGY', 'ABBREVIATION', 'CHEMISTRY', 'COMMON NAME FOR', 'TELECOMMUNICATIONS', 'MECHANICS', 'PHARMACY', 'BIOCHEMISTRY', 'USUALLY DATED', 'GENERAL NAME FOR', 'MEASURE WORD', 'LAW', 'STATISTICS', 'CHINESE PHARMACOLOGY', 'INFORMAL', 'FIGURATIVE', 'LITERATURE', 'MEANINGLESS BOUND FORM', 'COMMON PHRASE', 'MYTHOLOGY', 'USUALLY COLLOQUIAL', 'PRINTING', 'HUMOROUS', 'MATHEMATICS', 'ASTRONOMY', 'SARCASTIC', 'FINANCE', 'ONOMATOPOEIA', 'CHINESE PAINTING', 'COURTEOUS', 'HISTORY', 'VERB', 'ISLAM', 'EUPHEMISTIC', 'THEATER', 'FORMAL', 'CONJUNCTION', 'ORNITHOLOGY', 'MILITARY', 'CONFUCIANISM', 'BIOLOGY', 'BUDDHISM', 'ORIGINAL MEANING', 'LITERARY', 'PETROCHEMICAL', 'CLASSICAL', 'IDIOM', 'COMMERCE', 'COLLOQUIAL', 'SLANG', 'MEDICINE', 'PHYSICS', 'CHRISTIANITY', 'ART', 'ARCHAEOLOGY', 'RELIGION', 'AEROSPACE', 'INTERNET', 'ELECTRONICS', 'GEOGRAPHY', 'FOLK TRADITION', 'ELECTRICITY', 'ANOTHER NAME FOR', 'ANATOMY', 'MEANINGFUL BOUND FORM', 'LOGIC', 'ANIMAL HUSBANDRY', 'USUALLY COMMENDATORY', 'USUALLY SARCASTIC', 'DIALECT', 'AUXILIARY', 'PRONOUN', 'ARTS &amp; CRAFTS', 'BOTANY', 'MINING', 'TRANSPORTATION', 'POLITE EXPRESSION', 'ADVERB', 'DATED', 'PEJORATIVE', 'PLAYING CARDS', 'CULINARY ARTS', 'ZOOLOGY', 'SPORTS', 'DIPLOMACY', 'ARCHITECTURE', 'FILM, TELEVISION', 'COMPUTING', 'INTERJECTION', 'FOODSTUFFS', 'NUMBER', 'CALLIGRAPHY', 'ARCHAIC', 'PHYSIOLOGY', 'WIRELESS', 'USUALLY PEJORATIVE', 'PROVERB', 'CHESS', 'TEXTILE', 'PHILOSOPHY', 'ADJECTIVE', 'LINGUISTICS', 'ARGRICULTURE', 'ECONOMICS', 'USUALLY LITERARY']\n"
     ]
    }
   ],
   "source": [
    "# Create all part of speech kewords\n",
    "\n",
    "\n",
    "import regex as re\n",
    "import json\n",
    "\n",
    "# Load the formatted backs from the JSON file\n",
    "with open('resources/all_formatted_backs.json', 'r') as file:\n",
    "    all_formatted_backs = json.load(file)\n",
    "\n",
    "keywords = set()\n",
    "pattern = re.compile(r'<span style=\"font-size:0.80em;\"><span style=\"color:#B4B4B4;\">(.*?)</span></span>')\n",
    "\n",
    "for formatted_back in all_formatted_backs:\n",
    "    matches = pattern.findall(formatted_back)\n",
    "    keywords.update(matches)\n",
    "\n",
    "# Convert the set to a list since sets are not JSON serializable\n",
    "keywords_list = list(keywords)\n",
    "print(keywords_list)\n",
    "\n",
    "# # Save the list to a JSON file\n",
    "# with open('part_of_speech_keywords.json', 'w') as file:\n",
    "#     json.dump(keywords_list, file)"
   ]
  },
  {
   "cell_type": "code",
   "execution_count": 11,
   "metadata": {},
   "outputs": [
    {
     "name": "stdout",
     "output_type": "stream",
     "text": [
      "[('SPORTS', 'NOUN'), ('VERB', 'ARCHAIC'), ('PRONOUN', 'COURTEOUS'), ('PREPOSITION', 'DIALECT'), ('NOUN', 'ECONOMICS'), ('COLLOQUIAL', 'MEASURE WORD'), ('NOUN', 'TEXTILE'), ('NOUN', 'GENERAL NAME FOR'), ('AUXILIARY', 'DIALECT'), ('TRANSLITERATION', 'PHYSICS'), ('NOUN', 'SPORTS'), ('ADJECTIVE', 'DATED'), ('DATED', 'LINGUISTICS'), ('MEASURE WORD', 'ARCHAIC'), ('NOUN', 'ABBREVIATION'), ('VERB', 'HUMOROUS'), ('VERB', 'LITERARY'), ('VERB', 'COLLOQUIAL'), ('ADJECTIVE', 'PHYSICS'), ('NOUN', 'STATISTICS'), ('VERB', 'LAW'), ('LITERARY', 'NOUN'), ('AFFIX', 'LITERARY'), ('COLLOQUIAL', 'NOUN'), ('VERB', 'COURTEOUS'), ('NOUN', 'PHYSIOLOGY'), ('NOUN', 'MATHEMATICS'), ('VERB', 'PEJORATIVE'), ('VERB', 'DIALECT'), ('NOUN', 'DIPLOMACY'), ('MEASURE WORD', 'CHINESE MEDICINE'), ('MEASURE WORD', 'LITERARY'), ('MEASURE WORD', 'COLLOQUIAL'), ('LITERARY', 'ONOMATOPOEIA'), ('INTERJECTION', 'COLLOQUIAL'), ('NOUN', 'ZOOLOGY'), ('ADJECTIVE', 'MECHANICS'), ('COLLOQUIAL', 'VERB'), ('NOUN', 'ELECTRICITY'), ('NOUN', 'MILITARY'), ('PREPOSITION', 'LITERARY'), ('COLLOQUIAL', 'SPORTS'), ('ABBREVIATION', 'COMPUTING'), ('MEANINGFUL BOUND FORM', 'LITERARY'), ('AUXILIARY', 'LITERARY'), ('MEASURE WORD', 'DIALECT'), ('NOUN', 'FOLK TRADITION'), ('NOUN', 'ARGRICULTURE'), ('NOUN', 'LINGUISTICS'), ('VERB', 'USUALLY COMMENDATORY'), ('ADJECTIVE', 'TRANSLITERATION'), ('NOUN', 'USUALLY LITERARY'), ('DATED', 'ADVERB'), ('VERB', 'ABBREVIATION'), ('NOUN', 'BIOLOGY'), ('NOUN', 'MEDICINE'), ('CONJUNCTION', 'LITERARY'), ('CONJUNCTION', 'COLLOQUIAL'), ('NOUN', 'ANATOMY'), ('VERB', 'USUALLY PEJORATIVE'), ('ADVERB', 'USUALLY LITERARY'), ('NOUN', 'COMMERCE'), ('ABBREVIATION', 'CALLIGRAPHY'), ('NOUN', 'ORNITHOLOGY'), ('MEASURE WORD', 'ABBREVIATION'), ('NOUN', 'PHYSICS'), ('NOUN', 'PLAYING CARDS'), ('VERB', 'ELECTRICITY'), ('CONJUNCTION', 'DIALECT'), ('NUMBER', 'ARCHAIC'), ('NOUN', 'LITERATURE'), ('ADJECTIVE', 'COLLOQUIAL'), ('VERB', 'MILITARY'), ('NOUN', 'LOGIC'), ('NOUN', 'MECHANICS'), ('VERB', 'ARGRICULTURE'), ('NOUN', 'OFTEN PEJORATIVE'), ('SLANG', 'INTERNET'), ('PHILOSOPHY</span></span></b> <b><span style=\"font-size:0.80em;\"><span style=\"color:#B4B4B4;\">PSYCHOLOGY', 'VERB'), ('ADJECTIVE', 'DIALECT'), ('SLANG', 'COMPUTING'), ('NOUN', 'ASTRONOMY'), ('ABBREVIATION', 'TRANSPORTATION'), ('NOUN', 'PETROCHEMICAL'), ('NUMBER', 'COLLOQUIAL'), ('VERB', 'BIOLOGY'), ('NOUN', 'ICHTHYOLOGY'), ('VERB', 'MEDICINE'), ('NOUN', 'METEOROLOGY'), ('NOUN', 'TRANSLITERATION'), ('VERB', 'SPORTS'), ('ARCHAIC', 'LITERATURE'), ('AFFIX', 'CLASSICAL'), ('NOUN', 'FINANCE'), ('VERB', 'SELF-DEPRECATING'), ('NOUN', 'INTERNET'), ('ECONOMICS', 'VERB'), ('DATED', 'THEATER'), ('NOUN', 'COMPUTING'), ('VERB', 'PHYSICS'), ('NOUN', 'FORMAL'), ('ABBREVIATION', 'HISTORY'), ('NOUN', 'DATED'), ('VERB', 'POLITE EXPRESSION'), ('PRONOUN', 'USUALLY LITERARY'), ('ARCHAIC', 'ASTRONOMY'), ('VERB', 'VULGAR'), ('COMPUTING', 'VERB'), ('LITERARY', 'PRONOUN'), ('ADJECTIVE', 'USUALLY PEJORATIVE'), ('NOUN', 'ORIGINAL MEANING'), ('AUXILIARY', 'CLASSICAL'), ('COLLOQUIAL', 'ADVERB'), ('VERB', 'MATHEMATICS'), ('VERB', 'LOGIC'), ('MEASURE WORD', 'PHYSICS'), ('PRONOUN', 'DATED'), ('NOUN', 'CHRISTIANITY'), ('VERB', 'OFTEN PEJORATIVE'), ('NOUN', 'PRINTING'), ('NOUN', 'BUDDHISM'), ('DIALECT', 'VERB'), ('ADJECTIVE', 'LITERARY'), ('NOUN', 'TELECOMMUNICATIONS'), ('ADJECTIVE', 'ELECTRICITY'), ('NOUN', 'MUSIC'), ('NOUN', 'COURTEOUS'), ('NOUN', 'COMMON NAME FOR'), ('ABBREVIATION', 'VERB'), ('VERB', 'TRANSLITERATION'), ('ADVERB', 'COLLOQUIAL'), ('ADVERB', 'LITERARY'), ('MEASURE WORD', 'AEROSPACE'), ('NOUN', 'PEJORATIVE'), ('NOUN', 'PHARMACY'), ('VERB', 'USUALLY LITERARY'), ('COLLOQUIAL', 'ADJECTIVE'), ('VERB', 'CULINARY ARTS'), ('VERB', 'CLASSICAL'), ('VERB', 'COMPUTING'), ('NOUN', 'PHILOSOPHY'), ('ADVERB', 'PEJORATIVE'), ('VERB', 'DATED'), ('ADVERB', 'DIALECT'), ('MEASURE WORD', 'TRANSLITERATION'), ('NOUN', 'ARCHITECTURE'), ('NOUN', 'TRANSPORTATION'), ('NOUN', 'ARCHAIC'), ('ADJECTIVE', 'SELF-DEPRECATING'), ('NOUN', 'FOLK ART'), ('LITERARY', 'CONJUNCTION'), ('ABBREVIATION', 'MATHEMATICS'), ('MEASURE WORD', 'DATED'), ('VERB', 'EUPHEMISTIC'), ('OFTEN PEJORATIVE', 'NOUN'), ('NOUN', 'POLITICS'), ('NOUN', 'GEOGRAPHY'), ('NOUN', 'CHINESE PHARMACOLOGY'), ('DIALECT', 'NOUN'), ('VERB', 'MECHANICS'), ('NOUN', 'HISTORY'), ('NOUN', 'CHINESE MEDICINE'), ('LITERARY', 'VERB'), ('NOUN', 'CHEMISTRY'), ('NOUN', 'LITERARY'), ('NOUN', 'COLLOQUIAL'), ('ADJECTIVE', 'MATHEMATICS'), ('MEASURE WORD', 'PRINTING'), ('NOUN', 'GEOLOGY'), ('ABBREVIATION', 'LINGUISTICS'), ('NOUN', 'BOTANY'), ('CONJUNCTION', 'USUALLY LITERARY'), ('NOUN', 'LAW'), ('VERB', 'MINING'), ('NOUN', 'RHETORIC'), ('PREPOSITION', 'COLLOQUIAL'), ('VERB', 'USUALLY COLLOQUIAL'), ('MEASURE WORD', 'METALLURGY'), ('CONJUNCTION', 'CLASSICAL'), ('MEASURE WORD', 'COURTEOUS'), ('PRONOUN', 'LITERARY'), ('PRONOUN', 'COLLOQUIAL'), ('NOUN', 'DIALECT'), ('AUXILIARY', 'COLLOQUIAL'), ('NOUN', 'THEATER'), ('ADJECTIVE', 'FIGURATIVE'), ('ABBREVIATION', 'MEDICINE'), ('ADJECTIVE', 'METEOROLOGY'), ('ADJECTIVE', 'LINGUISTICS')]\n",
      "{'TRANSLITERATION', 'MEASURE WORD', 'LITERARY', 'ADVERB', 'COLLOQUIAL', 'DATED', 'SLANG', 'AFFIX', 'SPORTS', 'COMPUTING', 'PHILOSOPHY</span></span></b> <b><span style=\"font-size:0.80em;\"><span style=\"color:#B4B4B4;\">PSYCHOLOGY', 'INTERJECTION', 'OFTEN PEJORATIVE', 'NUMBER', 'ARCHAIC', 'PREPOSITION', 'NOUN', 'ABBREVIATION', 'VERB', 'MEANINGFUL BOUND FORM', 'ADJECTIVE', 'ECONOMICS', 'DIALECT', 'AUXILIARY', 'CONJUNCTION', 'PRONOUN'}\n"
     ]
    }
   ],
   "source": [
    "# Create all part of speech kewords\n",
    "\n",
    "\n",
    "import regex as re\n",
    "import json\n",
    "\n",
    "# Load the formatted backs from the JSON file\n",
    "with open('resources/all_formatted_backs.json', 'r') as file:\n",
    "    all_formatted_backs = json.load(file)\n",
    "\n",
    "keywords = set()\n",
    "pattern = re.compile(r'<span style=\"font-size:0.80em;\"><span style=\"color:#B4B4B4;\">(.*?)</span></span></b><br>\\n<b><span style=\"font-size:0.80em;\"><span style=\"color:#B4B4B4;\">(.*?)</span></span>')\n",
    "\n",
    "for formatted_back in all_formatted_backs:\n",
    "    matches = pattern.findall(formatted_back)\n",
    "    keywords.update(matches)\n",
    "\n",
    "# Convert the set to a list since sets are not JSON serializable\n",
    "keywords_list = list(keywords)\n",
    "print(keywords_list)\n",
    "print(set([x[0] for x in keywords_list]))\n",
    "\n",
    "# # Save the list to a JSON file\n",
    "# with open('part_of_speech_keywords.json', 'w') as file:\n",
    "#     json.dump(keywords_list, file)"
   ]
  },
  {
   "cell_type": "code",
   "execution_count": 23,
   "metadata": {},
   "outputs": [
    {
     "name": "stdout",
     "output_type": "stream",
     "text": [
      "[('COMPUTING', '</b> <b>', 'TELECOMMUNICATIONS'), ('NOUN', '</b><br>\\n<b>', 'STATISTICS'), ('VERB', '</b><br>\\n<b>', 'TRANSLITERATION'), ('LITERARY', '</b><br>\\n<b>', 'VERB'), ('CONJUNCTION', '</b><br>\\n<b>', 'LITERARY'), ('COLLOQUIAL', '</b><br>\\n<b>', 'NOUN'), ('AUXILIARY', '</b><br>\\n<b>', 'LITERARY'), ('AUXILIARY', '</b><br>\\n<b>', 'COLLOQUIAL'), ('PRONOUN', '</b><br>\\n<b>', 'DATED'), ('NUMBER', '</b><br>\\n<b>', 'COLLOQUIAL'), ('VERB', '</b><br>\\n<b>', 'CULINARY ARTS'), ('VERB', '</b><br>\\n<b>', 'COMPUTING'), ('NOUN', '</b><br>\\n<b>', 'MATHEMATICS'), ('VERB', '</b><br>\\n<b>', 'ARCHAIC'), ('NOUN', '</b><br>\\n<b>', 'DIPLOMACY'), ('NOUN', '</b><br>\\n<b>', 'PHYSIOLOGY'), ('ABBREVIATION', '</b><br>\\n<b>', 'TRANSPORTATION'), ('SPORTS', '</b><br>\\n<b>', 'NOUN'), ('NOUN', '</b><br>\\n<b>', 'OFTEN PEJORATIVE'), ('PREPOSITION', '</b><br>\\n<b>', 'DIALECT'), ('VERB', '</b><br>\\n<b>', 'DATED'), ('ADJECTIVE', '</b><br>\\n<b>', 'LITERARY'), ('ADJECTIVE', '</b><br>\\n<b>', 'COLLOQUIAL'), ('DATED', '</b> <b>', 'COURTEOUS'), ('BIOLOGY', '</b> <b>', 'MILITARY'), ('NOUN', '</b><br>\\n<b>', 'PETROCHEMICAL'), ('COLLOQUIAL', '</b><br>\\n<b>', 'SPORTS'), ('DATED', '</b><br>\\n<b>', 'LINGUISTICS'), ('MEASURE WORD', '</b><br>\\n<b>', 'AEROSPACE'), ('NOUN', '</b><br>\\n<b>', 'METEOROLOGY'), ('NOUN', '</b><br>\\n<b>', 'FOLK TRADITION'), ('NOUN', '</b><br>\\n<b>', 'LINGUISTICS'), ('VERB', '</b><br>\\n<b>', 'HUMOROUS'), ('MATHEMATICS', '</b> <b>', 'LINGUISTICS'), ('VERB', '</b><br>\\n<b>', 'COLLOQUIAL'), ('NOUN', '</b><br>\\n<b>', 'USUALLY LITERARY'), ('PREPOSITION', '</b><br>\\n<b>', 'COLLOQUIAL'), ('ADJECTIVE', '</b><br>\\n<b>', 'DIALECT'), ('ABBREVIATION', '</b><br>\\n<b>', 'HISTORY'), ('PRONOUN', '</b><br>\\n<b>', 'COURTEOUS'), ('NOUN', '</b><br>\\n<b>', 'FINANCE'), ('INTERJECTION', '</b> <b>', 'LITERARY'), ('NOUN', '</b><br>\\n<b>', 'COMPUTING'), ('NOUN', '</b><br>\\n<b>', 'FORMAL'), ('VERB', '</b><br>\\n<b>', 'COURTEOUS'), ('NOUN', '</b><br>\\n<b>', 'DATED'), ('VERB', '</b><br>\\n<b>', 'PEJORATIVE'), ('LITERARY', '</b> <b>', 'COURTEOUS'), ('VERB', '</b><br>\\n<b>', 'DIALECT'), ('LITERARY', '</b><br>\\n<b>', 'NOUN'), ('NOUN', '</b><br>\\n<b>', 'ORIGINAL MEANING'), ('NOUN', '</b><br>\\n<b>', 'ORNITHOLOGY'), ('COLLOQUIAL', '</b><br>\\n<b>', 'ADVERB'), ('VERB', '</b><br>\\n<b>', 'MINING'), ('NOUN', '</b><br>\\n<b>', 'PHYSICS'), ('VERB', '</b><br>\\n<b>', 'USUALLY COLLOQUIAL'), ('MEASURE WORD', '</b><br>\\n<b>', 'DATED'), ('NOUN', '</b><br>\\n<b>', 'CHRISTIANITY'), ('COLLOQUIAL', '</b> <b>', 'USUALLY SARCASTIC'), ('NOUN', '</b><br>\\n<b>', 'PRINTING'), ('NOUN', '</b><br>\\n<b>', 'BUDDHISM'), ('NOUN', '</b><br>\\n<b>', 'LITERATURE'), ('COMPUTING', '</b><br>\\n<b>', 'VERB'), ('LITERARY', '</b><br>\\n<b>', 'ONOMATOPOEIA'), ('ABBREVIATION', '</b><br>\\n<b>', 'VERB'), ('MEASURE WORD', '</b><br>\\n<b>', 'PHYSICS'), ('ADJECTIVE', '</b><br>\\n<b>', 'USUALLY PEJORATIVE'), ('PHYSICS', '</b> <b>', 'METEOROLOGY'), ('NOUN', '</b><br>\\n<b>', 'MUSIC'), ('NOUN', '</b><br>\\n<b>', 'LOGIC'), ('MEASURE WORD', '</b><br>\\n<b>', 'PRINTING'), ('NOUN', '</b><br>\\n<b>', 'COMMON NAME FOR'), ('NOUN', '</b><br>\\n<b>', 'MECHANICS'), ('ELECTRONICS', '</b> <b>', 'COMPUTING'), ('DATED', '</b><br>\\n<b>', 'ADVERB'), ('NOUN', '</b><br>\\n<b>', 'PHARMACY'), ('COLLOQUIAL', '</b><br>\\n<b>', 'ADJECTIVE'), ('NOUN', '</b><br>\\n<b>', 'ASTRONOMY'), ('VERB', '</b><br>\\n<b>', 'USUALLY PEJORATIVE'), ('ADVERB', '</b><br>\\n<b>', 'COLLOQUIAL'), ('MEASURE WORD', '</b><br>\\n<b>', 'METALLURGY'), ('ADJECTIVE', '</b><br>\\n<b>', 'ELECTRICITY'), ('PRONOUN', '</b><br>\\n<b>', 'LITERARY'), ('PRONOUN', '</b><br>\\n<b>', 'COLLOQUIAL'), ('CONJUNCTION', '</b><br>\\n<b>', 'USUALLY LITERARY'), ('NOUN', '</b><br>\\n<b>', 'ICHTHYOLOGY'), ('NOUN', '</b><br>\\n<b>', 'TRANSLITERATION'), ('CONJUNCTION', '</b><br>\\n<b>', 'CLASSICAL'), ('COLLOQUIAL', '</b> <b>', 'ABBREVIATION'), ('PREPOSITION', '</b><br>\\n<b>', 'LITERARY'), ('AUXILIARY', '</b><br>\\n<b>', 'CLASSICAL'), ('VERB', '</b><br>\\n<b>', 'LITERARY'), ('MEANINGFUL BOUND FORM', '</b><br>\\n<b>', 'LITERARY'), ('NOUN', '</b><br>\\n<b>', 'ARCHITECTURE'), ('NOUN', '</b><br>\\n<b>', 'INTERNET'), ('ADVERB', '</b><br>\\n<b>', 'PEJORATIVE'), ('ADVERB', '</b><br>\\n<b>', 'DIALECT'), ('ABBREVIATION', '</b><br>\\n<b>', 'MATHEMATICS'), ('ADJECTIVE', '</b><br>\\n<b>', 'LINGUISTICS'), ('VERB', '</b><br>\\n<b>', 'LAW'), ('NOUN', '</b><br>\\n<b>', 'ARCHAIC'), ('VERB', '</b><br>\\n<b>', 'MILITARY'), ('MEASURE WORD', '</b><br>\\n<b>', 'TRANSLITERATION'), ('COMMON PHRASE', '</b> <b>', 'POLITE EXPRESSION'), ('DIALECT', '</b><br>\\n<b>', 'NOUN'), ('NOUN', '</b><br>\\n<b>', 'POLITICS'), ('NOUN', '</b><br>\\n<b>', 'GEOGRAPHY'), ('AFFIX', '</b><br>\\n<b>', 'LITERARY'), ('MEASURE WORD', '</b><br>\\n<b>', 'ARCHAIC'), ('NOUN', '</b><br>\\n<b>', 'CHINESE PHARMACOLOGY'), ('ABBREVIATION', '</b><br>\\n<b>', 'LINGUISTICS'), ('BIOLOGY', '</b> <b>', 'PHYSICS'), ('ADJECTIVE', '</b><br>\\n<b>', 'SELF-DEPRECATING'), ('ARCHAIC', '</b> <b>', 'ORIGINAL MEANING'), ('DATED', '</b> <b>', 'POLITE EXPRESSION'), ('DIALECT', '</b><br>\\n<b>', 'VERB'), ('NOUN', '</b><br>\\n<b>', 'HISTORY'), ('VERB', '</b><br>\\n<b>', 'BIOLOGY'), ('NOUN', '</b><br>\\n<b>', 'CHEMISTRY'), ('NOUN', '</b><br>\\n<b>', 'COLLOQUIAL'), ('ELECTRICITY', '</b> <b>', 'TELECOMMUNICATIONS'), ('NOUN', '</b><br>\\n<b>', 'BOTANY'), ('VERB', '</b><br>\\n<b>', 'SPORTS'), ('NOUN', '</b><br>\\n<b>', 'LAW'), ('NOUN', '</b><br>\\n<b>', 'TELECOMMUNICATIONS'), ('VERB', '</b><br>\\n<b>', 'USUALLY COMMENDATORY'), ('NOUN', '</b><br>\\n<b>', 'RHETORIC'), ('ABBREVIATION', '</b><br>\\n<b>', 'MEDICINE'), ('PHYSIOLOGY', '</b> <b>', 'MEDICINE'), ('NOUN', '</b><br>\\n<b>', 'COURTEOUS'), ('MEASURE WORD', '</b><br>\\n<b>', 'COLLOQUIAL'), ('DATED', '</b><br>\\n<b>', 'THEATER'), ('FIGURATIVE', '</b> <b>', 'HUMOROUS'), ('VERB', '</b><br>\\n<b>', 'ABBREVIATION'), ('NOUN', '</b><br>\\n<b>', 'PEJORATIVE'), ('NOUN', '</b><br>\\n<b>', 'DIALECT'), ('NOUN', '</b><br>\\n<b>', 'THEATER'), ('ADJECTIVE', '</b><br>\\n<b>', 'MATHEMATICS'), ('VERB', '</b><br>\\n<b>', 'POLITE EXPRESSION'), ('ADVERB', '</b><br>\\n<b>', 'LITERARY'), ('MEASURE WORD', '</b><br>\\n<b>', 'COURTEOUS'), ('NOUN', '</b><br>\\n<b>', 'PHILOSOPHY'), ('INTERJECTION', '</b><br>\\n<b>', 'COLLOQUIAL'), ('NOUN', '</b><br>\\n<b>', 'TEXTILE'), ('PHILOSOPHY', '</b> <b>', 'PSYCHOLOGY'), ('MEASURE WORD', '</b><br>\\n<b>', 'DIALECT'), ('FIGURATIVE', '</b> <b>', 'PEJORATIVE'), ('NOUN', '</b><br>\\n<b>', 'GENERAL NAME FOR'), ('VERB', '</b><br>\\n<b>', 'MATHEMATICS'), ('ADJECTIVE', '</b><br>\\n<b>', 'FIGURATIVE'), ('NOUN', '</b><br>\\n<b>', 'TRANSPORTATION'), ('VERB', '</b><br>\\n<b>', 'ELECTRICITY'), ('COLLOQUIAL', '</b> <b>', 'POLITE EXPRESSION'), ('ADJECTIVE', '</b><br>\\n<b>', 'METEOROLOGY'), ('DIALECT', '</b> <b>', 'EUPHEMISTIC'), ('CHEMISTRY', '</b> <b>', 'PHYSICS'), ('PHYSICS', '</b> <b>', 'CHEMISTRY'), ('LITERARY', '</b><br>\\n<b>', 'PRONOUN'), ('NOUN', '</b><br>\\n<b>', 'FOLK ART'), ('NOUN', '</b><br>\\n<b>', 'ABBREVIATION'), ('PRONOUN', '</b><br>\\n<b>', 'USUALLY LITERARY'), ('OFTEN PEJORATIVE', '</b><br>\\n<b>', 'NOUN'), ('IDIOM', '</b> <b>', 'OFTEN PEJORATIVE'), ('DATED', '</b> <b>', 'SELF-DEPRECATING'), ('TRANSLITERATION', '</b><br>\\n<b>', 'PHYSICS'), ('VERB', '</b><br>\\n<b>', 'ARGRICULTURE'), ('COMMON PHRASE', '</b> <b>', 'VULGAR'), ('DIALECT', '</b> <b>', 'OFTEN PEJORATIVE'), ('CONJUNCTION', '</b><br>\\n<b>', 'COLLOQUIAL'), ('ADJECTIVE', '</b><br>\\n<b>', 'DATED'), ('VERB', '</b><br>\\n<b>', 'USUALLY LITERARY'), ('ARCHAIC', '</b><br>\\n<b>', 'LITERATURE'), ('MEASURE WORD', '</b><br>\\n<b>', 'ABBREVIATION'), ('VERB', '</b><br>\\n<b>', 'CLASSICAL'), ('NOUN', '</b><br>\\n<b>', 'CHINESE MEDICINE'), ('COLLOQUIAL', '</b> <b>', 'FIGURATIVE'), ('NOUN', '</b><br>\\n<b>', 'LITERARY'), ('MATHEMATICS', '</b> <b>', 'CHEMISTRY'), ('COLLOQUIAL', '</b><br>\\n<b>', 'VERB'), ('VERB', '</b><br>\\n<b>', 'MEDICINE'), ('ADJECTIVE', '</b><br>\\n<b>', 'PHYSICS'), ('NOUN', '</b><br>\\n<b>', 'GEOLOGY'), ('NOUN', '</b><br>\\n<b>', 'ZOOLOGY'), ('NOUN', '</b><br>\\n<b>', 'ELECTRICITY'), ('ABBREVIATION', '</b><br>\\n<b>', 'COMPUTING'), ('CONJUNCTION', '</b><br>\\n<b>', 'DIALECT'), ('TRANSLITERATION', '</b> <b>', 'SLANG'), ('AUXILIARY', '</b><br>\\n<b>', 'DIALECT'), ('NOUN', '</b><br>\\n<b>', 'MILITARY'), ('VERB', '</b><br>\\n<b>', 'SELF-DEPRECATING'), ('MEASURE WORD', '</b><br>\\n<b>', 'CHINESE MEDICINE'), ('ARCHAIC', '</b><br>\\n<b>', 'ASTRONOMY'), ('LITERARY', '</b> <b>', 'SELF-DEPRECATING'), ('MEASURE WORD', '</b><br>\\n<b>', 'LITERARY'), ('VERB', '</b><br>\\n<b>', 'PHYSICS'), ('AFFIX', '</b><br>\\n<b>', 'CLASSICAL'), ('NOUN', '</b><br>\\n<b>', 'ARGRICULTURE'), ('ADJECTIVE', '</b><br>\\n<b>', 'MECHANICS'), ('VERB', '</b><br>\\n<b>', 'EUPHEMISTIC'), ('VERB', '</b><br>\\n<b>', 'VULGAR'), ('COLLOQUIAL', '</b><br>\\n<b>', 'MEASURE WORD'), ('NOUN', '</b><br>\\n<b>', 'ECONOMICS'), ('ABBREVIATION', '</b><br>\\n<b>', 'CALLIGRAPHY'), ('NOUN', '</b><br>\\n<b>', 'BIOLOGY'), ('NOUN', '</b><br>\\n<b>', 'MEDICINE'), ('VERB', '</b><br>\\n<b>', 'LOGIC'), ('VERB', '</b><br>\\n<b>', 'MECHANICS'), ('ARCHAIC', '</b> <b>', 'GENERAL NAME FOR'), ('LITERARY', '</b><br>\\n<b>', 'CONJUNCTION'), ('NOUN', '</b><br>\\n<b>', 'ANATOMY'), ('VERB', '</b><br>\\n<b>', 'OFTEN PEJORATIVE'), ('NOUN', '</b><br>\\n<b>', 'SPORTS'), ('NOUN', '</b><br>\\n<b>', 'COMMERCE'), ('ADJECTIVE', '</b><br>\\n<b>', 'TRANSLITERATION'), ('NUMBER', '</b><br>\\n<b>', 'ARCHAIC'), ('ECONOMICS', '</b><br>\\n<b>', 'VERB'), ('SLANG', '</b><br>\\n<b>', 'INTERNET'), ('PHYSICS', '</b> <b>', 'MATHEMATICS'), ('ADVERB', '</b><br>\\n<b>', 'USUALLY LITERARY'), ('SLANG', '</b><br>\\n<b>', 'COMPUTING'), ('COMMON PHRASE', '</b> <b>', 'COLLOQUIAL'), ('NOUN', '</b><br>\\n<b>', 'PLAYING CARDS'), ('DIALECT', '</b> <b>', 'COURTEOUS')]\n",
      "{'BIOLOGY', 'LITERARY', 'MEASURE WORD', 'TRANSLITERATION', 'IDIOM', 'FIGURATIVE', 'ADVERB', 'COLLOQUIAL', 'DATED', 'COMMON PHRASE', 'SLANG', 'AFFIX', 'SPORTS', 'PHYSICS', 'COMPUTING', 'INTERJECTION', 'MATHEMATICS', 'OFTEN PEJORATIVE', 'NUMBER', 'ELECTRONICS', 'ARCHAIC', 'PHYSIOLOGY', 'PREPOSITION', 'NOUN', 'ELECTRICITY', 'ABBREVIATION', 'CHEMISTRY', 'VERB', 'MEANINGFUL BOUND FORM', 'PHILOSOPHY', 'ADJECTIVE', 'ECONOMICS', 'DIALECT', 'AUXILIARY', 'CONJUNCTION', 'PRONOUN'}\n",
      "['</b> <b>', '</b><br>\\n<b>']\n"
     ]
    }
   ],
   "source": [
    "# Create all part of speech kewords\n",
    "\n",
    "\n",
    "import regex as re\n",
    "import json\n",
    "\n",
    "# Load the formatted backs from the JSON file\n",
    "with open('resources/all_formatted_backs.json', 'r') as file:\n",
    "    all_formatted_backs = json.load(file)\n",
    "\n",
    "keywords = set()\n",
    "pattern = re.compile(r'(?<!<span style=\"font-size:0.80em;\"><span style=\"color:#B4B4B4;\">.*?</span></span>[\\s<>/br]{0,50})<span style=\"font-size:0.80em;\"><span style=\"color:#B4B4B4;\">(.*?)</span></span>([\\s<>/br]{0,50})<span style=\"font-size:0.80em;\"><span style=\"color:#B4B4B4;\">(.*?)</span></span>')\n",
    "\n",
    "for formatted_back in all_formatted_backs:\n",
    "    matches = pattern.findall(formatted_back)\n",
    "    keywords.update(matches)\n",
    "\n",
    "# Convert the set to a list since sets are not JSON serializable\n",
    "keywords_list = list(keywords)\n",
    "print(keywords_list)\n",
    "print(set([x[0] for x in keywords_list]))\n",
    "print(sorted(list(set([x[1] for x in keywords_list])), key=len))\n",
    "\n",
    "# # Save the list to a JSON file\n",
    "# with open('part_of_speech_keywords.json', 'w') as file:\n",
    "#     json.dump(keywords_list, file)"
   ]
  },
  {
   "cell_type": "code",
   "execution_count": 24,
   "metadata": {},
   "outputs": [
    {
     "name": "stdout",
     "output_type": "stream",
     "text": [
      "[('COMPUTING', '</b> <b>', 'TELECOMMUNICATIONS'), ('COLLOQUIAL', '</b> <b>', 'USUALLY SARCASTIC'), ('BIOLOGY', '</b> <b>', 'PHYSICS'), ('ARCHAIC', '</b> <b>', 'ORIGINAL MEANING'), ('DATED', '</b> <b>', 'POLITE EXPRESSION'), ('COLLOQUIAL', '</b> <b>', 'FIGURATIVE'), ('MATHEMATICS', '</b> <b>', 'CHEMISTRY'), ('ELECTRICITY', '</b> <b>', 'TELECOMMUNICATIONS'), ('PHYSICS', '</b> <b>', 'METEOROLOGY'), ('PHYSIOLOGY', '</b> <b>', 'MEDICINE'), ('ELECTRONICS', '</b> <b>', 'COMPUTING'), ('TRANSLITERATION', '</b> <b>', 'SLANG'), ('DATED', '</b> <b>', 'COURTEOUS'), ('FIGURATIVE', '</b> <b>', 'HUMOROUS'), ('BIOLOGY', '</b> <b>', 'MILITARY'), ('LITERARY', '</b> <b>', 'SELF-DEPRECATING'), ('MATHEMATICS', '</b> <b>', 'LINGUISTICS'), ('PHILOSOPHY', '</b> <b>', 'PSYCHOLOGY'), ('COLLOQUIAL', '</b> <b>', 'ABBREVIATION'), ('FIGURATIVE', '</b> <b>', 'PEJORATIVE'), ('INTERJECTION', '</b> <b>', 'LITERARY'), ('ARCHAIC', '</b> <b>', 'GENERAL NAME FOR'), ('COLLOQUIAL', '</b> <b>', 'POLITE EXPRESSION'), ('DIALECT', '</b> <b>', 'EUPHEMISTIC'), ('CHEMISTRY', '</b> <b>', 'PHYSICS'), ('PHYSICS', '</b> <b>', 'CHEMISTRY'), ('LITERARY', '</b> <b>', 'COURTEOUS'), ('PHYSICS', '</b> <b>', 'MATHEMATICS'), ('COMMON PHRASE', '</b> <b>', 'POLITE EXPRESSION'), ('IDIOM', '</b> <b>', 'OFTEN PEJORATIVE'), ('DATED', '</b> <b>', 'SELF-DEPRECATING'), ('COMMON PHRASE', '</b> <b>', 'COLLOQUIAL'), ('COMMON PHRASE', '</b> <b>', 'VULGAR'), ('DIALECT', '</b> <b>', 'OFTEN PEJORATIVE'), ('DIALECT', '</b> <b>', 'COURTEOUS')]\n",
      "{'BIOLOGY', 'TRANSLITERATION', 'LITERARY', 'IDIOM', 'FIGURATIVE', 'COLLOQUIAL', 'DATED', 'COMMON PHRASE', 'PHYSICS', 'COMPUTING', 'INTERJECTION', 'MATHEMATICS', 'ELECTRONICS', 'ARCHAIC', 'PHYSIOLOGY', 'ELECTRICITY', 'CHEMISTRY', 'PHILOSOPHY', 'DIALECT'}\n",
      "['</b> <b>']\n"
     ]
    }
   ],
   "source": [
    "# Create all part of speech kewords\n",
    "\n",
    "\n",
    "import regex as re\n",
    "import json\n",
    "\n",
    "# Load the formatted backs from the JSON file\n",
    "with open('resources/all_formatted_backs.json', 'r') as file:\n",
    "    all_formatted_backs = json.load(file)\n",
    "\n",
    "keywords = set()\n",
    "pattern = re.compile(r'(?<!<span style=\"font-size:0.80em;\"><span style=\"color:#B4B4B4;\">.*?</span></span>[\\s<>/br]{0,50})<span style=\"font-size:0.80em;\"><span style=\"color:#B4B4B4;\">(.*?)</span></span>(</b> <b>)<span style=\"font-size:0.80em;\"><span style=\"color:#B4B4B4;\">(.*?)</span></span>')\n",
    "\n",
    "for formatted_back in all_formatted_backs:\n",
    "    matches = pattern.findall(formatted_back)\n",
    "    keywords.update(matches)\n",
    "\n",
    "# Convert the set to a list since sets are not JSON serializable\n",
    "keywords_list = list(keywords)\n",
    "print(keywords_list)\n",
    "print(set([x[0] for x in keywords_list]))\n",
    "print(sorted(list(set([x[1] for x in keywords_list])), key=len))\n",
    "\n",
    "# # Save the list to a JSON file\n",
    "# with open('part_of_speech_keywords.json', 'w') as file:\n",
    "#     json.dump(keywords_list, file)"
   ]
  },
  {
   "cell_type": "code",
   "execution_count": 9,
   "metadata": {},
   "outputs": [
    {
     "name": "stdout",
     "output_type": "stream",
     "text": [
      "[('NOUN', 'ARCHAIC', 'MUSIC'), ('MEASURE WORD', 'ABBREVIATION', 'PHYSICS'), ('NOUN', 'GENERAL NAME FOR', 'BOTANY'), ('NOUN', 'ABBREVIATION', 'COMMERCE'), ('NOUN', 'ABBREVIATION', 'LITERATURE'), ('MEASURE WORD', 'ABBREVIATION', 'ELECTRICITY'), ('NOUN', 'TRANSLITERATION', 'BOTANY'), ('NOUN', 'ARCHAIC', 'MATHEMATICS')]\n"
     ]
    }
   ],
   "source": [
    "# Create all part of speech kewords\n",
    "\n",
    "\n",
    "import regex as re\n",
    "import json\n",
    "\n",
    "# Load the formatted backs from the JSON file\n",
    "with open('resources/all_formatted_backs.json', 'r') as file:\n",
    "    all_formatted_backs = json.load(file)\n",
    "\n",
    "keywords = set()\n",
    "pattern = re.compile(r'<span style=\"font-size:0.80em;\"><span style=\"color:#B4B4B4;\">(.*?)</span></span></b><br>\\n<b><span style=\"font-size:0.80em;\"><span style=\"color:#B4B4B4;\">(.*?)</span></span></b><br>\\n<b><span style=\"font-size:0.80em;\"><span style=\"color:#B4B4B4;\">(.*?)</span></span>')\n",
    "\n",
    "for formatted_back in all_formatted_backs:\n",
    "    matches = pattern.findall(formatted_back)\n",
    "    keywords.update(matches)\n",
    "\n",
    "# Convert the set to a list since sets are not JSON serializable\n",
    "keywords_list = list(keywords)\n",
    "print(keywords_list)\n",
    "\n",
    "# # Save the list to a JSON file\n",
    "# with open('part_of_speech_keywords.json', 'w') as file:\n",
    "#     json.dump(keywords_list, file)"
   ]
  },
  {
   "cell_type": "code",
   "execution_count": 10,
   "metadata": {},
   "outputs": [
    {
     "name": "stdout",
     "output_type": "stream",
     "text": [
      "[]\n"
     ]
    }
   ],
   "source": [
    "# Create all part of speech kewords\n",
    "\n",
    "\n",
    "import regex as re\n",
    "import json\n",
    "\n",
    "# Load the formatted backs from the JSON file\n",
    "with open('resources/all_formatted_backs.json', 'r') as file:\n",
    "    all_formatted_backs = json.load(file)\n",
    "\n",
    "keywords = set()\n",
    "pattern = re.compile(r'<span style=\"font-size:0.80em;\"><span style=\"color:#B4B4B4;\">(.*?)</span></span></b><br>\\n<b><span style=\"font-size:0.80em;\"><span style=\"color:#B4B4B4;\">(.*?)</span></span></b><br>\\n<b><span style=\"font-size:0.80em;\"><span style=\"color:#B4B4B4;\">(.*?)</span></span></b><br>\\n<b><span style=\"font-size:0.80em;\"><span style=\"color:#B4B4B4;\">(.*?)</span></span>')\n",
    "\n",
    "for formatted_back in all_formatted_backs:\n",
    "    matches = pattern.findall(formatted_back)\n",
    "    keywords.update(matches)\n",
    "\n",
    "# Convert the set to a list since sets are not JSON serializable\n",
    "keywords_list = list(keywords)\n",
    "print(keywords_list)\n",
    "\n",
    "# # Save the list to a JSON file\n",
    "# with open('part_of_speech_keywords.json', 'w') as file:\n",
    "#     json.dump(keywords_list, file)"
   ]
  },
  {
   "cell_type": "code",
   "execution_count": null,
   "metadata": {},
   "outputs": [],
   "source": [
    "<span style=\\\"font-size:0.80em;\\\"><span style=\\\"color:#B4B4B4;\\\">NOUN</span></span>   </b><br>\\n<b>   <span style=\\\"font-size:0.80em;\\\"><span style=\\\"color:#B4B4B4;\\\">DIALECT</span></span></b><br>\\n"
   ]
  }
 ],
 "metadata": {
  "kernelspec": {
   "display_name": "venv",
   "language": "python",
   "name": "python3"
  },
  "language_info": {
   "codemirror_mode": {
    "name": "ipython",
    "version": 3
   },
   "file_extension": ".py",
   "mimetype": "text/x-python",
   "name": "python",
   "nbconvert_exporter": "python",
   "pygments_lexer": "ipython3",
   "version": "3.12.8"
  }
 },
 "nbformat": 4,
 "nbformat_minor": 2
}
