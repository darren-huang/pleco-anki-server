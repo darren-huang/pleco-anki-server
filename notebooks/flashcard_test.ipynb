{
 "cells": [
  {
   "cell_type": "code",
   "execution_count": 2,
   "id": "32406423",
   "metadata": {},
   "outputs": [],
   "source": [
    "import os\n",
    "\n",
    "if not hasattr(os, \"_changed_to_parent\"):\n",
    "    os.chdir(\"..\")\n",
    "    os._changed_to_parent = True"
   ]
  },
  {
   "cell_type": "code",
   "execution_count": 4,
   "id": "130d58b3",
   "metadata": {},
   "outputs": [
    {
     "ename": "FileNotFoundError",
     "evalue": "[Errno 2] No such file or directory: 'cedict_ts.u8'",
     "output_type": "error",
     "traceback": [
      "\u001b[0;31m---------------------------------------------------------------------------\u001b[0m",
      "\u001b[0;31mFileNotFoundError\u001b[0m                         Traceback (most recent call last)",
      "Cell \u001b[0;32mIn[4], line 3\u001b[0m\n\u001b[1;32m      1\u001b[0m \u001b[38;5;28;01mimport\u001b[39;00m \u001b[38;5;21;01mos\u001b[39;00m\n\u001b[1;32m      2\u001b[0m \u001b[38;5;28;01mimport\u001b[39;00m \u001b[38;5;21;01mre\u001b[39;00m\n\u001b[0;32m----> 3\u001b[0m \u001b[38;5;28;01mfrom\u001b[39;00m \u001b[38;5;21;01msrc\u001b[39;00m\u001b[38;5;21;01m.\u001b[39;00m\u001b[38;5;21;01mflashcard_formatting\u001b[39;00m\u001b[38;5;21;01m.\u001b[39;00m\u001b[38;5;21;01mformat_entry\u001b[39;00m \u001b[38;5;28;01mimport\u001b[39;00m fmt_entry, grade_fmt_entry\n\u001b[1;32m      4\u001b[0m \u001b[38;5;28;01mfrom\u001b[39;00m \u001b[38;5;21;01msrc\u001b[39;00m\u001b[38;5;21;01m.\u001b[39;00m\u001b[38;5;21;01mutils\u001b[39;00m\u001b[38;5;21;01m.\u001b[39;00m\u001b[38;5;21;01mfile_utils\u001b[39;00m \u001b[38;5;28;01mimport\u001b[39;00m save_flashcard_entries\n\u001b[1;32m      5\u001b[0m \u001b[38;5;28;01mfrom\u001b[39;00m \u001b[38;5;21;01msrc\u001b[39;00m\u001b[38;5;21;01m.\u001b[39;00m\u001b[38;5;21;01mutils\u001b[39;00m\u001b[38;5;21;01m.\u001b[39;00m\u001b[38;5;21;01mgoogle_drive_utils\u001b[39;00m \u001b[38;5;28;01mimport\u001b[39;00m get_latest_flashcard_xml\n",
      "File \u001b[0;32m~/projects/pleco-anki-server/src/flashcard_formatting/format_entry.py:5\u001b[0m\n\u001b[1;32m      3\u001b[0m \u001b[38;5;28;01mfrom\u001b[39;00m \u001b[38;5;21;01msrc\u001b[39;00m\u001b[38;5;21;01m.\u001b[39;00m\u001b[38;5;21;01mflashcard_formatting\u001b[39;00m\u001b[38;5;21;01m.\u001b[39;00m\u001b[38;5;21;01mcolor_utils\u001b[39;00m \u001b[38;5;28;01mimport\u001b[39;00m get_pinyin_color\n\u001b[1;32m      4\u001b[0m \u001b[38;5;28;01mfrom\u001b[39;00m \u001b[38;5;21;01msrc\u001b[39;00m\u001b[38;5;21;01m.\u001b[39;00m\u001b[38;5;21;01mflashcard_formatting\u001b[39;00m\u001b[38;5;21;01m.\u001b[39;00m\u001b[38;5;21;01mhtml_utils\u001b[39;00m \u001b[38;5;28;01mimport\u001b[39;00m fix_separated_pos_tags, reorder_bold_and_color_spans\n\u001b[0;32m----> 5\u001b[0m \u001b[38;5;28;01mfrom\u001b[39;00m \u001b[38;5;21;01msrc\u001b[39;00m\u001b[38;5;21;01m.\u001b[39;00m\u001b[38;5;21;01mflashcard_formatting\u001b[39;00m\u001b[38;5;21;01m.\u001b[39;00m\u001b[38;5;21;01mlabel_segments\u001b[39;00m \u001b[38;5;28;01mimport\u001b[39;00m label_segments\n\u001b[1;32m      8\u001b[0m \u001b[38;5;28;01mdef\u001b[39;00m \u001b[38;5;21mfmt_entry\u001b[39m(entry):\n\u001b[1;32m      9\u001b[0m \u001b[38;5;250m    \u001b[39m\u001b[38;5;124;03m\"\"\"\u001b[39;00m\n\u001b[1;32m     10\u001b[0m \u001b[38;5;124;03m    Format a dictionary entry into HTML for Anki flashcard display.\u001b[39;00m\n\u001b[1;32m     11\u001b[0m \n\u001b[0;32m   (...)\u001b[0m\n\u001b[1;32m     20\u001b[0m \u001b[38;5;124;03m        str: Formatted HTML for the flashcard back\u001b[39;00m\n\u001b[1;32m     21\u001b[0m \u001b[38;5;124;03m    \"\"\"\u001b[39;00m\n",
      "File \u001b[0;32m~/projects/pleco-anki-server/src/flashcard_formatting/label_segments.py:6\u001b[0m\n\u001b[1;32m      4\u001b[0m \u001b[38;5;28;01mimport\u001b[39;00m \u001b[38;5;21;01mjson\u001b[39;00m\n\u001b[1;32m      5\u001b[0m \u001b[38;5;28;01mfrom\u001b[39;00m \u001b[38;5;21;01msrc\u001b[39;00m\u001b[38;5;21;01m.\u001b[39;00m\u001b[38;5;21;01mutils\u001b[39;00m\u001b[38;5;21;01m.\u001b[39;00m\u001b[38;5;21;01mutils\u001b[39;00m \u001b[38;5;28;01mimport\u001b[39;00m overlap_length\n\u001b[0;32m----> 6\u001b[0m \u001b[38;5;28;01mfrom\u001b[39;00m \u001b[38;5;21;01msrc\u001b[39;00m\u001b[38;5;21;01m.\u001b[39;00m\u001b[38;5;21;01mflashcard_formatting\u001b[39;00m\u001b[38;5;21;01m.\u001b[39;00m\u001b[38;5;21;01mexample_sentences\u001b[39;00m \u001b[38;5;28;01mimport\u001b[39;00m add_bold_segments\n\u001b[1;32m      9\u001b[0m \u001b[38;5;66;03m# Load the part of speech keywords from the JSON file\u001b[39;00m\n\u001b[1;32m     10\u001b[0m \u001b[38;5;28;01mwith\u001b[39;00m \u001b[38;5;28mopen\u001b[39m(\u001b[38;5;124m\"\u001b[39m\u001b[38;5;124mpart_of_speech_keywords.json\u001b[39m\u001b[38;5;124m\"\u001b[39m, \u001b[38;5;124m\"\u001b[39m\u001b[38;5;124mr\u001b[39m\u001b[38;5;124m\"\u001b[39m) \u001b[38;5;28;01mas\u001b[39;00m file:\n",
      "File \u001b[0;32m~/projects/pleco-anki-server/src/flashcard_formatting/example_sentences.py:14\u001b[0m\n\u001b[1;32m      5\u001b[0m \u001b[38;5;66;03m# Local imports\u001b[39;00m\n\u001b[1;32m      6\u001b[0m \u001b[38;5;28;01mfrom\u001b[39;00m \u001b[38;5;21;01msrc\u001b[39;00m\u001b[38;5;21;01m.\u001b[39;00m\u001b[38;5;21;01mutils\u001b[39;00m\u001b[38;5;21;01m.\u001b[39;00m\u001b[38;5;21;01mpinyin\u001b[39;00m \u001b[38;5;28;01mimport\u001b[39;00m (\n\u001b[1;32m      7\u001b[0m     strip_tone_marks,\n\u001b[1;32m      8\u001b[0m     load_manual_pinyins,\n\u001b[0;32m   (...)\u001b[0m\n\u001b[1;32m     12\u001b[0m     CONVERT_PUNC_DICT,\n\u001b[1;32m     13\u001b[0m )\n\u001b[0;32m---> 14\u001b[0m \u001b[38;5;28;01mfrom\u001b[39;00m \u001b[38;5;21;01msrc\u001b[39;00m\u001b[38;5;21;01m.\u001b[39;00m\u001b[38;5;21;01mutils\u001b[39;00m\u001b[38;5;21;01m.\u001b[39;00m\u001b[38;5;21;01mvariants_cached\u001b[39;00m \u001b[38;5;28;01mimport\u001b[39;00m get_variants\n\u001b[1;32m     17\u001b[0m \u001b[38;5;28;01mdef\u001b[39;00m \u001b[38;5;21mupdate_example_sentence_with_variants\u001b[39m(traditional_word, segment):\n\u001b[1;32m     18\u001b[0m \u001b[38;5;250m    \u001b[39m\u001b[38;5;124;03m\"\"\"\u001b[39;00m\n\u001b[1;32m     19\u001b[0m \u001b[38;5;124;03m    Updates example sentences in the segments list by checking if the traditional word or its variants\u001b[39;00m\n\u001b[1;32m     20\u001b[0m \u001b[38;5;124;03m    are present in the example sentences. If a variant is found, it is added to the example sentence dict.\u001b[39;00m\n\u001b[0;32m   (...)\u001b[0m\n\u001b[1;32m     27\u001b[0m \u001b[38;5;124;03m        list: Updated list of segments.\u001b[39;00m\n\u001b[1;32m     28\u001b[0m \u001b[38;5;124;03m    \"\"\"\u001b[39;00m\n",
      "File \u001b[0;32m~/projects/pleco-anki-server/src/utils/variants_cached.py:172\u001b[0m\n\u001b[1;32m    161\u001b[0m \u001b[38;5;28;01mdef\u001b[39;00m \u001b[38;5;21mget_variants\u001b[39m(word):\n\u001b[1;32m    162\u001b[0m     \u001b[38;5;28;01mreturn\u001b[39;00m (\n\u001b[1;32m    163\u001b[0m         load_cc_cedict()\n\u001b[1;32m    164\u001b[0m         \u001b[38;5;241m.\u001b[39mget(word, \u001b[38;5;28mset\u001b[39m())\n\u001b[0;32m   (...)\u001b[0m\n\u001b[1;32m    168\u001b[0m         \u001b[38;5;241m.\u001b[39munion(load_manual_variants()\u001b[38;5;241m.\u001b[39mget(word, \u001b[38;5;28mset\u001b[39m()))\n\u001b[1;32m    169\u001b[0m     )\n\u001b[0;32m--> 172\u001b[0m \u001b[43mload_cc_cedict\u001b[49m\u001b[43m(\u001b[49m\u001b[43m)\u001b[49m\n\u001b[1;32m    173\u001b[0m load_moedict()\n\u001b[1;32m    174\u001b[0m get_c_variants()\n",
      "File \u001b[0;32m~/projects/pleco-anki-server/src/utils/variants_cached.py:13\u001b[0m, in \u001b[0;36mload_cc_cedict\u001b[0;34m(filename)\u001b[0m\n\u001b[1;32m     11\u001b[0m \u001b[38;5;250m\u001b[39m\u001b[38;5;124;03m\"\"\"Parses CC-CEDICT to extract traditional-only variant mappings.\"\"\"\u001b[39;00m\n\u001b[1;32m     12\u001b[0m variants \u001b[38;5;241m=\u001b[39m {}\n\u001b[0;32m---> 13\u001b[0m \u001b[38;5;28;01mwith\u001b[39;00m \u001b[38;5;28;43mopen\u001b[39;49m\u001b[43m(\u001b[49m\u001b[43mfilename\u001b[49m\u001b[43m,\u001b[49m\u001b[43m \u001b[49m\u001b[43mencoding\u001b[49m\u001b[38;5;241;43m=\u001b[39;49m\u001b[38;5;124;43m\"\u001b[39;49m\u001b[38;5;124;43mutf-8\u001b[39;49m\u001b[38;5;124;43m\"\u001b[39;49m\u001b[43m)\u001b[49m \u001b[38;5;28;01mas\u001b[39;00m f:\n\u001b[1;32m     14\u001b[0m     \u001b[38;5;28;01mfor\u001b[39;00m line \u001b[38;5;129;01min\u001b[39;00m f:\n\u001b[1;32m     15\u001b[0m         \u001b[38;5;28;01mif\u001b[39;00m line\u001b[38;5;241m.\u001b[39mstartswith(\u001b[38;5;124m\"\u001b[39m\u001b[38;5;124m#\u001b[39m\u001b[38;5;124m\"\u001b[39m) \u001b[38;5;129;01mor\u001b[39;00m \u001b[38;5;129;01mnot\u001b[39;00m line\u001b[38;5;241m.\u001b[39mstrip():\n",
      "\u001b[0;31mFileNotFoundError\u001b[0m: [Errno 2] No such file or directory: 'cedict_ts.u8'"
     ]
    }
   ],
   "source": [
    "import os\n",
    "import re\n",
    "from src.flashcard_formatting.format_entry import fmt_entry, grade_fmt_entry\n",
    "from src.utils.file_utils import save_flashcard_entries\n",
    "from src.utils.google_drive_utils import get_latest_flashcard_xml\n",
    "from src.flashcard_formatting.flashcard_xml import process_flashcard_xml\n",
    "from src.utils.anki_connect import get_anki_deck_cards\n",
    "from src.utils.file_utils import convert_unicode_segments\n",
    "\n",
    "\n",
    "\"\"\"\n",
    "Main function to process and format flashcard entries.\n",
    "\"\"\"\n",
    "# Change to resources directory for file operations\n",
    "os.chdir(\"resources\")\n",
    "\n",
    "# Get Anki card information\n",
    "anki_cards = get_anki_deck_cards(\"Pleco Import\")\n",
    "anki_cards_dict = {\n",
    "    re.sub(r\"[^\\u4e00-\\u9fff]\", \"\", card[\"fields\"][\"Front\"][\"value\"]): card\n",
    "    for card in anki_cards\n",
    "}"
   ]
  },
  {
   "cell_type": "code",
   "execution_count": null,
   "id": "a1752ee8",
   "metadata": {},
   "outputs": [],
   "source": []
  },
  {
   "cell_type": "code",
   "execution_count": null,
   "id": "6b847d67",
   "metadata": {},
   "outputs": [],
   "source": []
  }
 ],
 "metadata": {
  "kernelspec": {
   "display_name": "venv (3.12.8)",
   "language": "python",
   "name": "python3"
  },
  "language_info": {
   "codemirror_mode": {
    "name": "ipython",
    "version": 3
   },
   "file_extension": ".py",
   "mimetype": "text/x-python",
   "name": "python",
   "nbconvert_exporter": "python",
   "pygments_lexer": "ipython3",
   "version": "3.12.8"
  }
 },
 "nbformat": 4,
 "nbformat_minor": 5
}
